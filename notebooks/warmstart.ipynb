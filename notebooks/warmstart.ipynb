{
 "cells": [
  {
   "cell_type": "code",
   "execution_count": 1,
   "id": "8fd026b3-f242-45ef-8063-1088ca8e50a7",
   "metadata": {},
   "outputs": [],
   "source": [
    "import sys\n",
    "import os\n",
    "import random\n",
    "import logging\n",
    "import time\n",
    "from tqdm.notebook import tqdm\n",
    "import pandas as pd\n",
    "\n",
    "sys.path.append('../')\n",
    "\n",
    "import numpy as np\n",
    "import matplotlib.pyplot as plt\n",
    "from IPython.display import clear_output\n",
    "import time\n",
    "from ocp import *\n",
    "from costs import *\n",
    "from ocp_utils import *\n",
    "from env_creator import EnvCreator, generate_sdf_rep\n",
    "from tensor_decomp import apply_tt\n",
    "from visualization_utils import plot_traj_projections, plot_traj_and_obs_3d\n",
    "\n",
    "import pybullet as p\n",
    "import pybullet_data\n",
    "import matplotlib.pyplot as plt\n",
    "\n",
    "import tensorflow as tf\n",
    "from tensorflow.keras.models import Sequential\n",
    "from tensorflow.keras.layers import Dense\n",
    "from sklearn.decomposition import PCA\n",
    "from sklearn.model_selection import train_test_split\n",
    "from sklearn.metrics import mean_squared_error\n",
    "\n",
    "from regression import NN_Regressor, GPy_Regressor\n",
    "from regression import rbf\n",
    "import numpy.matlib\n",
    "\n",
    "%load_ext autoreload\n",
    "%autoreload 2\n",
    "np.set_printoptions(precision=4, suppress=True)"
   ]
  },
  {
   "cell_type": "markdown",
   "id": "ea2fa779-61e3-4357-abb0-f4510557f8a4",
   "metadata": {},
   "source": [
    "#### Load data"
   ]
  },
  {
   "cell_type": "code",
   "execution_count": 38,
   "id": "279f9c94-3224-4b98-9365-c75e39f971c3",
   "metadata": {},
   "outputs": [],
   "source": [
    "# exp_name = 'var_start_goal_3000samples'\n",
    "# exp_name = 'start_goal_fixed_300samples_1'\n",
    "# exp_name = 'mult_obs_var_start_goal_1000samples_1'\n",
    "# exp_name = 'mult_obs_var_start_goal_1000samples_teguh'\n",
    "exp_name = 'var_start_goal_1000samples_no_waypoint'\n",
    "exp_name = 'mult_obs_var_start_goal_1000samples_teguh_noviapoint'"
   ]
  },
  {
   "cell_type": "code",
   "execution_count": null,
   "id": "f3a673fd-1903-4ed9-bfc3-d5f47c1ce4d2",
   "metadata": {},
   "outputs": [],
   "source": [
    "data = np.load('training_data/data_'+ exp_name +'.npy', allow_pickle=True)[()]"
   ]
  },
  {
   "cell_type": "code",
   "execution_count": 4,
   "id": "362692a9-7827-4f55-a749-e2d25b7787a9",
   "metadata": {},
   "outputs": [],
   "source": [
    "x_inputs = data['x_inputs']\n",
    "x_outputs = data['x_outputs']\n",
    "obs_set = data['obstacles']\n",
    "pca = data['pca']"
   ]
  },
  {
   "cell_type": "markdown",
   "id": "d952b359-3877-4920-ae52-ec0d61be0c2c",
   "metadata": {
    "tags": [],
    "toc-hr-collapsed": true
   },
   "source": [
    "#### Visualize data in pybullet"
   ]
  },
  {
   "cell_type": "code",
   "execution_count": 5,
   "id": "c43af7d1-430f-4f9a-afde-68a1ff0ffed3",
   "metadata": {},
   "outputs": [],
   "source": [
    "p.connect(p.DIRECT)\n",
    "p.setAdditionalSearchPath(pybullet_data.getDataPath())"
   ]
  },
  {
   "cell_type": "code",
   "execution_count": 6,
   "id": "51c2f628-0f63-4803-ade7-954563c44b22",
   "metadata": {},
   "outputs": [],
   "source": [
    "idx = np.random.randint(len(data['x_inputs']))\n",
    "x = x_inputs[idx]\n",
    "y = x_outputs[idx].reshape(-1,3)\n",
    "obstacles = obs_set[idx]\n",
    "x0, x_target = x[-6:-3],x[-3:]\n",
    "obj_id, init_id, target_id, border_id, obstacle_ids = init_pybullet(x0,x_target, obstacles)"
   ]
  },
  {
   "cell_type": "raw",
   "id": "5712c2e6-dcd1-4b24-b56b-fb314a46ef4b",
   "metadata": {},
   "source": [
    "plot_traj(y, obj_id)"
   ]
  },
  {
   "cell_type": "markdown",
   "id": "008427fa-3444-4d40-afb8-aacccfe14aa9",
   "metadata": {},
   "source": [
    "## Try prediction"
   ]
  },
  {
   "cell_type": "markdown",
   "id": "c3ee3533-32b0-4821-b996-65eeab1a733b",
   "metadata": {},
   "source": [
    "#### Load MDN model"
   ]
  },
  {
   "cell_type": "code",
   "execution_count": 7,
   "id": "6f726a81-80ab-4af8-bfb7-a89b430fce42",
   "metadata": {},
   "outputs": [],
   "source": [
    "save_path = os.path.join('/home/teguh/git/rli/iterative_lqr/notebooks/' + 'data/models/mdn_'+exp_name+'.h5')  "
   ]
  },
  {
   "cell_type": "code",
   "execution_count": 8,
   "id": "da77e472-fcb9-4927-89f1-9e2519932245",
   "metadata": {},
   "outputs": [],
   "source": [
    "import pickle as pkl\n",
    "import tensorflow_probability as tfp\n",
    "tf.keras.backend.set_floatx('float64')\n",
    "tfd = tfp.distributions\n",
    "tfpl = tfp.layers\n",
    "\n",
    "#### Setup the model (copy from the learning notebook)\n",
    "\n",
    "n_comps = 10\n",
    "D_out = 15\n",
    "D_in = 606\n",
    "n_comp_params_size = tfpl.IndependentNormal.params_size(event_shape=(D_out,))\n",
    "\n",
    "params_size = tfpl.MixtureSameFamily.params_size(num_components=n_comps, component_params_size=n_comp_params_size)\n",
    "\n",
    "mdn = Sequential([\n",
    "    Dense(256, activation='relu', input_shape=(D_in,), kernel_regularizer = tf.keras.regularizers.l2(1e-2)),\n",
    "    Dense(256, activation='relu', kernel_regularizer = tf.keras.regularizers.l2(1e-2)),\n",
    "    Dense(params_size),\n",
    "    tfpl.MixtureSameFamily(n_comps, tfpl.IndependentNormal(event_shape=(D_out,)))\n",
    "])\n",
    "\n",
    "\n",
    "#### Load the weights\n",
    "\n",
    "mdn.load_weights(save_path)"
   ]
  },
  {
   "cell_type": "markdown",
   "id": "b179a749-234a-4821-aca9-e18c6bd034bd",
   "metadata": {},
   "source": [
    "#### Load NN"
   ]
  },
  {
   "cell_type": "code",
   "execution_count": 9,
   "id": "188a330f-3bce-432c-9f88-8e9c40be236a",
   "metadata": {},
   "outputs": [],
   "source": [
    "save_path_nn = os.path.join('/home/teguh/git/rli/iterative_lqr/notebooks/' + 'data/models/nn_'+exp_name+'.h5')  "
   ]
  },
  {
   "cell_type": "raw",
   "id": "a0d44693-c450-4d6a-afac-8051702bcdda",
   "metadata": {},
   "source": [
    "nn = tf.keras.models.load_model('model_data/nn_'+exp_name+'.h5')"
   ]
  },
  {
   "cell_type": "code",
   "execution_count": 10,
   "id": "6c54249c-c4f2-4244-b768-1ea3e1a143c3",
   "metadata": {},
   "outputs": [],
   "source": [
    "nn = tf.keras.models.load_model(save_path_nn)"
   ]
  },
  {
   "cell_type": "code",
   "execution_count": 11,
   "id": "94b5bf46-2b04-49ed-b1a5-610b012f33e7",
   "metadata": {},
   "outputs": [
    {
     "name": "stdout",
     "output_type": "stream",
     "text": [
      "Model: \"sequential\"\n",
      "_________________________________________________________________\n",
      "Layer (type)                 Output Shape              Param #   \n",
      "=================================================================\n",
      "dense (Dense)                (None, 256)               155392    \n",
      "_________________________________________________________________\n",
      "dense_1 (Dense)              (None, 256)               65792     \n",
      "_________________________________________________________________\n",
      "dense_2 (Dense)              (None, 15)                3855      \n",
      "=================================================================\n",
      "Total params: 225,039\n",
      "Trainable params: 225,039\n",
      "Non-trainable params: 0\n",
      "_________________________________________________________________\n"
     ]
    }
   ],
   "source": [
    "nn.summary()"
   ]
  },
  {
   "cell_type": "markdown",
   "id": "7194e109-55b1-4259-b646-e5f5bb5ea836",
   "metadata": {},
   "source": [
    "#### Try prediction"
   ]
  },
  {
   "cell_type": "code",
   "execution_count": 27,
   "id": "b7dfd5ab-c4fd-4c8b-be0b-8cc3286b35bf",
   "metadata": {},
   "outputs": [],
   "source": [
    "model = mdn\n",
    "mode = 'mdn'\n",
    "n_sample = 10"
   ]
  },
  {
   "cell_type": "raw",
   "id": "98e34425-7bc1-434e-9c34-6c44629ff525",
   "metadata": {},
   "source": [
    "idx = np.random.randint(len(data['x_inputs']))\n",
    "x = x_inputs[idx]\n",
    "y = x_outputs[idx].reshape(-1,3)\n",
    "obstacles = obs_set[idx]\n",
    "x0, x_target = x[-6:-3],x[-3:]\n",
    "obj_id, init_id, target_id, border_id, obstacle_ids = init_pybullet(x0,x_target, obstacles)\n",
    "\n",
    "if mode == 'nn':\n",
    "    y_pred = nn.predict(x[None,:])\n",
    "    y_traj = pca.inverse_transform(y_pred).reshape(-1,3)\n",
    "elif mode == 'mdn': \n",
    "    y_pred = mdn(x[None,:]).sample(n_sample)\n",
    "    y_traj = pca.inverse_transform(y_pred).reshape(n_sample, -1, 3)\n",
    "    y_traj = get_best_mdn_prediction(y_traj, x, obstacles)"
   ]
  },
  {
   "cell_type": "raw",
   "id": "7ad445c7-5b50-48f1-a24c-158428f3fbe5",
   "metadata": {},
   "source": [
    "plot_traj(y_traj, obj_id)"
   ]
  },
  {
   "cell_type": "raw",
   "id": "b58e01b3-49f5-4655-b89a-95b9ba1cf7d9",
   "metadata": {},
   "source": [
    "plot_traj(y_traj, obj_id)"
   ]
  },
  {
   "cell_type": "raw",
   "id": "d4fc29a7-67e1-4bac-85b0-aa184b22c536",
   "metadata": {},
   "source": [
    "plot_traj_projections(y_traj, obstacles, x0 = x0, x_target=x_target)"
   ]
  },
  {
   "cell_type": "markdown",
   "id": "8136e359-85b4-4095-8de4-0feeecf17d3f",
   "metadata": {},
   "source": [
    "#### Adapt the prediction using lqt"
   ]
  },
  {
   "cell_type": "code",
   "execution_count": 42,
   "id": "7a279972-d03e-4d8b-87c9-bd14237b1fe9",
   "metadata": {},
   "outputs": [],
   "source": [
    "T = 100\n",
    "lin_sys = create_double_integrator()\n",
    "xs_init, us_init = create_lqt_init(lin_sys, y_traj, x0, x_target, T)"
   ]
  },
  {
   "cell_type": "code",
   "execution_count": 45,
   "id": "0bc48ac5-f29c-4321-ab50-4eb65b2d757a",
   "metadata": {},
   "outputs": [],
   "source": [
    "plot_traj(xs_init[:,:3], obj_id)"
   ]
  },
  {
   "cell_type": "raw",
   "id": "1b041e6f-4d86-4bf0-8d33-7bb7a410c10b",
   "metadata": {},
   "source": [
    "plot_traj_projections(y_traj, obstacles, x0 = x0, x_target=x_target, y_traj=xs_init)"
   ]
  },
  {
   "cell_type": "markdown",
   "id": "55af997e-a32f-4d19-9f6e-81d259b28b90",
   "metadata": {},
   "source": [
    "#### Create DDP problem"
   ]
  },
  {
   "cell_type": "code",
   "execution_count": 46,
   "id": "0653761b-655a-4959-ac15-e930baa46cde",
   "metadata": {},
   "outputs": [],
   "source": [
    "T = 100\n",
    "n_iter = 10\n",
    "\n",
    "x0 = np.concatenate([x0, np.zeros(3)])\n",
    "x_target = np.concatenate([x_target, np.zeros(3)])\n",
    "\n",
    "# Setup and solve problem \n",
    "prob, lin_sys = setup_ilqr(T, x0, x_target, obstacles)"
   ]
  },
  {
   "cell_type": "markdown",
   "id": "cd380f16-8f3a-466b-a143-085cd14bf7f8",
   "metadata": {},
   "source": [
    "#### Standard init"
   ]
  },
  {
   "cell_type": "code",
   "execution_count": 47,
   "id": "9b706630-5554-42f1-8c4c-56a7f173a570",
   "metadata": {},
   "outputs": [],
   "source": [
    "from ocp_utils import *"
   ]
  },
  {
   "cell_type": "code",
   "execution_count": 48,
   "id": "67396512-f106-4de4-817f-eca8cc06fbf8",
   "metadata": {},
   "outputs": [],
   "source": [
    "# xs_init, us_init = create_standard_init(lin_sys, x0, T)\n",
    "xs_init, us_init = create_linear_init(x0, x_target, T)\n",
    "\n",
    "#init using waypoint:\n",
    "# x_waypoint = np.array([0,0,-1,0,0,0])\n",
    "# xs_init, us_init = create_waypoint_init(x0, x_waypoint, x_target,  T)"
   ]
  },
  {
   "cell_type": "code",
   "execution_count": 49,
   "id": "df41bf55-b766-483e-b38b-743af475a808",
   "metadata": {},
   "outputs": [],
   "source": [
    "plot_traj(xs_init, obj_id)"
   ]
  },
  {
   "cell_type": "markdown",
   "id": "ab193acd-1440-49ae-9dad-22b43f058ea3",
   "metadata": {},
   "source": [
    "#### Solve DDP"
   ]
  },
  {
   "cell_type": "code",
   "execution_count": 50,
   "id": "5994aff5-1531-47c3-b580-7aeebc09d503",
   "metadata": {},
   "outputs": [
    {
     "name": "stdout",
     "output_type": "stream",
     "text": [
      "36.839194222144215 True\n"
     ]
    }
   ],
   "source": [
    "xs, us, ddp = solve_ilqr(prob, xs_init, us_init, iterations=n_iter, th_grad = 1e-6, th_stop = 1e-6)\n",
    "cost_std = ddp.cost\n",
    "feas_std = ddp.isFeasible\n",
    "\n",
    "print(cost_std, feas_std)"
   ]
  },
  {
   "cell_type": "markdown",
   "id": "847c005b-1a8d-4725-ae6b-0356e8a8f045",
   "metadata": {},
   "source": [
    "#### NN init"
   ]
  },
  {
   "cell_type": "code",
   "execution_count": 51,
   "id": "9fde1528-4e57-4310-8c7b-318b708d05df",
   "metadata": {},
   "outputs": [],
   "source": [
    "# xs_init, us_init = create_pred_init(y_traj, x0)\n",
    "xs_init, us_init = create_lqt_init(lin_sys, y_traj, x0, x_target, T)"
   ]
  },
  {
   "cell_type": "markdown",
   "id": "c24cf769-089f-49e7-a792-5566c9a89aad",
   "metadata": {},
   "source": [
    "#### Solve DDP"
   ]
  },
  {
   "cell_type": "code",
   "execution_count": 52,
   "id": "e41b4002-49bb-4e28-abc0-76696c65203b",
   "metadata": {},
   "outputs": [
    {
     "name": "stdout",
     "output_type": "stream",
     "text": [
      "Cost std:36.839194222144215, cost nn: 1.4237797361718778\n",
      "Feasible std:True, Feasible nn: True\n"
     ]
    }
   ],
   "source": [
    "xs, us, ddp = solve_ilqr(prob, xs_init, us_init, iterations=n_iter, th_grad = 1e-6, th_stop = 1e-6)\n",
    "cost_nn = ddp.cost\n",
    "feas_nn = ddp.isFeasible\n",
    "\n",
    "print('Cost std:{}, cost nn: {}'.format(cost_std, cost_nn))\n",
    "\n",
    "print('Feasible std:{}, Feasible nn: {}'.format(feas_std, feas_nn))"
   ]
  },
  {
   "cell_type": "raw",
   "id": "93a3fdae-41cc-4772-9d16-6193f33384fa",
   "metadata": {},
   "source": [
    "plot_traj(xs, obj_id, dt=0.01)"
   ]
  },
  {
   "cell_type": "code",
   "execution_count": 20,
   "id": "0d2d16a4-1671-4554-b9c4-7caaceea1057",
   "metadata": {},
   "outputs": [],
   "source": [
    "plot_traj(xs_init, obj_id, dt=0.01)"
   ]
  },
  {
   "cell_type": "markdown",
   "id": "6c53912a-8862-4d7a-a876-b3270f4b5844",
   "metadata": {},
   "source": [
    "#### Compare Initialization vs DDP solution"
   ]
  },
  {
   "cell_type": "raw",
   "id": "4dcbf2af-ffaf-4cbd-8bf2-a26460a014a4",
   "metadata": {},
   "source": [
    "for i in range(6):\n",
    "    plt.plot(xs_init[:,i], '--r', label='init')\n",
    "    plt.plot(xs[:,i], '--b', label='true')\n",
    "    plt.legend()\n",
    "    plt.show()"
   ]
  },
  {
   "cell_type": "markdown",
   "id": "5ac6ca9c-e446-440d-a361-0a681811f2e5",
   "metadata": {},
   "source": [
    "#### Divide data to train and test data"
   ]
  },
  {
   "cell_type": "code",
   "execution_count": 12,
   "id": "4189ca87-ed7b-4283-81f4-ef5109183f90",
   "metadata": {},
   "outputs": [],
   "source": [
    "n_samples = len(x_inputs)\n",
    "indices = np.arange(n_samples)\n",
    "x_train, x_test, y_train, y_test, train_idx, test_idx = train_test_split(x_inputs, x_outputs, indices, random_state=3, test_size=0.3)"
   ]
  },
  {
   "cell_type": "markdown",
   "id": "7eca9315-3d12-4e93-8ec5-251427d7a209",
   "metadata": {},
   "source": [
    "## Compare warmstarting performance in batches"
   ]
  },
  {
   "cell_type": "code",
   "execution_count": 16,
   "id": "c7b68216-c824-4ad9-861c-4612007958e1",
   "metadata": {},
   "outputs": [],
   "source": [
    "T = 100\n",
    "n_iter = 10 #number of ddp iterations\n",
    "model = mdn\n",
    "mode = 'mdn'\n",
    "n_sample = 10\n",
    "th_grad = 1e-6\n",
    "th_stop = 1e-6"
   ]
  },
  {
   "cell_type": "code",
   "execution_count": 33,
   "id": "70a7072d-e207-4c76-bfa2-ca6965ef4110",
   "metadata": {
    "scrolled": true,
    "tags": []
   },
   "outputs": [
    {
     "name": "stdout",
     "output_type": "stream",
     "text": [
      "-------------------\n",
      "50\n",
      "Feasible STD: 1, feasible NN: 1, feasible MDN: 1\n",
      "Cost STD: 0.732, Cost NN: 0.728, Cost MDN: 0.737\n",
      "Feasible STD: 2, feasible NN: 2, feasible MDN: 2\n",
      "Cost STD: 0.814, Cost NN: 0.815, Cost MDN: 0.825\n",
      "Feasible STD: 3, feasible NN: 3, feasible MDN: 3\n",
      "Cost STD: 1.027, Cost NN: 1.067, Cost MDN: 1.027\n",
      "Feasible STD: 4, feasible NN: 4, feasible MDN: 4\n",
      "Cost STD: 1.001, Cost NN: 1.030, Cost MDN: 0.997\n",
      "Feasible STD: 5, feasible NN: 5, feasible MDN: 5\n",
      "Cost STD: 0.959, Cost NN: 0.982, Cost MDN: 0.956\n",
      "Feasible STD: 6, feasible NN: 6, feasible MDN: 6\n",
      "Cost STD: 0.982, Cost NN: 1.001, Cost MDN: 0.997\n",
      "Feasible STD: 7, feasible NN: 7, feasible MDN: 7\n",
      "Cost STD: 0.946, Cost NN: 0.959, Cost MDN: 0.956\n",
      "Feasible STD: 8, feasible NN: 8, feasible MDN: 8\n",
      "Cost STD: 0.953, Cost NN: 0.965, Cost MDN: 0.962\n",
      "Feasible STD: 9, feasible NN: 9, feasible MDN: 9\n",
      "Cost STD: 1.012, Cost NN: 1.023, Cost MDN: 1.028\n",
      "Feasible STD: 10, feasible NN: 10, feasible MDN: 10\n",
      "Cost STD: 0.973, Cost NN: 0.982, Cost MDN: 0.987\n",
      "Feasible STD: 11, feasible NN: 11, feasible MDN: 11\n",
      "Cost STD: 1.003, Cost NN: 1.010, Cost MDN: 1.013\n",
      "Feasible STD: 12, feasible NN: 12, feasible MDN: 12\n",
      "Cost STD: 1.008, Cost NN: 1.015, Cost MDN: 1.018\n",
      "Feasible STD: 13, feasible NN: 13, feasible MDN: 13\n",
      "Cost STD: 1.001, Cost NN: 1.013, Cost MDN: 1.009\n",
      "Feasible STD: 14, feasible NN: 14, feasible MDN: 14\n",
      "Cost STD: 1.018, Cost NN: 1.034, Cost MDN: 1.026\n",
      "Feasible STD: 15, feasible NN: 15, feasible MDN: 15\n",
      "Cost STD: 1.006, Cost NN: 1.021, Cost MDN: 1.014\n",
      "Feasible STD: 16, feasible NN: 16, feasible MDN: 16\n",
      "Cost STD: 1.026, Cost NN: 1.033, Cost MDN: 1.025\n",
      "Feasible STD: 17, feasible NN: 17, feasible MDN: 17\n",
      "Cost STD: 1.023, Cost NN: 1.030, Cost MDN: 1.022\n",
      "Feasible STD: 18, feasible NN: 18, feasible MDN: 18\n",
      "Cost STD: 1.052, Cost NN: 1.059, Cost MDN: 1.054\n",
      "Feasible STD: 19, feasible NN: 19, feasible MDN: 19\n",
      "Cost STD: 1.061, Cost NN: 1.069, Cost MDN: 1.067\n",
      "Feasible STD: 20, feasible NN: 20, feasible MDN: 20\n",
      "Cost STD: 1.051, Cost NN: 1.058, Cost MDN: 1.056\n",
      "Feasible STD: 21, feasible NN: 21, feasible MDN: 21\n",
      "Cost STD: 1.034, Cost NN: 1.040, Cost MDN: 1.039\n",
      "Feasible STD: 22, feasible NN: 22, feasible MDN: 22\n",
      "Cost STD: 1.021, Cost NN: 1.028, Cost MDN: 1.027\n",
      "Feasible STD: 23, feasible NN: 23, feasible MDN: 23\n",
      "Cost STD: 1.031, Cost NN: 1.037, Cost MDN: 1.037\n",
      "Feasible STD: 24, feasible NN: 24, feasible MDN: 24\n",
      "Cost STD: 1.040, Cost NN: 1.047, Cost MDN: 1.047\n",
      "Feasible STD: 25, feasible NN: 25, feasible MDN: 25\n",
      "Cost STD: 1.055, Cost NN: 1.061, Cost MDN: 1.061\n",
      "Feasible STD: 26, feasible NN: 26, feasible MDN: 26\n",
      "Cost STD: 1.052, Cost NN: 1.050, Cost MDN: 1.051\n",
      "Feasible STD: 27, feasible NN: 27, feasible MDN: 27\n",
      "Cost STD: 1.041, Cost NN: 1.040, Cost MDN: 1.040\n",
      "Feasible STD: 28, feasible NN: 28, feasible MDN: 28\n",
      "Cost STD: 1.035, Cost NN: 1.034, Cost MDN: 1.035\n",
      "Feasible STD: 29, feasible NN: 29, feasible MDN: 29\n",
      "Cost STD: 1.046, Cost NN: 1.043, Cost MDN: 1.043\n",
      "Feasible STD: 30, feasible NN: 30, feasible MDN: 30\n",
      "Cost STD: 1.046, Cost NN: 1.042, Cost MDN: 1.045\n",
      "Feasible STD: 31, feasible NN: 31, feasible MDN: 31\n",
      "Cost STD: 1.170, Cost NN: 1.166, Cost MDN: 1.168\n",
      "Feasible STD: 32, feasible NN: 32, feasible MDN: 32\n",
      "Cost STD: 1.181, Cost NN: 1.176, Cost MDN: 1.179\n",
      "Feasible STD: 33, feasible NN: 33, feasible MDN: 33\n",
      "Cost STD: 1.174, Cost NN: 1.169, Cost MDN: 1.172\n",
      "Feasible STD: 34, feasible NN: 34, feasible MDN: 34\n",
      "Cost STD: 1.168, Cost NN: 1.165, Cost MDN: 1.167\n",
      "Feasible STD: 35, feasible NN: 35, feasible MDN: 35\n",
      "Cost STD: 1.152, Cost NN: 1.147, Cost MDN: 1.150\n",
      "Feasible STD: 36, feasible NN: 36, feasible MDN: 36\n",
      "Cost STD: 1.151, Cost NN: 1.147, Cost MDN: 1.154\n",
      "Feasible STD: 37, feasible NN: 37, feasible MDN: 37\n",
      "Cost STD: 1.149, Cost NN: 1.145, Cost MDN: 1.151\n",
      "Feasible STD: 38, feasible NN: 38, feasible MDN: 38\n",
      "Cost STD: 1.138, Cost NN: 1.134, Cost MDN: 1.140\n",
      "Feasible STD: 39, feasible NN: 39, feasible MDN: 39\n",
      "Cost STD: 1.135, Cost NN: 1.130, Cost MDN: 1.137\n",
      "Feasible STD: 40, feasible NN: 40, feasible MDN: 40\n",
      "Cost STD: 1.123, Cost NN: 1.119, Cost MDN: 1.125\n",
      "Feasible STD: 41, feasible NN: 41, feasible MDN: 41\n",
      "Cost STD: 1.131, Cost NN: 1.129, Cost MDN: 1.134\n",
      "Feasible STD: 42, feasible NN: 42, feasible MDN: 42\n",
      "Cost STD: 1.131, Cost NN: 1.129, Cost MDN: 1.134\n",
      "Feasible STD: 43, feasible NN: 43, feasible MDN: 43\n",
      "Cost STD: 1.125, Cost NN: 1.123, Cost MDN: 1.128\n",
      "Feasible STD: 44, feasible NN: 44, feasible MDN: 44\n",
      "Cost STD: 1.123, Cost NN: 1.120, Cost MDN: 1.134\n",
      "Feasible STD: 45, feasible NN: 45, feasible MDN: 45\n",
      "Cost STD: 1.115, Cost NN: 1.112, Cost MDN: 1.126\n",
      "Feasible STD: 46, feasible NN: 46, feasible MDN: 46\n",
      "Cost STD: 1.201, Cost NN: 1.197, Cost MDN: 1.204\n",
      "Feasible STD: 47, feasible NN: 47, feasible MDN: 47\n",
      "Cost STD: 1.190, Cost NN: 1.187, Cost MDN: 1.192\n",
      "Feasible STD: 48, feasible NN: 48, feasible MDN: 48\n",
      "Cost STD: 1.188, Cost NN: 1.186, Cost MDN: 1.192\n",
      "Feasible STD: 49, feasible NN: 49, feasible MDN: 49\n",
      "Cost STD: 1.183, Cost NN: 1.178, Cost MDN: 1.184\n",
      "Feasible STD: 50, feasible NN: 50, feasible MDN: 50\n",
      "Cost STD: 1.192, Cost NN: 1.187, Cost MDN: 1.195\n",
      "Feasible STD: 51, feasible NN: 51, feasible MDN: 51\n",
      "Cost STD: 1.193, Cost NN: 1.188, Cost MDN: 1.198\n",
      "Feasible STD: 52, feasible NN: 52, feasible MDN: 52\n",
      "Cost STD: 1.198, Cost NN: 1.187, Cost MDN: 1.199\n",
      "Feasible STD: 53, feasible NN: 53, feasible MDN: 53\n",
      "Cost STD: 1.194, Cost NN: 1.183, Cost MDN: 1.195\n",
      "Feasible STD: 54, feasible NN: 54, feasible MDN: 54\n",
      "Cost STD: 1.185, Cost NN: 1.175, Cost MDN: 1.187\n",
      "Feasible STD: 55, feasible NN: 55, feasible MDN: 55\n",
      "Cost STD: 1.175, Cost NN: 1.165, Cost MDN: 1.177\n",
      "Feasible STD: 56, feasible NN: 56, feasible MDN: 56\n",
      "Cost STD: 1.174, Cost NN: 1.164, Cost MDN: 1.176\n",
      "Feasible STD: 57, feasible NN: 57, feasible MDN: 57\n",
      "Cost STD: 1.166, Cost NN: 1.155, Cost MDN: 1.167\n",
      "Feasible STD: 58, feasible NN: 58, feasible MDN: 58\n",
      "Cost STD: 1.366, Cost NN: 1.355, Cost MDN: 1.367\n",
      "Feasible STD: 59, feasible NN: 59, feasible MDN: 59\n",
      "Cost STD: 1.353, Cost NN: 1.343, Cost MDN: 1.354\n",
      "Feasible STD: 60, feasible NN: 60, feasible MDN: 60\n",
      "Cost STD: 1.348, Cost NN: 1.337, Cost MDN: 1.349\n",
      "Feasible STD: 61, feasible NN: 61, feasible MDN: 61\n",
      "Cost STD: 1.343, Cost NN: 1.332, Cost MDN: 1.343\n",
      "Feasible STD: 62, feasible NN: 62, feasible MDN: 62\n",
      "Cost STD: 1.336, Cost NN: 1.326, Cost MDN: 1.337\n",
      "Feasible STD: 63, feasible NN: 63, feasible MDN: 63\n",
      "Cost STD: 1.337, Cost NN: 1.328, Cost MDN: 1.338\n",
      "Feasible STD: 64, feasible NN: 64, feasible MDN: 64\n",
      "Cost STD: 1.334, Cost NN: 1.325, Cost MDN: 1.335\n",
      "Feasible STD: 65, feasible NN: 65, feasible MDN: 65\n",
      "Cost STD: 1.323, Cost NN: 1.313, Cost MDN: 1.322\n",
      "Feasible STD: 66, feasible NN: 66, feasible MDN: 66\n",
      "Cost STD: 1.314, Cost NN: 1.304, Cost MDN: 1.313\n",
      "Feasible STD: 67, feasible NN: 67, feasible MDN: 67\n",
      "Cost STD: 1.313, Cost NN: 1.302, Cost MDN: 1.311\n",
      "Feasible STD: 68, feasible NN: 68, feasible MDN: 68\n",
      "Cost STD: 1.314, Cost NN: 1.304, Cost MDN: 1.317\n",
      "Feasible STD: 69, feasible NN: 69, feasible MDN: 69\n",
      "Cost STD: 1.305, Cost NN: 1.295, Cost MDN: 1.309\n",
      "Feasible STD: 70, feasible NN: 70, feasible MDN: 70\n",
      "Cost STD: 1.298, Cost NN: 1.289, Cost MDN: 1.302\n",
      "Feasible STD: 71, feasible NN: 71, feasible MDN: 71\n",
      "Cost STD: 1.315, Cost NN: 1.309, Cost MDN: 1.320\n",
      "Feasible STD: 72, feasible NN: 72, feasible MDN: 72\n",
      "Cost STD: 1.314, Cost NN: 1.308, Cost MDN: 1.318\n",
      "Feasible STD: 73, feasible NN: 73, feasible MDN: 73\n",
      "Cost STD: 1.309, Cost NN: 1.302, Cost MDN: 1.314\n",
      "Feasible STD: 74, feasible NN: 74, feasible MDN: 74\n",
      "Cost STD: 1.303, Cost NN: 1.298, Cost MDN: 1.308\n",
      "Feasible STD: 75, feasible NN: 75, feasible MDN: 75\n",
      "Cost STD: 1.301, Cost NN: 1.296, Cost MDN: 1.306\n",
      "Feasible STD: 76, feasible NN: 76, feasible MDN: 76\n",
      "Cost STD: 1.300, Cost NN: 1.295, Cost MDN: 1.305\n",
      "Feasible STD: 77, feasible NN: 77, feasible MDN: 77\n",
      "Cost STD: 1.295, Cost NN: 1.290, Cost MDN: 1.300\n",
      "Feasible STD: 78, feasible NN: 78, feasible MDN: 78\n",
      "Cost STD: 1.290, Cost NN: 1.285, Cost MDN: 1.295\n",
      "Feasible STD: 79, feasible NN: 79, feasible MDN: 79\n",
      "Cost STD: 1.285, Cost NN: 1.280, Cost MDN: 1.290\n",
      "Feasible STD: 80, feasible NN: 80, feasible MDN: 80\n",
      "Cost STD: 1.282, Cost NN: 1.276, Cost MDN: 1.287\n",
      "Feasible STD: 81, feasible NN: 81, feasible MDN: 81\n",
      "Cost STD: 1.272, Cost NN: 1.267, Cost MDN: 1.278\n",
      "Feasible STD: 82, feasible NN: 82, feasible MDN: 82\n",
      "Cost STD: 1.266, Cost NN: 1.260, Cost MDN: 1.270\n",
      "Feasible STD: 83, feasible NN: 83, feasible MDN: 83\n",
      "Cost STD: 1.258, Cost NN: 1.253, Cost MDN: 1.263\n",
      "Feasible STD: 84, feasible NN: 84, feasible MDN: 84\n",
      "Cost STD: 1.262, Cost NN: 1.259, Cost MDN: 1.268\n",
      "Feasible STD: 85, feasible NN: 85, feasible MDN: 85\n",
      "Cost STD: 1.258, Cost NN: 1.254, Cost MDN: 1.263\n",
      "Feasible STD: 86, feasible NN: 86, feasible MDN: 86\n",
      "Cost STD: 1.254, Cost NN: 1.250, Cost MDN: 1.263\n",
      "Feasible STD: 87, feasible NN: 87, feasible MDN: 87\n",
      "Cost STD: 1.251, Cost NN: 1.246, Cost MDN: 1.259\n",
      "Feasible STD: 88, feasible NN: 88, feasible MDN: 88\n",
      "Cost STD: 1.246, Cost NN: 1.242, Cost MDN: 1.255\n",
      "Feasible STD: 89, feasible NN: 89, feasible MDN: 89\n",
      "Cost STD: 1.243, Cost NN: 1.240, Cost MDN: 1.253\n",
      "Feasible STD: 90, feasible NN: 90, feasible MDN: 90\n",
      "Cost STD: 1.335, Cost NN: 1.332, Cost MDN: 1.348\n",
      "Feasible STD: 91, feasible NN: 91, feasible MDN: 91\n",
      "Cost STD: 1.327, Cost NN: 1.324, Cost MDN: 1.340\n",
      "Feasible STD: 92, feasible NN: 92, feasible MDN: 92\n",
      "Cost STD: 1.320, Cost NN: 1.317, Cost MDN: 1.333\n",
      "Feasible STD: 93, feasible NN: 93, feasible MDN: 93\n",
      "Cost STD: 1.315, Cost NN: 1.312, Cost MDN: 1.327\n",
      "Feasible STD: 94, feasible NN: 94, feasible MDN: 94\n",
      "Cost STD: 1.306, Cost NN: 1.303, Cost MDN: 1.319\n",
      "Feasible STD: 95, feasible NN: 95, feasible MDN: 95\n",
      "Cost STD: 1.300, Cost NN: 1.297, Cost MDN: 1.313\n",
      "Feasible STD: 96, feasible NN: 96, feasible MDN: 96\n",
      "Cost STD: 1.295, Cost NN: 1.291, Cost MDN: 1.307\n",
      "Feasible STD: 97, feasible NN: 97, feasible MDN: 97\n",
      "Cost STD: 1.289, Cost NN: 1.286, Cost MDN: 1.301\n",
      "Feasible STD: 98, feasible NN: 98, feasible MDN: 98\n",
      "Cost STD: 1.304, Cost NN: 1.301, Cost MDN: 1.316\n",
      "Feasible STD: 99, feasible NN: 99, feasible MDN: 99\n",
      "Cost STD: 1.301, Cost NN: 1.299, Cost MDN: 1.313\n",
      "Feasible STD: 100, feasible NN: 100, feasible MDN: 100\n",
      "Cost STD: 1.299, Cost NN: 1.297, Cost MDN: 1.311\n",
      "Feasible STD: 101, feasible NN: 101, feasible MDN: 101\n",
      "Cost STD: 1.296, Cost NN: 1.293, Cost MDN: 1.308\n",
      "Feasible STD: 102, feasible NN: 102, feasible MDN: 102\n",
      "Cost STD: 1.293, Cost NN: 1.290, Cost MDN: 1.305\n",
      "Feasible STD: 103, feasible NN: 103, feasible MDN: 103\n",
      "Cost STD: 1.292, Cost NN: 1.288, Cost MDN: 1.303\n",
      "Feasible STD: 104, feasible NN: 104, feasible MDN: 104\n",
      "Cost STD: 1.289, Cost NN: 1.286, Cost MDN: 1.301\n",
      "Feasible STD: 105, feasible NN: 105, feasible MDN: 105\n",
      "Cost STD: 1.286, Cost NN: 1.283, Cost MDN: 1.298\n",
      "Feasible STD: 106, feasible NN: 106, feasible MDN: 106\n",
      "Cost STD: 1.284, Cost NN: 1.281, Cost MDN: 1.295\n",
      "Feasible STD: 107, feasible NN: 107, feasible MDN: 107\n",
      "Cost STD: 1.280, Cost NN: 1.277, Cost MDN: 1.291\n",
      "Feasible STD: 108, feasible NN: 108, feasible MDN: 108\n",
      "Cost STD: 1.276, Cost NN: 1.273, Cost MDN: 1.287\n",
      "Feasible STD: 109, feasible NN: 109, feasible MDN: 109\n",
      "Cost STD: 1.275, Cost NN: 1.273, Cost MDN: 1.287\n",
      "Feasible STD: 110, feasible NN: 110, feasible MDN: 110\n",
      "Cost STD: 1.271, Cost NN: 1.268, Cost MDN: 1.282\n",
      "Feasible STD: 111, feasible NN: 111, feasible MDN: 111\n",
      "Cost STD: 1.269, Cost NN: 1.267, Cost MDN: 1.280\n",
      "Feasible STD: 112, feasible NN: 112, feasible MDN: 112\n",
      "Cost STD: 1.267, Cost NN: 1.266, Cost MDN: 1.279\n",
      "Feasible STD: 113, feasible NN: 113, feasible MDN: 113\n",
      "Cost STD: 1.261, Cost NN: 1.260, Cost MDN: 1.272\n",
      "Feasible STD: 114, feasible NN: 114, feasible MDN: 114\n",
      "Cost STD: 1.258, Cost NN: 1.257, Cost MDN: 1.269\n",
      "Feasible STD: 115, feasible NN: 115, feasible MDN: 115\n",
      "Cost STD: 1.257, Cost NN: 1.255, Cost MDN: 1.267\n",
      "Feasible STD: 116, feasible NN: 116, feasible MDN: 116\n",
      "Cost STD: 1.253, Cost NN: 1.250, Cost MDN: 1.263\n",
      "Feasible STD: 117, feasible NN: 117, feasible MDN: 117\n",
      "Cost STD: 1.250, Cost NN: 1.247, Cost MDN: 1.260\n",
      "Feasible STD: 118, feasible NN: 118, feasible MDN: 118\n",
      "Cost STD: 1.250, Cost NN: 1.248, Cost MDN: 1.260\n",
      "Feasible STD: 119, feasible NN: 119, feasible MDN: 119\n",
      "Cost STD: 1.248, Cost NN: 1.246, Cost MDN: 1.258\n",
      "Feasible STD: 120, feasible NN: 120, feasible MDN: 120\n",
      "Cost STD: 1.249, Cost NN: 1.245, Cost MDN: 1.257\n",
      "Feasible STD: 121, feasible NN: 121, feasible MDN: 121\n",
      "Cost STD: 1.248, Cost NN: 1.244, Cost MDN: 1.256\n",
      "Feasible STD: 122, feasible NN: 122, feasible MDN: 122\n",
      "Cost STD: 1.246, Cost NN: 1.242, Cost MDN: 1.253\n",
      "Feasible STD: 123, feasible NN: 123, feasible MDN: 123\n",
      "Cost STD: 1.246, Cost NN: 1.242, Cost MDN: 1.254\n",
      "Feasible STD: 124, feasible NN: 124, feasible MDN: 124\n",
      "Cost STD: 1.245, Cost NN: 1.241, Cost MDN: 1.257\n",
      "Feasible STD: 125, feasible NN: 125, feasible MDN: 125\n",
      "Cost STD: 1.246, Cost NN: 1.242, Cost MDN: 1.257\n",
      "Feasible STD: 126, feasible NN: 126, feasible MDN: 126\n",
      "Cost STD: 1.245, Cost NN: 1.241, Cost MDN: 1.257\n",
      "Feasible STD: 127, feasible NN: 127, feasible MDN: 127\n",
      "Cost STD: 1.245, Cost NN: 1.241, Cost MDN: 1.257\n",
      "Feasible STD: 128, feasible NN: 128, feasible MDN: 128\n",
      "Cost STD: 1.243, Cost NN: 1.239, Cost MDN: 1.255\n",
      "Feasible STD: 129, feasible NN: 129, feasible MDN: 129\n",
      "Cost STD: 1.243, Cost NN: 1.238, Cost MDN: 1.254\n",
      "Feasible STD: 130, feasible NN: 130, feasible MDN: 130\n",
      "Cost STD: 1.239, Cost NN: 1.235, Cost MDN: 1.251\n",
      "Feasible STD: 131, feasible NN: 131, feasible MDN: 131\n",
      "Cost STD: 1.235, Cost NN: 1.231, Cost MDN: 1.248\n",
      "Feasible STD: 132, feasible NN: 132, feasible MDN: 132\n",
      "Cost STD: 1.231, Cost NN: 1.227, Cost MDN: 1.244\n",
      "Feasible STD: 133, feasible NN: 133, feasible MDN: 133\n",
      "Cost STD: 1.227, Cost NN: 1.223, Cost MDN: 1.240\n",
      "Feasible STD: 134, feasible NN: 134, feasible MDN: 134\n",
      "Cost STD: 1.226, Cost NN: 1.222, Cost MDN: 1.240\n",
      "Feasible STD: 135, feasible NN: 135, feasible MDN: 135\n",
      "Cost STD: 1.228, Cost NN: 1.222, Cost MDN: 1.239\n",
      "Feasible STD: 136, feasible NN: 136, feasible MDN: 136\n",
      "Cost STD: 1.225, Cost NN: 1.219, Cost MDN: 1.236\n",
      "Feasible STD: 137, feasible NN: 137, feasible MDN: 137\n",
      "Cost STD: 1.230, Cost NN: 1.221, Cost MDN: 1.238\n",
      "Feasible STD: 138, feasible NN: 138, feasible MDN: 138\n",
      "Cost STD: 1.228, Cost NN: 1.219, Cost MDN: 1.235\n",
      "Feasible STD: 139, feasible NN: 139, feasible MDN: 139\n",
      "Cost STD: 1.229, Cost NN: 1.219, Cost MDN: 1.235\n",
      "Feasible STD: 140, feasible NN: 140, feasible MDN: 140\n",
      "Cost STD: 1.226, Cost NN: 1.216, Cost MDN: 1.232\n",
      "Feasible STD: 141, feasible NN: 141, feasible MDN: 141\n",
      "Cost STD: 1.224, Cost NN: 1.214, Cost MDN: 1.230\n",
      "Feasible STD: 142, feasible NN: 142, feasible MDN: 142\n",
      "Cost STD: 1.220, Cost NN: 1.210, Cost MDN: 1.226\n",
      "Feasible STD: 143, feasible NN: 143, feasible MDN: 143\n",
      "Cost STD: 1.219, Cost NN: 1.210, Cost MDN: 1.225\n",
      "Feasible STD: 144, feasible NN: 144, feasible MDN: 144\n",
      "Cost STD: 1.218, Cost NN: 1.209, Cost MDN: 1.224\n",
      "Feasible STD: 145, feasible NN: 145, feasible MDN: 145\n",
      "Cost STD: 1.218, Cost NN: 1.209, Cost MDN: 1.224\n",
      "Feasible STD: 146, feasible NN: 146, feasible MDN: 146\n",
      "Cost STD: 1.260, Cost NN: 1.252, Cost MDN: 1.266\n",
      "Feasible STD: 147, feasible NN: 147, feasible MDN: 147\n",
      "Cost STD: 1.259, Cost NN: 1.250, Cost MDN: 1.264\n",
      "Feasible STD: 148, feasible NN: 148, feasible MDN: 148\n",
      "Cost STD: 1.255, Cost NN: 1.246, Cost MDN: 1.261\n",
      "Feasible STD: 149, feasible NN: 149, feasible MDN: 149\n",
      "Cost STD: 1.253, Cost NN: 1.245, Cost MDN: 1.259\n",
      "Feasible STD: 150, feasible NN: 150, feasible MDN: 150\n",
      "Cost STD: 1.251, Cost NN: 1.243, Cost MDN: 1.257\n",
      "Feasible STD: 151, feasible NN: 151, feasible MDN: 151\n",
      "Cost STD: 1.251, Cost NN: 1.242, Cost MDN: 1.256\n",
      "Feasible STD: 152, feasible NN: 152, feasible MDN: 152\n",
      "Cost STD: 1.249, Cost NN: 1.241, Cost MDN: 1.255\n",
      "Feasible STD: 153, feasible NN: 153, feasible MDN: 153\n",
      "Cost STD: 1.246, Cost NN: 1.237, Cost MDN: 1.251\n",
      "Feasible STD: 154, feasible NN: 154, feasible MDN: 154\n",
      "Cost STD: 1.248, Cost NN: 1.240, Cost MDN: 1.253\n",
      "Feasible STD: 155, feasible NN: 155, feasible MDN: 155\n",
      "Cost STD: 1.245, Cost NN: 1.237, Cost MDN: 1.251\n",
      "Feasible STD: 156, feasible NN: 156, feasible MDN: 156\n",
      "Cost STD: 1.241, Cost NN: 1.234, Cost MDN: 1.247\n",
      "Feasible STD: 157, feasible NN: 157, feasible MDN: 157\n",
      "Cost STD: 1.238, Cost NN: 1.231, Cost MDN: 1.244\n",
      "Feasible STD: 158, feasible NN: 158, feasible MDN: 158\n",
      "Cost STD: 1.236, Cost NN: 1.228, Cost MDN: 1.245\n",
      "Feasible STD: 159, feasible NN: 159, feasible MDN: 159\n",
      "Cost STD: 1.236, Cost NN: 1.227, Cost MDN: 1.244\n",
      "Feasible STD: 160, feasible NN: 160, feasible MDN: 160\n",
      "Cost STD: 1.235, Cost NN: 1.226, Cost MDN: 1.243\n"
     ]
    },
    {
     "ename": "KeyboardInterrupt",
     "evalue": "",
     "output_type": "error",
     "traceback": [
      "\u001b[0;31m---------------------------------------------------------------------------\u001b[0m",
      "\u001b[0;31mKeyboardInterrupt\u001b[0m                         Traceback (most recent call last)",
      "\u001b[0;32m<ipython-input-33-9d0bb5c09bac>\u001b[0m in \u001b[0;36m<module>\u001b[0;34m\u001b[0m\n\u001b[1;32m     41\u001b[0m         \u001b[0my_traj\u001b[0m \u001b[0;34m=\u001b[0m \u001b[0mpca\u001b[0m\u001b[0;34m.\u001b[0m\u001b[0minverse_transform\u001b[0m\u001b[0;34m(\u001b[0m\u001b[0my_pred\u001b[0m\u001b[0;34m)\u001b[0m\u001b[0;34m.\u001b[0m\u001b[0mreshape\u001b[0m\u001b[0;34m(\u001b[0m\u001b[0;34m-\u001b[0m\u001b[0;36m1\u001b[0m\u001b[0;34m,\u001b[0m\u001b[0;36m3\u001b[0m\u001b[0;34m)\u001b[0m\u001b[0;34m\u001b[0m\u001b[0;34m\u001b[0m\u001b[0m\n\u001b[1;32m     42\u001b[0m         \u001b[0mxs_init\u001b[0m\u001b[0;34m,\u001b[0m \u001b[0mus_init\u001b[0m \u001b[0;34m=\u001b[0m \u001b[0mcreate_lqt_init\u001b[0m\u001b[0;34m(\u001b[0m\u001b[0mlin_sys\u001b[0m\u001b[0;34m,\u001b[0m \u001b[0my_traj\u001b[0m\u001b[0;34m,\u001b[0m \u001b[0mx0\u001b[0m\u001b[0;34m,\u001b[0m \u001b[0mx_target\u001b[0m\u001b[0;34m,\u001b[0m \u001b[0mT\u001b[0m\u001b[0;34m)\u001b[0m\u001b[0;34m\u001b[0m\u001b[0;34m\u001b[0m\u001b[0m\n\u001b[0;32m---> 43\u001b[0;31m         \u001b[0mxs\u001b[0m\u001b[0;34m,\u001b[0m \u001b[0mus\u001b[0m\u001b[0;34m,\u001b[0m \u001b[0mddp\u001b[0m \u001b[0;34m=\u001b[0m \u001b[0msolve_ilqr\u001b[0m\u001b[0;34m(\u001b[0m\u001b[0mprob\u001b[0m\u001b[0;34m,\u001b[0m \u001b[0mxs_init\u001b[0m\u001b[0;34m,\u001b[0m \u001b[0mus_init\u001b[0m\u001b[0;34m,\u001b[0m \u001b[0miterations\u001b[0m\u001b[0;34m=\u001b[0m\u001b[0mn_iter\u001b[0m\u001b[0;34m,\u001b[0m \u001b[0mth_grad\u001b[0m \u001b[0;34m=\u001b[0m \u001b[0mth_grad\u001b[0m\u001b[0;34m,\u001b[0m \u001b[0mth_stop\u001b[0m \u001b[0;34m=\u001b[0m \u001b[0mth_stop\u001b[0m\u001b[0;34m)\u001b[0m\u001b[0;34m\u001b[0m\u001b[0;34m\u001b[0m\u001b[0m\n\u001b[0m\u001b[1;32m     44\u001b[0m         \u001b[0mcost_nn\u001b[0m \u001b[0;34m=\u001b[0m \u001b[0mddp\u001b[0m\u001b[0;34m.\u001b[0m\u001b[0mcost\u001b[0m\u001b[0;34m\u001b[0m\u001b[0;34m\u001b[0m\u001b[0m\n\u001b[1;32m     45\u001b[0m         \u001b[0mfeas_nn\u001b[0m \u001b[0;34m=\u001b[0m \u001b[0mddp\u001b[0m\u001b[0;34m.\u001b[0m\u001b[0misFeasible\u001b[0m\u001b[0;34m\u001b[0m\u001b[0;34m\u001b[0m\u001b[0m\n",
      "\u001b[0;32m~/git/rli/iterative_lqr/notebooks/lara_example/../ocp_utils.py\u001b[0m in \u001b[0;36msolve_ilqr\u001b[0;34m(croc_prob, xs_init, us_init, iterations, th_grad, th_stop, x_reg, u_reg)\u001b[0m\n\u001b[1;32m    371\u001b[0m     \u001b[0mddp\u001b[0m\u001b[0;34m.\u001b[0m\u001b[0mx_reg\u001b[0m \u001b[0;34m=\u001b[0m \u001b[0mx_reg\u001b[0m\u001b[0;34m\u001b[0m\u001b[0;34m\u001b[0m\u001b[0m\n\u001b[1;32m    372\u001b[0m     \u001b[0mddp\u001b[0m\u001b[0;34m.\u001b[0m\u001b[0mu_reg\u001b[0m \u001b[0;34m=\u001b[0m \u001b[0mu_reg\u001b[0m\u001b[0;34m\u001b[0m\u001b[0;34m\u001b[0m\u001b[0m\n\u001b[0;32m--> 373\u001b[0;31m     \u001b[0mddp\u001b[0m\u001b[0;34m.\u001b[0m\u001b[0msolve\u001b[0m\u001b[0;34m(\u001b[0m\u001b[0mlist\u001b[0m\u001b[0;34m(\u001b[0m\u001b[0mxs_init\u001b[0m\u001b[0;34m[\u001b[0m\u001b[0;34m:\u001b[0m\u001b[0;34m,\u001b[0m\u001b[0;34m:\u001b[0m\u001b[0;34m,\u001b[0m\u001b[0;32mNone\u001b[0m\u001b[0;34m]\u001b[0m\u001b[0;34m)\u001b[0m\u001b[0;34m,\u001b[0m \u001b[0mlist\u001b[0m\u001b[0;34m(\u001b[0m\u001b[0mus_init\u001b[0m\u001b[0;34m[\u001b[0m\u001b[0;34m:\u001b[0m\u001b[0;34m,\u001b[0m\u001b[0;34m:\u001b[0m\u001b[0;34m,\u001b[0m\u001b[0;32mNone\u001b[0m\u001b[0;34m]\u001b[0m\u001b[0;34m)\u001b[0m\u001b[0;34m,\u001b[0m \u001b[0miterations\u001b[0m\u001b[0;34m,\u001b[0m \u001b[0;32mFalse\u001b[0m\u001b[0;34m,\u001b[0m \u001b[0mx_reg\u001b[0m\u001b[0;34m)\u001b[0m\u001b[0;34m\u001b[0m\u001b[0;34m\u001b[0m\u001b[0m\n\u001b[0m\u001b[1;32m    374\u001b[0m \u001b[0;34m\u001b[0m\u001b[0m\n\u001b[1;32m    375\u001b[0m     \u001b[0mxs\u001b[0m\u001b[0;34m,\u001b[0m \u001b[0mus\u001b[0m \u001b[0;34m=\u001b[0m \u001b[0mnp\u001b[0m\u001b[0;34m.\u001b[0m\u001b[0marray\u001b[0m\u001b[0;34m(\u001b[0m\u001b[0mddp\u001b[0m\u001b[0;34m.\u001b[0m\u001b[0mxs\u001b[0m\u001b[0;34m)\u001b[0m\u001b[0;34m,\u001b[0m \u001b[0mnp\u001b[0m\u001b[0;34m.\u001b[0m\u001b[0marray\u001b[0m\u001b[0;34m(\u001b[0m\u001b[0mddp\u001b[0m\u001b[0;34m.\u001b[0m\u001b[0mus\u001b[0m\u001b[0;34m)\u001b[0m\u001b[0;34m\u001b[0m\u001b[0;34m\u001b[0m\u001b[0m\n",
      "\u001b[0;32m~/git/rli/iterative_lqr/notebooks/lara_example/../ocp_sys.py\u001b[0m in \u001b[0;36mcalc\u001b[0;34m(self, data, x, u)\u001b[0m\n\u001b[1;32m    228\u001b[0m     \u001b[0;32mdef\u001b[0m \u001b[0mcalc\u001b[0m\u001b[0;34m(\u001b[0m\u001b[0mself\u001b[0m\u001b[0;34m,\u001b[0m \u001b[0mdata\u001b[0m\u001b[0;34m,\u001b[0m \u001b[0mx\u001b[0m\u001b[0;34m,\u001b[0m \u001b[0mu\u001b[0m\u001b[0;34m)\u001b[0m\u001b[0;34m:\u001b[0m\u001b[0;34m\u001b[0m\u001b[0;34m\u001b[0m\u001b[0m\n\u001b[1;32m    229\u001b[0m         \u001b[0;31m#calculate the cost\u001b[0m\u001b[0;34m\u001b[0m\u001b[0;34m\u001b[0m\u001b[0;34m\u001b[0m\u001b[0m\n\u001b[0;32m--> 230\u001b[0;31m         \u001b[0mdata\u001b[0m\u001b[0;34m.\u001b[0m\u001b[0mcost\u001b[0m \u001b[0;34m=\u001b[0m \u001b[0mself\u001b[0m\u001b[0;34m.\u001b[0m\u001b[0mcost_model\u001b[0m\u001b[0;34m.\u001b[0m\u001b[0mcalc\u001b[0m\u001b[0;34m(\u001b[0m\u001b[0mx\u001b[0m\u001b[0;34m,\u001b[0m\u001b[0mu\u001b[0m\u001b[0;34m)\u001b[0m\u001b[0;34m\u001b[0m\u001b[0;34m\u001b[0m\u001b[0m\n\u001b[0m\u001b[1;32m    231\u001b[0m \u001b[0;34m\u001b[0m\u001b[0m\n\u001b[1;32m    232\u001b[0m         \u001b[0;31m#calculate the next state\u001b[0m\u001b[0;34m\u001b[0m\u001b[0;34m\u001b[0m\u001b[0;34m\u001b[0m\u001b[0m\n",
      "\u001b[0;32m~/git/rli/iterative_lqr/notebooks/lara_example/../costs.py\u001b[0m in \u001b[0;36mcalc\u001b[0;34m(self, x, u)\u001b[0m\n\u001b[1;32m    183\u001b[0m         \u001b[0mself\u001b[0m\u001b[0;34m.\u001b[0m\u001b[0mL\u001b[0m \u001b[0;34m=\u001b[0m \u001b[0;36m0\u001b[0m\u001b[0;34m\u001b[0m\u001b[0;34m\u001b[0m\u001b[0m\n\u001b[1;32m    184\u001b[0m         \u001b[0;32mfor\u001b[0m \u001b[0mi\u001b[0m\u001b[0;34m,\u001b[0m\u001b[0mcost\u001b[0m \u001b[0;32min\u001b[0m \u001b[0menumerate\u001b[0m\u001b[0;34m(\u001b[0m\u001b[0mself\u001b[0m\u001b[0;34m.\u001b[0m\u001b[0mcosts\u001b[0m\u001b[0;34m)\u001b[0m\u001b[0;34m:\u001b[0m\u001b[0;34m\u001b[0m\u001b[0;34m\u001b[0m\u001b[0m\n\u001b[0;32m--> 185\u001b[0;31m             \u001b[0mcost\u001b[0m\u001b[0;34m.\u001b[0m\u001b[0mcalc\u001b[0m\u001b[0;34m(\u001b[0m\u001b[0mx\u001b[0m\u001b[0;34m,\u001b[0m \u001b[0mu\u001b[0m\u001b[0;34m)\u001b[0m\u001b[0;34m\u001b[0m\u001b[0;34m\u001b[0m\u001b[0m\n\u001b[0m\u001b[1;32m    186\u001b[0m             \u001b[0mself\u001b[0m\u001b[0;34m.\u001b[0m\u001b[0mL\u001b[0m \u001b[0;34m+=\u001b[0m \u001b[0mcost\u001b[0m\u001b[0;34m.\u001b[0m\u001b[0mL\u001b[0m\u001b[0;34m\u001b[0m\u001b[0;34m\u001b[0m\u001b[0m\n\u001b[1;32m    187\u001b[0m         \u001b[0;32mreturn\u001b[0m \u001b[0mself\u001b[0m\u001b[0;34m.\u001b[0m\u001b[0mL\u001b[0m\u001b[0;34m\u001b[0m\u001b[0;34m\u001b[0m\u001b[0m\n",
      "\u001b[0;32m~/git/rli/iterative_lqr/notebooks/lara_example/../costs.py\u001b[0m in \u001b[0;36mcalc\u001b[0;34m(self, x, u)\u001b[0m\n\u001b[1;32m     25\u001b[0m     \u001b[0;32mdef\u001b[0m \u001b[0mcalc\u001b[0m\u001b[0;34m(\u001b[0m\u001b[0mself\u001b[0m\u001b[0;34m,\u001b[0m \u001b[0mx\u001b[0m\u001b[0;34m,\u001b[0m \u001b[0mu\u001b[0m\u001b[0;34m)\u001b[0m\u001b[0;34m:\u001b[0m\u001b[0;34m\u001b[0m\u001b[0;34m\u001b[0m\u001b[0m\n\u001b[1;32m     26\u001b[0m         \u001b[0mself\u001b[0m\u001b[0;34m.\u001b[0m\u001b[0mres\u001b[0m \u001b[0;34m=\u001b[0m \u001b[0mx\u001b[0m\u001b[0;34m-\u001b[0m\u001b[0mself\u001b[0m\u001b[0;34m.\u001b[0m\u001b[0mx_ref\u001b[0m\u001b[0;34m\u001b[0m\u001b[0;34m\u001b[0m\u001b[0m\n\u001b[0;32m---> 27\u001b[0;31m         \u001b[0mself\u001b[0m\u001b[0;34m.\u001b[0m\u001b[0mL\u001b[0m \u001b[0;34m=\u001b[0m \u001b[0;36m0.5\u001b[0m\u001b[0;34m*\u001b[0m\u001b[0;34m(\u001b[0m\u001b[0mx\u001b[0m\u001b[0;34m-\u001b[0m\u001b[0mself\u001b[0m\u001b[0;34m.\u001b[0m\u001b[0mx_ref\u001b[0m\u001b[0;34m)\u001b[0m\u001b[0;34m.\u001b[0m\u001b[0mT\u001b[0m\u001b[0;34m.\u001b[0m\u001b[0mdot\u001b[0m\u001b[0;34m(\u001b[0m\u001b[0mself\u001b[0m\u001b[0;34m.\u001b[0m\u001b[0mQ\u001b[0m\u001b[0;34m)\u001b[0m\u001b[0;34m.\u001b[0m\u001b[0mdot\u001b[0m\u001b[0;34m(\u001b[0m\u001b[0mx\u001b[0m\u001b[0;34m-\u001b[0m\u001b[0mself\u001b[0m\u001b[0;34m.\u001b[0m\u001b[0mx_ref\u001b[0m\u001b[0;34m)\u001b[0m \u001b[0;34m+\u001b[0m \u001b[0;36m0.5\u001b[0m\u001b[0;34m*\u001b[0m\u001b[0;34m(\u001b[0m\u001b[0mu\u001b[0m\u001b[0;34m-\u001b[0m\u001b[0mself\u001b[0m\u001b[0;34m.\u001b[0m\u001b[0mu_ref\u001b[0m\u001b[0;34m)\u001b[0m\u001b[0;34m.\u001b[0m\u001b[0mT\u001b[0m\u001b[0;34m.\u001b[0m\u001b[0mdot\u001b[0m\u001b[0;34m(\u001b[0m\u001b[0mself\u001b[0m\u001b[0;34m.\u001b[0m\u001b[0mR\u001b[0m\u001b[0;34m)\u001b[0m\u001b[0;34m.\u001b[0m\u001b[0mdot\u001b[0m\u001b[0;34m(\u001b[0m\u001b[0mu\u001b[0m\u001b[0;34m-\u001b[0m\u001b[0mself\u001b[0m\u001b[0;34m.\u001b[0m\u001b[0mu_ref\u001b[0m\u001b[0;34m)\u001b[0m\u001b[0;34m\u001b[0m\u001b[0;34m\u001b[0m\u001b[0m\n\u001b[0m\u001b[1;32m     28\u001b[0m         \u001b[0;32mreturn\u001b[0m \u001b[0mself\u001b[0m\u001b[0;34m.\u001b[0m\u001b[0mL\u001b[0m\u001b[0;34m\u001b[0m\u001b[0;34m\u001b[0m\u001b[0m\n\u001b[1;32m     29\u001b[0m \u001b[0;34m\u001b[0m\u001b[0m\n",
      "\u001b[0;31mKeyboardInterrupt\u001b[0m: "
     ]
    }
   ],
   "source": [
    "for n_iter in [50]:#, 10, 50]: \n",
    "    print('-------------------\\n%d'%n_iter)\n",
    "    cost_nn_set, cost_std_set, cost_mdn_set = [], [], []\n",
    "    feas_nn_set, feas_std_set, feas_mdn_set = [], [], []\n",
    "    iter_nn_set, iter_std_set = [], []\n",
    "    \n",
    "    for idx in range(len(x_test[:100])): #20,30):#\n",
    "        #pick one test case\n",
    "        x = x_test[idx]\n",
    "        y = y_test[idx].reshape(-1,3)\n",
    "        full_idx = test_idx[idx]\n",
    "        obstacles = obs_set[full_idx]\n",
    "        x0, x_target = x[-6:-3],x[-3:]\n",
    "#         obj_id, init_id, target_id, border_id, obstacle_ids = init_pybullet(x0,x_target, obstacles)\n",
    "\n",
    "\n",
    "\n",
    "        #### Create DDP problem\n",
    "        x0 = np.concatenate([x0, np.zeros(3)])\n",
    "        x_target = np.concatenate([x_target, np.zeros(3)])\n",
    "        # Setup problem \n",
    "        prob, lin_sys = setup_ilqr(T, x0, x_target, obstacles)\n",
    "\n",
    "#         #### Standard init\n",
    "#         xs_init, us_init = create_standard_init(lin_sys, x0, T)\n",
    "#         xs, us, ddp = solve_ilqr(prob, xs_init, us_init, iterations=n_iter, th_grad = th_grad, th_stop = th_stop)\n",
    "#         cost_std = ddp.cost\n",
    "#         feas_std = ddp.isFeasible\n",
    "#         xs_init_std = xs_init.copy()\n",
    "        \n",
    "        #### Linear init\n",
    "        xs_init, us_init = create_linear_init(x0, x_target, T)\n",
    "        xs, us, ddp = solve_ilqr(prob, xs_init, us_init, iterations=n_iter, th_grad = th_grad, th_stop = th_stop)\n",
    "        cost_std = ddp.cost\n",
    "        feas_std = ddp.isFeasible\n",
    "        iter_std = ddp.iter\n",
    "        xs_init_std = xs_init.copy()\n",
    "\n",
    "        #### NN init\n",
    "        y_pred = nn.predict(x[None,:])\n",
    "        y_traj = pca.inverse_transform(y_pred).reshape(-1,3)\n",
    "        xs_init, us_init = create_lqt_init(lin_sys, y_traj, x0, x_target, T)\n",
    "        xs, us, ddp = solve_ilqr(prob, xs_init, us_init, iterations=n_iter, th_grad = th_grad, th_stop = th_stop)\n",
    "        cost_nn = ddp.cost\n",
    "        feas_nn = ddp.isFeasible\n",
    "        iter_nn = ddp.iter\n",
    "        xs_init_nn = xs_init.copy()\n",
    "        \n",
    "        #### MDN init\n",
    "        y_pred = mdn(x[None,:]).sample(n_sample)\n",
    "        y_traj = pca.inverse_transform(y_pred).reshape(n_sample, -1, 3)\n",
    "        y_traj = get_best_mdn_prediction(y_traj, x, obstacles)        \n",
    "        xs_init, us_init = create_lqt_init(lin_sys, y_traj, x0, x_target, T)\n",
    "        xs, us, ddp = solve_ilqr(prob, xs_init, us_init, iterations=n_iter, th_grad = th_grad, th_stop = th_stop)\n",
    "        cost_mdn = ddp.cost\n",
    "        feas_mdn = ddp.isFeasible\n",
    "        xs_init_mdn = xs_init.copy()\n",
    "\n",
    "        cost_nn_set.append(cost_nn)\n",
    "        cost_mdn_set.append(cost_mdn)\n",
    "        cost_std_set.append(cost_std) \n",
    "        \n",
    "        feas_nn_set.append(feas_nn)\n",
    "        feas_mdn_set.append(feas_mdn)\n",
    "        feas_std_set.append(feas_std)\n",
    "#         iter_nn_set.append(iter_nn)\n",
    "#         iter_std_set.append(iter_std)\n",
    "        print('Feasible STD: {}, feasible NN: {}, feasible MDN: {}'.format(np.sum(feas_std_set), np.sum(feas_nn_set), np.sum(feas_mdn_set)))\n",
    "        print('Cost STD: {:.3f}, Cost NN: {:.3f}, Cost MDN: {:.3f}'.format(np.mean(cost_std_set), np.mean(cost_nn_set), np.mean(cost_mdn_set)))    #         print('Iter STD: {}, iter NN: {}'.format(np.mean(iter_std_set), np.mean(iter_nn_set)))"
   ]
  },
  {
   "cell_type": "code",
   "execution_count": 40,
   "id": "fdbed959-9ea6-4d86-9ba4-a20f0f103626",
   "metadata": {},
   "outputs": [],
   "source": [
    "cost_std_set = np.array(cost_std_set)[:100]\n",
    "cost_nn_set = np.array(cost_nn_set)[:100]\n",
    "cost_mdn_set = np.array(cost_mdn_set)[:100]"
   ]
  },
  {
   "cell_type": "code",
   "execution_count": 41,
   "id": "aa4ebc04-614b-44e3-9aaa-32f462953759",
   "metadata": {},
   "outputs": [
    {
     "name": "stdout",
     "output_type": "stream",
     "text": [
      "Feasible STD: 160, feasible NN: 160, feasible MDN: 160\n",
      "Cost STD: 1.299, Cost NN: 1.297, Cost MDN: 1.311\n"
     ]
    }
   ],
   "source": [
    "print('Feasible STD: {}, feasible NN: {}, feasible MDN: {}'.format(np.sum(feas_std_set), np.sum(feas_nn_set), np.sum(feas_mdn_set)))\n",
    "print('Cost STD: {:.3f}, Cost NN: {:.3f}, Cost MDN: {:.3f}'.format(np.mean(cost_std_set), np.mean(cost_nn_set), np.mean(cost_mdn_set)))"
   ]
  },
  {
   "cell_type": "code",
   "execution_count": 42,
   "id": "3969f804-bc44-492d-8271-e30b64c6c7b7",
   "metadata": {},
   "outputs": [],
   "source": [
    "data = dict()\n",
    "data['feas_std_set'] = feas_std_set\n",
    "data['feas_nn_set'] = feas_nn_set\n",
    "data['feas_mdn_set'] = feas_mdn_set\n",
    "data['cost_std_set'] = cost_std_set\n",
    "data['cost_nn_set'] = cost_nn_set\n",
    "data['cost_mdn_set'] = cost_mdn_set\n",
    "np.save('final_data/'+exp_name+'_warmstart_res_'+str(n_iter), data)"
   ]
  },
  {
   "cell_type": "code",
   "execution_count": null,
   "id": "8ae584eb-d389-4e6d-ba3d-8f5fc0223882",
   "metadata": {},
   "outputs": [],
   "source": []
  }
 ],
 "metadata": {
  "kernelspec": {
   "display_name": "Python 3",
   "language": "python",
   "name": "python3"
  },
  "language_info": {
   "codemirror_mode": {
    "name": "ipython",
    "version": 3
   },
   "file_extension": ".py",
   "mimetype": "text/x-python",
   "name": "python",
   "nbconvert_exporter": "python",
   "pygments_lexer": "ipython3",
   "version": "3.9.5"
  }
 },
 "nbformat": 4,
 "nbformat_minor": 5
}
