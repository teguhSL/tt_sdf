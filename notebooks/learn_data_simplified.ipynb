{
 "cells": [
  {
   "cell_type": "markdown",
   "id": "d6de023d-5701-4fc9-aca2-01dd3ee0d491",
   "metadata": {},
   "source": [
    "## Load libraries"
   ]
  },
  {
   "cell_type": "code",
   "execution_count": 2,
   "id": "linear-stretch",
   "metadata": {},
   "outputs": [],
   "source": [
    "import sys\n",
    "\n",
    "import random\n",
    "import logging\n",
    "import time\n",
    "from tqdm.notebook import tqdm\n",
    "import pandas as pd\n",
    "import pickle\n",
    "\n",
    "sys.path.append('../')\n",
    "\n",
    "import numpy as np\n",
    "import matplotlib.pyplot as plt\n",
    "from IPython.display import clear_output\n",
    "import time\n",
    "from ocp import *\n",
    "from costs import *\n",
    "from ocp_utils import *\n",
    "from env_creator import EnvCreator, generate_sdf_rep\n",
    "from tensor_decomp import apply_tt\n",
    "from visualization_utils import plot_traj_projections, plot_traj_and_obs_3d\n",
    "\n",
    "import pybullet as p\n",
    "import pybullet_data\n",
    "import matplotlib.pyplot as plt\n",
    "\n",
    "import tensorflow as tf\n",
    "from tensorflow.keras.models import Sequential\n",
    "from tensorflow.keras.layers import Dense\n",
    "from sklearn.decomposition import PCA\n",
    "from sklearn.model_selection import train_test_split\n",
    "from sklearn.metrics import mean_squared_error\n",
    "\n",
    "from regression import NN_Regressor, GPy_Regressor\n",
    "from regression import rbf\n",
    "import numpy.matlib\n",
    "\n",
    "%load_ext autoreload\n",
    "%autoreload 2\n",
    "np.set_printoptions(precision=4, suppress=True)"
   ]
  },
  {
   "cell_type": "markdown",
   "id": "freelance-chemical",
   "metadata": {},
   "source": [
    "## Load dataset"
   ]
  },
  {
   "cell_type": "code",
   "execution_count": 3,
   "id": "082c36cb-3f5b-479c-a639-cd5052f320c4",
   "metadata": {},
   "outputs": [],
   "source": [
    "# exp_name = 'start_goal_fixed_100samples_5'\n",
    "# exp_name = 'var_start_goal_1000samples_no_waypoint'\n",
    "exp_name = 'var_start_goal_3000samples'\n",
    "exp_name = 'var_start_goal_1000samples_no_waypoint'\n",
    "# exp_name = 'start_goal_fixed_300samples_1'\n",
    "# exp_name = 'mult_obs_var_start_goal_1000samples_1'\n",
    "# exp_name = 'mult_obs_var_start_goal_1000samples_teguh'\n",
    "# exp_name = 'start_goal_fixed_300samples_quadcopter'\n",
    "# exp_name = 'start_goal_fixed_300samples_1'\n",
    "# exp_name = 'mult_obs_fixed_start_goal_1000samples'\n",
    "# exp_name = 'mult_obs_100samples'\n",
    "# exp_name = '2_obs_var_start_goal_1000samples'\n",
    "# exp_name = '2_obs_100samples'\n",
    "# exp_name = 'start_goal_fixed_300samples_1'\n",
    "# exp_name = 'mult_obs_var_start_goal_500samples_1'"
   ]
  },
  {
   "cell_type": "code",
   "execution_count": 4,
   "id": "7ca25ca0-eb22-4df7-9545-02094e3a792f",
   "metadata": {},
   "outputs": [
    {
     "name": "stdout",
     "output_type": "stream",
     "text": [
      "The number of data points: 1000\n"
     ]
    }
   ],
   "source": [
    "raw_data = load_data(exp_name)"
   ]
  },
  {
   "cell_type": "markdown",
   "id": "e7043dd0-6359-4a23-a929-b122514dc51c",
   "metadata": {
    "tags": [],
    "toc-hr-collapsed": true
   },
   "source": [
    "#### Visualize data in pybullet"
   ]
  },
  {
   "cell_type": "code",
   "execution_count": 5,
   "id": "2a6a3eec-1ab2-40a1-8925-846148eb355f",
   "metadata": {},
   "outputs": [],
   "source": [
    "p.connect(p.GUI)\n",
    "p.setAdditionalSearchPath(pybullet_data.getDataPath())"
   ]
  },
  {
   "cell_type": "code",
   "execution_count": 6,
   "id": "fae16dca-a83b-4cf2-bbbf-f68cc0d65b0c",
   "metadata": {},
   "outputs": [],
   "source": [
    "obstacles = [{'pos':np.zeros(3), 'rad':0.35}]\n",
    "x0 = np.ones(3)*-1\n",
    "x_target = np.ones(3)*1\n",
    "obj_id, init_id, target_id, border_id, obstacle_ids = init_pybullet(x0, x_target, obstacles)"
   ]
  },
  {
   "cell_type": "markdown",
   "id": "9dc7d316-cebc-45cd-916d-8f8a5a656aad",
   "metadata": {},
   "source": [
    "#### Qualitatively assess dataset by randomly sampling data instances "
   ]
  },
  {
   "cell_type": "raw",
   "id": "532f2452-9ecd-4096-8009-6395aa997a33",
   "metadata": {},
   "source": [
    "filter_data = np.array(raw_data)[final_status]"
   ]
  },
  {
   "cell_type": "raw",
   "id": "c57fc64c-7cfd-48cd-863e-4c7987aa7f7f",
   "metadata": {},
   "source": [
    "idx = np.random.randint(len(filter_data))\n",
    "data_i = filter_data[idx]\n",
    "xs = data_i['xs']\n",
    "x0, xT = data_i['x0'], data_i['xT']\n",
    "obstacles = data_i['obstacles']\n",
    "cost = data_i['cost']\n",
    "print(cost)\n",
    "init_pybullet(x0, xT, obstacles)"
   ]
  },
  {
   "cell_type": "raw",
   "id": "3c55720c-297d-426a-8b59-7a5ddf4edc81",
   "metadata": {},
   "source": [
    "plot_traj(xs, obj_id, dt=0.03)"
   ]
  },
  {
   "cell_type": "raw",
   "id": "28775155-09a2-46d7-907a-7cc6a4248639",
   "metadata": {},
   "source": [
    "plot_traj_projections(xs, obstacles)"
   ]
  },
  {
   "cell_type": "markdown",
   "id": "6685061a-485f-4e4f-8b8a-dfb5bfbb4234",
   "metadata": {},
   "source": [
    "## Learn from the data"
   ]
  },
  {
   "cell_type": "markdown",
   "id": "adecac97-fcf3-4933-bdb1-b627f23d5173",
   "metadata": {},
   "source": [
    "#### Filter the data\n",
    "\n",
    "Only use the data when the trajectory:\n",
    "- Has no collision\n",
    "- Has 'True' as ddp status"
   ]
  },
  {
   "cell_type": "code",
   "execution_count": 7,
   "id": "1c29d692-2d6d-449d-855d-83b357b50e42",
   "metadata": {},
   "outputs": [],
   "source": [
    "status_ddp  = np.array([data['status'] for data in raw_data]) # Trajectories that have 'True' status from ddp\n",
    "status_col  = np.array([data['collision_status'] for data in raw_data]) # Trajectories that have 'True' status based on collisionfinal_status = status_ddp\n",
    "final_status = np.logical_and(status_ddp, status_col)\n",
    "status_ddp, status_col = status_ddp[final_status], status_col[final_status]"
   ]
  },
  {
   "cell_type": "markdown",
   "id": "5c1c9b78-840f-4f9c-aa4e-b8527950a0df",
   "metadata": {},
   "source": [
    "#### Extract the useful data"
   ]
  },
  {
   "cell_type": "code",
   "execution_count": 8,
   "id": "786cd6c8-2fe9-44d4-a091-0883eefb55b3",
   "metadata": {},
   "outputs": [],
   "source": [
    "xs_set = np.array([data['xs'][:,:3] for data in raw_data])[final_status]\n",
    "init_positions = np.array([data['x0'][:3] for data in raw_data])[final_status]\n",
    "goal_positions = np.array([data['xT'][:3] for data in raw_data])[final_status]\n",
    "obs_set = np.array([data['obstacles'] for data in raw_data])[final_status]\n",
    "cost_set = np.array([data['cost'] for data in raw_data])[final_status]"
   ]
  },
  {
   "cell_type": "markdown",
   "id": "d4da8d8b",
   "metadata": {},
   "source": [
    "#### Convert environment in SDF representation "
   ]
  },
  {
   "cell_type": "code",
   "execution_count": 9,
   "id": "0ac939ff-777e-44fb-8549-d7c0a640333f",
   "metadata": {},
   "outputs": [],
   "source": [
    "voxel_res = 0.05 # voxel resolution in grid \n",
    "tt_rank = 3 # rank for tensor train decomposition -> should be as small as possible\n",
    "grid_boundaries = \\\n",
    " np.asarray([(-1,1),   # x\n",
    "             (-1,1),   # y\n",
    "             (-1,1)]   # z\n",
    "            ) # 3x2, columns: (min, max) in world coordinates in meters\n",
    "\n",
    "env_set = []\n",
    "tt_env_set = []\n",
    "full_data = []\n",
    "for obstacles in obs_set:\n",
    "#     sdf_vol, tt_sdf_vol, _ = generate_sdf_rep(obstacles, grid_bounds=grid_boundaries, voxel_res=voxel_res, tt_rank=tt_rank)    \n",
    "    sdf_vol, tt_sdf_vol, tt_sdf_orth, _ = generate_sdf_rep( obstacles, grid_bounds=grid_boundaries, voxel_res=voxel_res, tt_rank=tt_rank)    \n",
    "    env_set.append(sdf_vol.flatten())\n",
    "    tt_sdf_vol_array = np.concatenate([f.flatten() for f in tt_sdf_orth])\n",
    "    tt_env_set.append(tt_sdf_vol_array.flatten()) # factors of the tensor train decomposition of the sdf tensor \n",
    "\n",
    "env_set = np.array(env_set)\n",
    "tt_env_set = np.array(tt_env_set)"
   ]
  },
  {
   "cell_type": "code",
   "execution_count": 10,
   "id": "89bd582d-c3fb-443c-88a9-48e70f48240b",
   "metadata": {},
   "outputs": [
    {
     "name": "stdout",
     "output_type": "stream",
     "text": [
      "Shape of uncompressed environment data input: (869, 64000)\n",
      "Shape of compressed environment data input: (869, 600)\n"
     ]
    }
   ],
   "source": [
    "# print('Shape of voxel grid: {}'.format(full_data[0]['sdf'].shape))\n",
    "print('Shape of uncompressed environment data input: {}'.format(env_set.shape))\n",
    "print('Shape of compressed environment data input: {}'.format(tt_env_set.shape))"
   ]
  },
  {
   "cell_type": "markdown",
   "id": "7466455a-1af9-4ffc-a7e5-492362a997e6",
   "metadata": {},
   "source": [
    "#### Construct the input output\n",
    "\n",
    "Current system = point mass \n",
    "\n",
    "__input__:\n",
    "- environment (tt-sdf representation) _or_ obstacle parameters\n",
    "\n",
    "if dataset with varying start and goal positions additionally: \n",
    "- start_position of pointmass \n",
    "- target_position of pointmass\n",
    "\n",
    "__output__:\n",
    "- path trajectory"
   ]
  },
  {
   "cell_type": "code",
   "execution_count": 11,
   "id": "e35229cc-353d-4b6e-b8ca-47e276df57d5",
   "metadata": {},
   "outputs": [],
   "source": [
    "use_tt_rep = True # set this variable to use tt_representations as input variables \n",
    "start_goal_fixed = False # indicates whether to use start and goal position as additional input "
   ]
  },
  {
   "cell_type": "code",
   "execution_count": 12,
   "id": "251a9336-306a-4ffa-bec5-b4b749127a51",
   "metadata": {},
   "outputs": [
    {
     "name": "stdout",
     "output_type": "stream",
     "text": [
      "Number of data instances: 869\n",
      "(869, 606)\n"
     ]
    }
   ],
   "source": [
    "if use_tt_rep and start_goal_fixed: \n",
    "    x_inputs = tt_env_set\n",
    "elif use_tt_rep and not start_goal_fixed: \n",
    "    x_inputs = np.concatenate([tt_env_set, init_positions, goal_positions], axis=1)\n",
    "else: \n",
    "    x_inputs = np.concatenate([r_set[:,None], p_set], axis=1) # use obstacle parametrization instead \n",
    "\n",
    "N = len(x_inputs)\n",
    "D_in = x_inputs.shape[1]\n",
    "Dx = 3 #dimensions of point mass system (xyz)\n",
    "T = 101 #number of time steps\n",
    "print('Number of data instances: {}'.format(N))\n",
    "print(x_inputs.shape)\n",
    "x_outputs = xs_set.reshape(N,-1)"
   ]
  },
  {
   "cell_type": "markdown",
   "id": "cd7c15b5-a600-4546-8d0d-53ce18823b00",
   "metadata": {},
   "source": [
    "#### Separate into train and test split"
   ]
  },
  {
   "cell_type": "code",
   "execution_count": 13,
   "id": "6aa22269-e406-4813-8f50-f4523b6abf96",
   "metadata": {},
   "outputs": [],
   "source": [
    "n_samples = len(x_inputs)\n",
    "indices = np.arange(n_samples)"
   ]
  },
  {
   "cell_type": "code",
   "execution_count": 14,
   "id": "63a2a75a-3644-44c0-8f46-ace44c1d185a",
   "metadata": {},
   "outputs": [],
   "source": [
    "x_train, x_test, y_train, y_test, train_idx, test_idx = train_test_split(x_inputs, x_outputs, indices, random_state=3, test_size=0.3)"
   ]
  },
  {
   "cell_type": "code",
   "execution_count": 15,
   "id": "75562741-fd06-4608-a103-67b3ba16b8ec",
   "metadata": {},
   "outputs": [
    {
     "name": "stdout",
     "output_type": "stream",
     "text": [
      "\n",
      " (608, 606) \n",
      " (608, 303) \n",
      " (261, 606) \n",
      " (261, 303)\n"
     ]
    }
   ],
   "source": [
    "print('\\n',x_train.shape,'\\n', y_train.shape,'\\n', x_test.shape,'\\n', y_test.shape)"
   ]
  },
  {
   "cell_type": "markdown",
   "id": "8599788a-e583-400c-b658-5c80da0f6935",
   "metadata": {},
   "source": [
    "#### Use Dimensionality Reduction (optional)"
   ]
  },
  {
   "cell_type": "code",
   "execution_count": 16,
   "id": "028bfa6e-6271-401c-8592-26f5ae857d88",
   "metadata": {},
   "outputs": [],
   "source": [
    "use_pca = True\n",
    "use_rbf = False\n",
    "\n",
    "if use_pca:\n",
    "    K = 15\n",
    "    pca = PCA(n_components=K)\n",
    "    y_train_pca = pca.fit_transform(y_train)\n",
    "    y_test_pca = pca.transform(y_test)\n",
    "    D_out = y_train_pca.shape[1]\n",
    "elif use_rbf:\n",
    "    rbf_transform = rbf(D=3, K = 8, offset = 20, width = 15, T = T)\n",
    "    Phi = rbf_transform.create_RBF()\n",
    "\n",
    "    plt.plot(Phi)\n",
    "    plt.show()\n",
    "    y_train_rbf = rbf_transform.transform(y_train.reshape(-1,T,Dx))\n",
    "    y_test_rbf = rbf_transform.transform(y_test.reshape(-1,T,Dx))\n",
    "    D_out = y_train_rbf.shape[1]\n",
    "else:\n",
    "    D_out = y_train.shape[1]"
   ]
  },
  {
   "cell_type": "markdown",
   "id": "1393d208-f0e6-46b7-a413-6e02b40d02fc",
   "metadata": {},
   "source": [
    "#### Save training data"
   ]
  },
  {
   "cell_type": "code",
   "execution_count": 17,
   "id": "7beee90b-c450-44a7-a453-1500e9485a9f",
   "metadata": {},
   "outputs": [],
   "source": [
    "data = dict()\n",
    "if use_pca:\n",
    "    data['pca'] = pca\n",
    "elif use_rbf:\n",
    "    data['rbf'] = rbf_transform\n",
    "    \n",
    "data['x_inputs'] = x_inputs\n",
    "data['x_outputs'] = x_outputs\n",
    "data['obstacles'] = obs_set\n",
    "np.save('training_data/data_'+ exp_name, data)"
   ]
  },
  {
   "cell_type": "markdown",
   "id": "7740f01f-7c49-4ba7-a658-649a0be22083",
   "metadata": {
    "tags": [],
    "toc-hr-collapsed": true
   },
   "source": [
    "### Test rbf (if necessary)"
   ]
  },
  {
   "cell_type": "code",
   "execution_count": 18,
   "id": "b9c1b886-1bc8-4276-b0a4-366b2587b90b",
   "metadata": {},
   "outputs": [],
   "source": [
    "#Reconstructed y_train by inverse transform\n",
    "if use_rbf: \n",
    "    y_train_rbf_rec = rbf_transform.inverse_transform(y_train_rbf)"
   ]
  },
  {
   "cell_type": "markdown",
   "id": "80cefdb9-4bbd-48e1-85cf-ba2063454dea",
   "metadata": {},
   "source": [
    "#### Visualize the reconstructed traj"
   ]
  },
  {
   "cell_type": "code",
   "execution_count": 19,
   "id": "8b7e25e9-0f5a-4e12-a802-b2f9b5da4317",
   "metadata": {},
   "outputs": [],
   "source": [
    "if use_rbf: \n",
    "    idx = np.random.randint(len(y_train_rbf_rec))\n",
    "    y = y_train_rbf_rec[idx]\n",
    "    y_true = y_train[idx].reshape(-1,Dx)\n",
    "\n",
    "    fig, axs = plt.subplots(1,3)\n",
    "    fig.set_size_inches(15,5)\n",
    "\n",
    "    for i in range(3):\n",
    "        axs[i].plot(y[:,i], '--b', label='Reconstructed')\n",
    "        axs[i].plot(y_true[:,i], '-r', label='True')\n",
    "        axs[i].legend()\n",
    "    plt.show()"
   ]
  },
  {
   "cell_type": "markdown",
   "id": "74373c2f-f1b3-4a16-88f4-e0f0852e241c",
   "metadata": {},
   "source": [
    "## Create & Train model"
   ]
  },
  {
   "cell_type": "markdown",
   "id": "7991502d-089d-4e31-9df7-7a876ed8d4d7",
   "metadata": {
    "tags": []
   },
   "source": [
    "#### 0. Set predictor"
   ]
  },
  {
   "cell_type": "code",
   "execution_count": 20,
   "id": "b0dc12d3-2625-45d1-b0ca-6a1aed8ac4c3",
   "metadata": {},
   "outputs": [],
   "source": [
    "# Set choice of predictor here: \n",
    "predictor_dct = {0: 'k-nn', 1: 'gpr', 2:'nn', 3: 'mdn'}\n",
    "predictor = predictor_dct[1]"
   ]
  },
  {
   "cell_type": "markdown",
   "id": "8fbec7d1-ab35-46c4-beaf-b62247dbf232",
   "metadata": {
    "tags": [],
    "toc-hr-collapsed": true
   },
   "source": [
    "#### 1. Neural network"
   ]
  },
  {
   "cell_type": "code",
   "execution_count": 21,
   "id": "f1d99463-36ab-4b03-aed6-27bfa92de9a9",
   "metadata": {},
   "outputs": [],
   "source": [
    "nn = Sequential([\n",
    "    Dense(256, activation='relu', input_shape=(D_in,)),\n",
    "    Dense(256, activation='relu'),\n",
    "    Dense(D_out)\n",
    "])"
   ]
  },
  {
   "cell_type": "code",
   "execution_count": 22,
   "id": "242fb2c5-46c3-492f-ba37-bde44ab046a3",
   "metadata": {},
   "outputs": [
    {
     "name": "stdout",
     "output_type": "stream",
     "text": [
      "Model: \"sequential\"\n",
      "_________________________________________________________________\n",
      "Layer (type)                 Output Shape              Param #   \n",
      "=================================================================\n",
      "dense (Dense)                (None, 256)               155392    \n",
      "_________________________________________________________________\n",
      "dense_1 (Dense)              (None, 256)               65792     \n",
      "_________________________________________________________________\n",
      "dense_2 (Dense)              (None, 15)                3855      \n",
      "=================================================================\n",
      "Total params: 225,039\n",
      "Trainable params: 225,039\n",
      "Non-trainable params: 0\n",
      "_________________________________________________________________\n"
     ]
    }
   ],
   "source": [
    "nn.summary()"
   ]
  },
  {
   "cell_type": "code",
   "execution_count": 22,
   "id": "901f23c6-42a7-4ec7-8967-30786e31a745",
   "metadata": {},
   "outputs": [],
   "source": [
    "nn.compile(optimizer=tf.keras.optimizers.Adam(learning_rate=0.0002), loss='mse') # set loss and optimizer "
   ]
  },
  {
   "cell_type": "code",
   "execution_count": 24,
   "id": "31009a89-370c-4705-bb5e-ee4eeb84f4cd",
   "metadata": {
    "scrolled": true,
    "tags": []
   },
   "outputs": [
    {
     "name": "stdout",
     "output_type": "stream",
     "text": [
      "Epoch 1/300\n",
      "213/213 [==============================] - 2s 3ms/step - loss: 1.5399 - val_loss: 1.1698\n",
      "Epoch 2/300\n",
      "213/213 [==============================] - 1s 2ms/step - loss: 1.1510 - val_loss: 1.1416\n",
      "Epoch 3/300\n",
      "213/213 [==============================] - 0s 2ms/step - loss: 1.1249 - val_loss: 1.0665\n",
      "Epoch 4/300\n",
      "213/213 [==============================] - 0s 2ms/step - loss: 1.1017 - val_loss: 1.1095\n",
      "Epoch 5/300\n",
      "213/213 [==============================] - 0s 2ms/step - loss: 1.0833 - val_loss: 1.0877\n",
      "Epoch 6/300\n",
      "213/213 [==============================] - 1s 2ms/step - loss: 1.0609 - val_loss: 1.0133\n",
      "Epoch 7/300\n",
      "213/213 [==============================] - 1s 2ms/step - loss: 1.0521 - val_loss: 1.0555\n",
      "Epoch 8/300\n",
      "213/213 [==============================] - 0s 2ms/step - loss: 1.0334 - val_loss: 0.9977\n",
      "Epoch 9/300\n",
      "213/213 [==============================] - 0s 2ms/step - loss: 1.0025 - val_loss: 0.9726\n",
      "Epoch 10/300\n",
      "213/213 [==============================] - 0s 2ms/step - loss: 0.9963 - val_loss: 0.9712\n",
      "Epoch 11/300\n",
      "213/213 [==============================] - 1s 2ms/step - loss: 0.9777 - val_loss: 0.9471\n",
      "Epoch 12/300\n",
      "213/213 [==============================] - 1s 2ms/step - loss: 0.9539 - val_loss: 0.9129\n",
      "Epoch 13/300\n",
      "213/213 [==============================] - 0s 2ms/step - loss: 0.9424 - val_loss: 0.9297\n",
      "Epoch 14/300\n",
      "213/213 [==============================] - 0s 2ms/step - loss: 0.9202 - val_loss: 0.9030\n",
      "Epoch 15/300\n",
      "213/213 [==============================] - 0s 2ms/step - loss: 0.8936 - val_loss: 0.9201\n",
      "Epoch 16/300\n",
      "213/213 [==============================] - 0s 2ms/step - loss: 0.8639 - val_loss: 0.8398\n",
      "Epoch 17/300\n",
      "213/213 [==============================] - 0s 2ms/step - loss: 0.8294 - val_loss: 0.8954\n",
      "Epoch 18/300\n",
      "213/213 [==============================] - 0s 2ms/step - loss: 0.7997 - val_loss: 0.7860\n",
      "Epoch 19/300\n",
      "213/213 [==============================] - 0s 2ms/step - loss: 0.7593 - val_loss: 0.7738\n",
      "Epoch 20/300\n",
      "213/213 [==============================] - 1s 2ms/step - loss: 0.7178 - val_loss: 0.7516\n",
      "Epoch 21/300\n",
      "213/213 [==============================] - 1s 2ms/step - loss: 0.6758 - val_loss: 0.6928\n",
      "Epoch 22/300\n",
      "213/213 [==============================] - 0s 2ms/step - loss: 0.6414 - val_loss: 0.6290\n",
      "Epoch 23/300\n",
      "213/213 [==============================] - 0s 2ms/step - loss: 0.6028 - val_loss: 0.5643\n",
      "Epoch 24/300\n",
      "213/213 [==============================] - 0s 2ms/step - loss: 0.5760 - val_loss: 0.5780\n",
      "Epoch 25/300\n",
      "213/213 [==============================] - 0s 2ms/step - loss: 0.5565 - val_loss: 0.5577\n",
      "Epoch 26/300\n",
      "213/213 [==============================] - 0s 2ms/step - loss: 0.5274 - val_loss: 0.5198\n",
      "Epoch 27/300\n",
      "213/213 [==============================] - 0s 2ms/step - loss: 0.5055 - val_loss: 0.5743\n",
      "Epoch 28/300\n",
      "213/213 [==============================] - 0s 2ms/step - loss: 0.4948 - val_loss: 0.5554\n",
      "Epoch 29/300\n",
      "213/213 [==============================] - 0s 2ms/step - loss: 0.4722 - val_loss: 0.4964\n",
      "Epoch 30/300\n",
      "213/213 [==============================] - 1s 2ms/step - loss: 0.4497 - val_loss: 0.5563\n",
      "Epoch 31/300\n",
      "213/213 [==============================] - 1s 2ms/step - loss: 0.4431 - val_loss: 0.5276\n",
      "Epoch 32/300\n",
      "213/213 [==============================] - 0s 2ms/step - loss: 0.4310 - val_loss: 0.4554\n",
      "Epoch 33/300\n",
      "213/213 [==============================] - 0s 2ms/step - loss: 0.4171 - val_loss: 0.4176\n",
      "Epoch 34/300\n",
      "213/213 [==============================] - 0s 2ms/step - loss: 0.3926 - val_loss: 0.4385\n",
      "Epoch 35/300\n",
      "213/213 [==============================] - 0s 2ms/step - loss: 0.3986 - val_loss: 0.4077\n",
      "Epoch 36/300\n",
      "213/213 [==============================] - 0s 2ms/step - loss: 0.3828 - val_loss: 0.3830\n",
      "Epoch 37/300\n",
      "213/213 [==============================] - 0s 2ms/step - loss: 0.3944 - val_loss: 0.4287\n",
      "Epoch 38/300\n",
      "213/213 [==============================] - 0s 2ms/step - loss: 0.3685 - val_loss: 0.3821\n",
      "Epoch 39/300\n",
      "213/213 [==============================] - 0s 2ms/step - loss: 0.3666 - val_loss: 0.3815\n",
      "Epoch 40/300\n",
      "213/213 [==============================] - 0s 2ms/step - loss: 0.3753 - val_loss: 0.3557\n",
      "Epoch 41/300\n",
      "213/213 [==============================] - 0s 2ms/step - loss: 0.3589 - val_loss: 0.3586\n",
      "Epoch 42/300\n",
      "213/213 [==============================] - 1s 2ms/step - loss: 0.3494 - val_loss: 0.3469\n",
      "Epoch 43/300\n",
      "213/213 [==============================] - 1s 2ms/step - loss: 0.3529 - val_loss: 0.3388\n",
      "Epoch 44/300\n",
      "213/213 [==============================] - 0s 2ms/step - loss: 0.3291 - val_loss: 0.4016\n",
      "Epoch 45/300\n",
      "213/213 [==============================] - 0s 2ms/step - loss: 0.3427 - val_loss: 0.3603\n",
      "Epoch 46/300\n",
      "213/213 [==============================] - 1s 2ms/step - loss: 0.3248 - val_loss: 0.3401\n",
      "Epoch 47/300\n",
      "213/213 [==============================] - 1s 2ms/step - loss: 0.3236 - val_loss: 0.3879\n",
      "Epoch 48/300\n",
      "213/213 [==============================] - 0s 2ms/step - loss: 0.3280 - val_loss: 0.3229\n",
      "Epoch 49/300\n",
      "213/213 [==============================] - 0s 2ms/step - loss: 0.3301 - val_loss: 0.3334\n",
      "Epoch 50/300\n",
      "213/213 [==============================] - 0s 2ms/step - loss: 0.3184 - val_loss: 0.3056\n",
      "Epoch 51/300\n",
      "213/213 [==============================] - 0s 2ms/step - loss: 0.3125 - val_loss: 0.3292\n",
      "Epoch 52/300\n",
      "213/213 [==============================] - 0s 2ms/step - loss: 0.3039 - val_loss: 0.3271\n",
      "Epoch 53/300\n",
      "213/213 [==============================] - 0s 2ms/step - loss: 0.3038 - val_loss: 0.3572\n",
      "Epoch 54/300\n",
      "213/213 [==============================] - 0s 2ms/step - loss: 0.3063 - val_loss: 0.3683\n",
      "Epoch 55/300\n",
      "213/213 [==============================] - 0s 2ms/step - loss: 0.3030 - val_loss: 0.3119\n",
      "Epoch 56/300\n",
      "213/213 [==============================] - 1s 2ms/step - loss: 0.3119 - val_loss: 0.3300\n",
      "Epoch 57/300\n",
      "213/213 [==============================] - 0s 2ms/step - loss: 0.3023 - val_loss: 0.2912\n",
      "Epoch 58/300\n",
      "213/213 [==============================] - 0s 2ms/step - loss: 0.2943 - val_loss: 0.2933\n",
      "Epoch 59/300\n",
      "213/213 [==============================] - 0s 2ms/step - loss: 0.2919 - val_loss: 0.4456\n",
      "Epoch 60/300\n",
      "213/213 [==============================] - 0s 2ms/step - loss: 0.2848 - val_loss: 0.3475\n",
      "Epoch 61/300\n",
      "213/213 [==============================] - 0s 2ms/step - loss: 0.2855 - val_loss: 0.2870\n",
      "Epoch 62/300\n",
      "213/213 [==============================] - 1s 2ms/step - loss: 0.2860 - val_loss: 0.3447\n",
      "Epoch 63/300\n",
      "213/213 [==============================] - 0s 2ms/step - loss: 0.2869 - val_loss: 0.3167\n",
      "Epoch 64/300\n",
      "213/213 [==============================] - 0s 2ms/step - loss: 0.2977 - val_loss: 0.3210\n",
      "Epoch 65/300\n",
      "213/213 [==============================] - 0s 2ms/step - loss: 0.2816 - val_loss: 0.2961\n",
      "Epoch 66/300\n",
      "213/213 [==============================] - 0s 2ms/step - loss: 0.2816 - val_loss: 0.3208\n",
      "Epoch 67/300\n",
      "213/213 [==============================] - 0s 2ms/step - loss: 0.2772 - val_loss: 0.3007\n",
      "Epoch 68/300\n",
      "213/213 [==============================] - 0s 2ms/step - loss: 0.2789 - val_loss: 0.3321\n",
      "Epoch 69/300\n",
      "213/213 [==============================] - 0s 2ms/step - loss: 0.2807 - val_loss: 0.3605\n",
      "Epoch 70/300\n",
      "213/213 [==============================] - 1s 2ms/step - loss: 0.2752 - val_loss: 0.2800\n",
      "Epoch 71/300\n",
      "213/213 [==============================] - 0s 2ms/step - loss: 0.2618 - val_loss: 0.2818\n",
      "Epoch 72/300\n",
      "213/213 [==============================] - 0s 2ms/step - loss: 0.2720 - val_loss: 0.2871\n",
      "Epoch 73/300\n",
      "213/213 [==============================] - 0s 2ms/step - loss: 0.2633 - val_loss: 0.2903\n",
      "Epoch 74/300\n",
      "213/213 [==============================] - 0s 2ms/step - loss: 0.2512 - val_loss: 0.2997\n",
      "Epoch 75/300\n",
      "213/213 [==============================] - 0s 2ms/step - loss: 0.2611 - val_loss: 0.2961\n",
      "Epoch 76/300\n",
      "213/213 [==============================] - 1s 3ms/step - loss: 0.2603 - val_loss: 0.2824\n",
      "Epoch 77/300\n",
      "213/213 [==============================] - 1s 2ms/step - loss: 0.2551 - val_loss: 0.2934\n",
      "Epoch 78/300\n",
      "213/213 [==============================] - 1s 2ms/step - loss: 0.2673 - val_loss: 0.3230\n",
      "Epoch 79/300\n",
      "213/213 [==============================] - 1s 2ms/step - loss: 0.2569 - val_loss: 0.2704\n",
      "Epoch 80/300\n",
      "213/213 [==============================] - 1s 2ms/step - loss: 0.2436 - val_loss: 0.3282\n",
      "Epoch 81/300\n",
      "213/213 [==============================] - 1s 2ms/step - loss: 0.2507 - val_loss: 0.2531\n",
      "Epoch 82/300\n",
      "213/213 [==============================] - 1s 2ms/step - loss: 0.2459 - val_loss: 0.3418\n",
      "Epoch 83/300\n",
      "213/213 [==============================] - 0s 2ms/step - loss: 0.2593 - val_loss: 0.2999\n",
      "Epoch 84/300\n",
      "213/213 [==============================] - 1s 2ms/step - loss: 0.2467 - val_loss: 0.3023\n",
      "Epoch 85/300\n",
      "213/213 [==============================] - 0s 2ms/step - loss: 0.2392 - val_loss: 0.2710\n",
      "Epoch 86/300\n",
      "213/213 [==============================] - 1s 2ms/step - loss: 0.2398 - val_loss: 0.3325\n",
      "Epoch 87/300\n",
      "213/213 [==============================] - 0s 2ms/step - loss: 0.2300 - val_loss: 0.3314\n",
      "Epoch 88/300\n",
      "213/213 [==============================] - 1s 3ms/step - loss: 0.2325 - val_loss: 0.2832\n",
      "Epoch 89/300\n",
      "213/213 [==============================] - 0s 2ms/step - loss: 0.2342 - val_loss: 0.2844\n",
      "Epoch 90/300\n",
      "213/213 [==============================] - 0s 2ms/step - loss: 0.2438 - val_loss: 0.3078\n",
      "Epoch 91/300\n",
      "213/213 [==============================] - 0s 2ms/step - loss: 0.2288 - val_loss: 0.2771\n",
      "Epoch 92/300\n",
      "213/213 [==============================] - 1s 2ms/step - loss: 0.2280 - val_loss: 0.2709\n",
      "Epoch 93/300\n",
      "213/213 [==============================] - 0s 2ms/step - loss: 0.2409 - val_loss: 0.3077\n",
      "Epoch 94/300\n",
      "213/213 [==============================] - 1s 2ms/step - loss: 0.2314 - val_loss: 0.3408\n",
      "Epoch 95/300\n",
      "213/213 [==============================] - 0s 2ms/step - loss: 0.2232 - val_loss: 0.2758\n",
      "Epoch 96/300\n",
      "213/213 [==============================] - 0s 2ms/step - loss: 0.2258 - val_loss: 0.2717\n",
      "Epoch 97/300\n",
      "213/213 [==============================] - 0s 2ms/step - loss: 0.2262 - val_loss: 0.3178\n",
      "Epoch 98/300\n",
      "213/213 [==============================] - 0s 2ms/step - loss: 0.2283 - val_loss: 0.2898\n",
      "Epoch 99/300\n",
      "213/213 [==============================] - 0s 2ms/step - loss: 0.2225 - val_loss: 0.3079\n",
      "Epoch 100/300\n",
      "213/213 [==============================] - 0s 2ms/step - loss: 0.2246 - val_loss: 0.2655\n",
      "Epoch 101/300\n",
      "213/213 [==============================] - 0s 2ms/step - loss: 0.2117 - val_loss: 0.2670\n",
      "Epoch 102/300\n",
      "213/213 [==============================] - 0s 2ms/step - loss: 0.2257 - val_loss: 0.2587\n",
      "Epoch 103/300\n",
      "213/213 [==============================] - 0s 2ms/step - loss: 0.2327 - val_loss: 0.3061\n",
      "Epoch 104/300\n",
      "213/213 [==============================] - 1s 2ms/step - loss: 0.2235 - val_loss: 0.2737\n",
      "Epoch 105/300\n",
      "213/213 [==============================] - 0s 2ms/step - loss: 0.2073 - val_loss: 0.2567\n",
      "Epoch 106/300\n",
      "213/213 [==============================] - 1s 2ms/step - loss: 0.2170 - val_loss: 0.2827\n",
      "Epoch 107/300\n",
      "213/213 [==============================] - 1s 2ms/step - loss: 0.2204 - val_loss: 0.2622\n",
      "Epoch 108/300\n",
      "213/213 [==============================] - 1s 3ms/step - loss: 0.2048 - val_loss: 0.2570\n",
      "Epoch 109/300\n",
      "213/213 [==============================] - 1s 2ms/step - loss: 0.2047 - val_loss: 0.2802\n",
      "Epoch 110/300\n",
      "213/213 [==============================] - 0s 2ms/step - loss: 0.2230 - val_loss: 0.2683\n",
      "Epoch 111/300\n",
      "213/213 [==============================] - 0s 2ms/step - loss: 0.2181 - val_loss: 0.2912\n"
     ]
    }
   ],
   "source": [
    "batch_size = 8\n",
    "if use_pca:\n",
    "    history = nn.fit(x_train, y_train_pca,batch_size=batch_size, validation_split=0.2, epochs=300, callbacks=[tf.keras.callbacks.EarlyStopping(patience=30)])\n",
    "elif use_rbf:\n",
    "    history = nn.fit(x_train, y_train_rbf,batch_size=batch_size, validation_split=0.2, epochs=300, callbacks=[tf.keras.callbacks.EarlyStopping(patience=30)])\n",
    "else:\n",
    "    history = nn.fit(x_train, y_train,batch_size=batch_size, validation_split=0.2, epochs=300, callbacks=[tf.keras.callbacks.EarlyStopping(patience=30)])"
   ]
  },
  {
   "cell_type": "code",
   "execution_count": 25,
   "id": "b039ee45-704d-441c-9927-40bbaef529f4",
   "metadata": {},
   "outputs": [
    {
     "data": {
      "text/html": [
       "<div>\n",
       "<style scoped>\n",
       "    .dataframe tbody tr th:only-of-type {\n",
       "        vertical-align: middle;\n",
       "    }\n",
       "\n",
       "    .dataframe tbody tr th {\n",
       "        vertical-align: top;\n",
       "    }\n",
       "\n",
       "    .dataframe thead th {\n",
       "        text-align: right;\n",
       "    }\n",
       "</style>\n",
       "<table border=\"1\" class=\"dataframe\">\n",
       "  <thead>\n",
       "    <tr style=\"text-align: right;\">\n",
       "      <th></th>\n",
       "      <th>loss</th>\n",
       "      <th>val_loss</th>\n",
       "      <th>epoch</th>\n",
       "    </tr>\n",
       "  </thead>\n",
       "  <tbody>\n",
       "    <tr>\n",
       "      <th>106</th>\n",
       "      <td>0.220397</td>\n",
       "      <td>0.262182</td>\n",
       "      <td>106</td>\n",
       "    </tr>\n",
       "    <tr>\n",
       "      <th>107</th>\n",
       "      <td>0.204836</td>\n",
       "      <td>0.256962</td>\n",
       "      <td>107</td>\n",
       "    </tr>\n",
       "    <tr>\n",
       "      <th>108</th>\n",
       "      <td>0.204677</td>\n",
       "      <td>0.280185</td>\n",
       "      <td>108</td>\n",
       "    </tr>\n",
       "    <tr>\n",
       "      <th>109</th>\n",
       "      <td>0.222959</td>\n",
       "      <td>0.268297</td>\n",
       "      <td>109</td>\n",
       "    </tr>\n",
       "    <tr>\n",
       "      <th>110</th>\n",
       "      <td>0.218120</td>\n",
       "      <td>0.291164</td>\n",
       "      <td>110</td>\n",
       "    </tr>\n",
       "  </tbody>\n",
       "</table>\n",
       "</div>"
      ],
      "text/plain": [
       "         loss  val_loss  epoch\n",
       "106  0.220397  0.262182    106\n",
       "107  0.204836  0.256962    107\n",
       "108  0.204677  0.280185    108\n",
       "109  0.222959  0.268297    109\n",
       "110  0.218120  0.291164    110"
      ]
     },
     "execution_count": 25,
     "metadata": {},
     "output_type": "execute_result"
    }
   ],
   "source": [
    "hist = pd.DataFrame(history.history)\n",
    "hist['epoch'] = history.epoch\n",
    "hist.tail()"
   ]
  },
  {
   "cell_type": "code",
   "execution_count": 26,
   "id": "19c54661-dfd2-427d-b701-5d85a0e74886",
   "metadata": {},
   "outputs": [
    {
     "data": {
      "image/png": "[encoded data removed]",
      "text/plain": [
       "<Figure size 432x288 with 1 Axes>"
      ]
     },
     "metadata": {
      "needs_background": "light"
     },
     "output_type": "display_data"
    }
   ],
   "source": [
    "plot_loss(history, y_range=[0,5])"
   ]
  },
  {
   "cell_type": "code",
   "execution_count": 27,
   "id": "c7ebc030-f08e-466d-9c88-d4928200032e",
   "metadata": {},
   "outputs": [],
   "source": [
    "nn.save('model_data/nn_'+exp_name+'.h5')"
   ]
  },
  {
   "cell_type": "code",
   "execution_count": 24,
   "id": "4b7a18fb-cb4c-4953-bfcb-b129527daa77",
   "metadata": {},
   "outputs": [],
   "source": [
    "nn = tf.keras.models.load_model('model_data/nn_'+exp_name+'.h5')"
   ]
  },
  {
   "cell_type": "markdown",
   "id": "26a2832b-ad46-4272-b199-396274b22e8b",
   "metadata": {
    "tags": [],
    "toc-hr-collapsed": true
   },
   "source": [
    "#### 2. k-Nearest Neighbor (knn)"
   ]
  },
  {
   "cell_type": "code",
   "execution_count": 25,
   "id": "a1d4a20f-e54d-4cc1-935a-258acc24965f",
   "metadata": {},
   "outputs": [],
   "source": [
    "knn = NN_Regressor(K=1)\n",
    "if use_pca:\n",
    "    knn.fit(x_train, y_train_pca)\n",
    "elif use_rbf:\n",
    "    knn.fit(x_train, y_train_rbf)\n",
    "else:\n",
    "    knn.fit(x_train, y_train)"
   ]
  },
  {
   "cell_type": "code",
   "execution_count": 26,
   "id": "087e6c85-9347-4758-b78c-c0db666dd3ae",
   "metadata": {},
   "outputs": [],
   "source": [
    "knn.save_to_file('model_data/knn_'+exp_name)"
   ]
  },
  {
   "cell_type": "markdown",
   "id": "163a76d8-1039-49a0-aa7b-071b139ed765",
   "metadata": {},
   "source": [
    "#### 3. Gaussian Process Regressor (GPR)"
   ]
  },
  {
   "cell_type": "raw",
   "id": "d6da6e82-7ef2-43ea-938f-c66b309060b0",
   "metadata": {},
   "source": [
    "gpr = GPy_Regressor(D_in)\n",
    "if use_pca:\n",
    "    gpr.fit(x_train, y_train_pca, num_restarts = 5) # num_restarts should avoid local minima in optimization process \n",
    "elif use_rbf:\n",
    "    gpr.fit(x_train, y_train_rbf, num_restarts = 5)\n",
    "else:\n",
    "    gpr.fit(x_train, y_train, num_restarts = 5)"
   ]
  },
  {
   "cell_type": "raw",
   "id": "bb28c349-6d73-4cf9-a0a6-ae2534f542b3",
   "metadata": {},
   "source": [
    "print(gpr.gp)\n",
    "# gpr.gp.plot?"
   ]
  },
  {
   "cell_type": "raw",
   "id": "43756deb-534c-452e-9eaa-2bc2b3e7738b",
   "metadata": {},
   "source": [
    "gpr.save_to_file('model_data/gpr_'+exp_name)"
   ]
  },
  {
   "cell_type": "markdown",
   "id": "251d9df1-ba44-4a28-93f3-3d11094f12a4",
   "metadata": {
    "tags": [],
    "toc-hr-collapsed": true
   },
   "source": [
    "#### 4 Mixture Density Network (MDN) "
   ]
  },
  {
   "cell_type": "code",
   "execution_count": 23,
   "id": "cb8e25ba-8f44-4b5a-86d9-21983f18a90e",
   "metadata": {},
   "outputs": [],
   "source": [
    "import tensorflow_probability as tfp"
   ]
  },
  {
   "cell_type": "code",
   "execution_count": 24,
   "id": "713cf691-30d2-4909-819b-79d126fd4137",
   "metadata": {},
   "outputs": [],
   "source": [
    "tf.keras.backend.set_floatx('float64')"
   ]
  },
  {
   "cell_type": "code",
   "execution_count": 25,
   "id": "8cd827d6-9ae2-409a-afa3-077f7d577ce6",
   "metadata": {},
   "outputs": [],
   "source": [
    "tfd = tfp.distributions\n",
    "tfpl = tfp.layers"
   ]
  },
  {
   "cell_type": "code",
   "execution_count": 37,
   "id": "e7f27ca8-e07b-42b4-a540-28c500e038f0",
   "metadata": {},
   "outputs": [],
   "source": [
    "n_comps = 15\n",
    "n_comp_params_size = tfpl.IndependentNormal.params_size(event_shape=(D_out,))\n",
    "\n",
    "params_size = tfpl.MixtureSameFamily.params_size(num_components=n_comps, component_params_size=n_comp_params_size)\n",
    "\n",
    "mdn = Sequential([\n",
    "    Dense(256, activation='relu', input_shape=(D_in,), kernel_regularizer = tf.keras.regularizers.l2(1e-2)),\n",
    "    Dense(256, activation='relu', kernel_regularizer = tf.keras.regularizers.l2(1e-2)),\n",
    "    Dense(params_size),\n",
    "    tfpl.MixtureSameFamily(n_comps, tfpl.IndependentNormal(event_shape=(D_out,)))\n",
    "])\n",
    "\n",
    "def loss(y_true, y_pred):\n",
    "    return -y_pred.log_prob(y_true)"
   ]
  },
  {
   "cell_type": "code",
   "execution_count": 38,
   "id": "845bce5f-e76f-49c4-8b4d-2c359196bd01",
   "metadata": {},
   "outputs": [],
   "source": [
    "mdn.compile(optimizer=tf.keras.optimizers.Adam(learning_rate=0.0002), loss=loss)"
   ]
  },
  {
   "cell_type": "code",
   "execution_count": 39,
   "id": "0b0dec53-8424-4509-a5ce-6d58185746d5",
   "metadata": {
    "scrolled": true,
    "tags": []
   },
   "outputs": [
    {
     "name": "stdout",
     "output_type": "stream",
     "text": [
      "Epoch 1/300\n",
      "69/69 [==============================] - 2s 12ms/step - loss: 40.2933 - val_loss: 20.4628\n",
      "Epoch 2/300\n",
      "69/69 [==============================] - 0s 6ms/step - loss: 18.6828 - val_loss: 16.6690\n",
      "Epoch 3/300\n",
      "69/69 [==============================] - 0s 5ms/step - loss: 17.3051 - val_loss: 15.8742\n",
      "Epoch 4/300\n",
      "69/69 [==============================] - 0s 6ms/step - loss: 15.7882 - val_loss: 14.9571\n",
      "Epoch 5/300\n",
      "69/69 [==============================] - 0s 5ms/step - loss: 14.3416 - val_loss: 15.0853\n",
      "Epoch 6/300\n",
      "69/69 [==============================] - 0s 6ms/step - loss: 14.2608 - val_loss: 14.0692\n",
      "Epoch 7/300\n",
      "69/69 [==============================] - 0s 6ms/step - loss: 13.7746 - val_loss: 13.0384\n",
      "Epoch 8/300\n",
      "69/69 [==============================] - 0s 6ms/step - loss: 13.4470 - val_loss: 13.1852\n",
      "Epoch 9/300\n",
      "69/69 [==============================] - 0s 6ms/step - loss: 13.3657 - val_loss: 14.6679\n",
      "Epoch 10/300\n",
      "69/69 [==============================] - 0s 5ms/step - loss: 12.8537 - val_loss: 12.8513\n",
      "Epoch 11/300\n",
      "69/69 [==============================] - 0s 6ms/step - loss: 12.3210 - val_loss: 13.1258\n",
      "Epoch 12/300\n",
      "69/69 [==============================] - 0s 6ms/step - loss: 12.4481 - val_loss: 12.4267\n",
      "Epoch 13/300\n",
      "69/69 [==============================] - 0s 6ms/step - loss: 12.3546 - val_loss: 12.8663\n",
      "Epoch 14/300\n",
      "69/69 [==============================] - 0s 6ms/step - loss: 11.9289 - val_loss: 12.2005\n",
      "Epoch 15/300\n",
      "69/69 [==============================] - 0s 6ms/step - loss: 11.5571 - val_loss: 11.7787\n",
      "Epoch 16/300\n",
      "69/69 [==============================] - 0s 6ms/step - loss: 11.7654 - val_loss: 11.7808\n",
      "Epoch 17/300\n",
      "69/69 [==============================] - 0s 6ms/step - loss: 11.6352 - val_loss: 12.7278\n",
      "Epoch 18/300\n",
      "69/69 [==============================] - 0s 6ms/step - loss: 11.5381 - val_loss: 11.6207\n",
      "Epoch 19/300\n",
      "69/69 [==============================] - 0s 6ms/step - loss: 11.4738 - val_loss: 14.6985\n",
      "Epoch 20/300\n",
      "69/69 [==============================] - 0s 6ms/step - loss: 11.2935 - val_loss: 11.8100\n",
      "Epoch 21/300\n",
      "69/69 [==============================] - 0s 6ms/step - loss: 11.3636 - val_loss: 11.7891\n",
      "Epoch 22/300\n",
      "69/69 [==============================] - 0s 7ms/step - loss: 11.4754 - val_loss: 12.5428\n",
      "Epoch 23/300\n",
      "69/69 [==============================] - 0s 6ms/step - loss: 10.5317 - val_loss: 11.2655\n",
      "Epoch 24/300\n",
      "69/69 [==============================] - 0s 6ms/step - loss: 10.7994 - val_loss: 11.0750\n",
      "Epoch 25/300\n",
      "69/69 [==============================] - 0s 6ms/step - loss: 10.4855 - val_loss: 11.5980\n",
      "Epoch 26/300\n",
      "69/69 [==============================] - 0s 6ms/step - loss: 10.5091 - val_loss: 12.4169\n",
      "Epoch 27/300\n",
      "69/69 [==============================] - 0s 6ms/step - loss: 10.1109 - val_loss: 11.9444\n",
      "Epoch 28/300\n",
      "69/69 [==============================] - 0s 6ms/step - loss: 10.5430 - val_loss: 10.6860\n",
      "Epoch 29/300\n",
      "69/69 [==============================] - 0s 5ms/step - loss: 10.0589 - val_loss: 11.0354\n",
      "Epoch 30/300\n",
      "69/69 [==============================] - 0s 6ms/step - loss: 10.1279 - val_loss: 11.1644\n",
      "Epoch 31/300\n",
      "69/69 [==============================] - 0s 6ms/step - loss: 9.8241 - val_loss: 11.3447\n",
      "Epoch 32/300\n",
      "69/69 [==============================] - 0s 6ms/step - loss: 9.9993 - val_loss: 10.6137\n",
      "Epoch 33/300\n",
      "69/69 [==============================] - 0s 6ms/step - loss: 9.5361 - val_loss: 11.3762\n",
      "Epoch 34/300\n",
      "69/69 [==============================] - 0s 6ms/step - loss: 9.6857 - val_loss: 10.5104\n",
      "Epoch 35/300\n",
      "69/69 [==============================] - 0s 5ms/step - loss: 10.0525 - val_loss: 11.9208\n",
      "Epoch 36/300\n",
      "69/69 [==============================] - 0s 6ms/step - loss: 9.5207 - val_loss: 11.0149\n",
      "Epoch 37/300\n",
      "69/69 [==============================] - 0s 6ms/step - loss: 9.3885 - val_loss: 10.9925\n",
      "Epoch 38/300\n",
      "69/69 [==============================] - 0s 5ms/step - loss: 9.6742 - val_loss: 10.6919\n",
      "Epoch 39/300\n",
      "69/69 [==============================] - 0s 5ms/step - loss: 9.6377 - val_loss: 10.5604\n",
      "Epoch 40/300\n",
      "69/69 [==============================] - 0s 5ms/step - loss: 9.4974 - val_loss: 10.5260\n",
      "Epoch 41/300\n",
      "69/69 [==============================] - 0s 6ms/step - loss: 9.7162 - val_loss: 10.9984\n",
      "Epoch 42/300\n",
      "69/69 [==============================] - 0s 6ms/step - loss: 9.2447 - val_loss: 10.7334\n",
      "Epoch 43/300\n",
      "69/69 [==============================] - 0s 6ms/step - loss: 8.9812 - val_loss: 10.1831\n",
      "Epoch 44/300\n",
      "69/69 [==============================] - 0s 6ms/step - loss: 9.1425 - val_loss: 9.6216\n",
      "Epoch 45/300\n",
      "69/69 [==============================] - 0s 6ms/step - loss: 9.0466 - val_loss: 9.5408\n",
      "Epoch 46/300\n",
      "69/69 [==============================] - 0s 6ms/step - loss: 8.9946 - val_loss: 11.4001\n",
      "Epoch 47/300\n",
      "69/69 [==============================] - 0s 5ms/step - loss: 8.5765 - val_loss: 9.4367\n",
      "Epoch 48/300\n",
      "69/69 [==============================] - 0s 6ms/step - loss: 8.7736 - val_loss: 10.4476\n",
      "Epoch 49/300\n",
      "69/69 [==============================] - 0s 6ms/step - loss: 8.4404 - val_loss: 9.7643\n",
      "Epoch 50/300\n",
      "69/69 [==============================] - 0s 6ms/step - loss: 8.5740 - val_loss: 9.3547\n",
      "Epoch 51/300\n",
      "69/69 [==============================] - 0s 6ms/step - loss: 8.6483 - val_loss: 10.0587\n",
      "Epoch 52/300\n",
      "69/69 [==============================] - 0s 6ms/step - loss: 8.4349 - val_loss: 10.8736\n",
      "Epoch 53/300\n",
      "69/69 [==============================] - 0s 6ms/step - loss: 8.2740 - val_loss: 9.3150\n",
      "Epoch 54/300\n",
      "69/69 [==============================] - 0s 6ms/step - loss: 8.4808 - val_loss: 9.8576\n",
      "Epoch 55/300\n",
      "69/69 [==============================] - 0s 6ms/step - loss: 8.1437 - val_loss: 11.1306\n",
      "Epoch 56/300\n",
      "69/69 [==============================] - 0s 6ms/step - loss: 8.3643 - val_loss: 10.2286\n",
      "Epoch 57/300\n",
      "69/69 [==============================] - 0s 6ms/step - loss: 8.1766 - val_loss: 9.4230\n",
      "Epoch 58/300\n",
      "69/69 [==============================] - 0s 6ms/step - loss: 7.8196 - val_loss: 9.7633\n",
      "Epoch 59/300\n",
      "69/69 [==============================] - 0s 6ms/step - loss: 8.2104 - val_loss: 10.5341\n",
      "Epoch 60/300\n",
      "69/69 [==============================] - 0s 5ms/step - loss: 8.0217 - val_loss: 10.4319\n",
      "Epoch 61/300\n",
      "69/69 [==============================] - 0s 6ms/step - loss: 7.9678 - val_loss: 9.3939\n",
      "Epoch 62/300\n",
      "69/69 [==============================] - 0s 6ms/step - loss: 7.5902 - val_loss: 9.4328\n",
      "Epoch 63/300\n",
      "69/69 [==============================] - 0s 6ms/step - loss: 7.6181 - val_loss: 10.9745\n",
      "Epoch 64/300\n",
      "69/69 [==============================] - 0s 5ms/step - loss: 7.9811 - val_loss: 9.7769\n",
      "Epoch 65/300\n",
      "69/69 [==============================] - 0s 5ms/step - loss: 7.6983 - val_loss: 10.2591\n",
      "Epoch 66/300\n",
      "69/69 [==============================] - 0s 5ms/step - loss: 7.9120 - val_loss: 10.2450\n",
      "Epoch 67/300\n",
      "69/69 [==============================] - 0s 5ms/step - loss: 7.5050 - val_loss: 9.0794\n",
      "Epoch 68/300\n",
      "69/69 [==============================] - 0s 5ms/step - loss: 7.3097 - val_loss: 9.2686\n",
      "Epoch 69/300\n",
      "69/69 [==============================] - 0s 5ms/step - loss: 7.2364 - val_loss: 9.3945\n",
      "Epoch 70/300\n",
      "69/69 [==============================] - 0s 6ms/step - loss: 7.6309 - val_loss: 9.9814\n",
      "Epoch 71/300\n",
      "69/69 [==============================] - 0s 5ms/step - loss: 7.4476 - val_loss: 9.2397\n",
      "Epoch 72/300\n",
      "69/69 [==============================] - 0s 6ms/step - loss: 7.5987 - val_loss: 9.3220\n",
      "Epoch 73/300\n",
      "69/69 [==============================] - 0s 6ms/step - loss: 7.4858 - val_loss: 9.8038\n",
      "Epoch 74/300\n",
      "69/69 [==============================] - 0s 6ms/step - loss: 7.1044 - val_loss: 9.2479\n",
      "Epoch 75/300\n",
      "69/69 [==============================] - 0s 6ms/step - loss: 7.1584 - val_loss: 9.1012\n",
      "Epoch 76/300\n",
      "69/69 [==============================] - 0s 6ms/step - loss: 7.2678 - val_loss: 10.2871\n",
      "Epoch 77/300\n",
      "69/69 [==============================] - 0s 6ms/step - loss: 7.1575 - val_loss: 9.4506\n",
      "Epoch 78/300\n",
      "69/69 [==============================] - 0s 6ms/step - loss: 7.1312 - val_loss: 9.5901\n",
      "Epoch 79/300\n",
      "69/69 [==============================] - 0s 6ms/step - loss: 7.0537 - val_loss: 9.5600\n",
      "Epoch 80/300\n",
      "69/69 [==============================] - 0s 6ms/step - loss: 6.9987 - val_loss: 9.7476\n",
      "Epoch 81/300\n",
      "69/69 [==============================] - 0s 5ms/step - loss: 6.9960 - val_loss: 9.7660\n",
      "Epoch 82/300\n",
      "69/69 [==============================] - 0s 5ms/step - loss: 6.8298 - val_loss: 10.8079\n",
      "Epoch 83/300\n",
      "69/69 [==============================] - 0s 5ms/step - loss: 6.9824 - val_loss: 9.5173\n",
      "Epoch 84/300\n",
      "69/69 [==============================] - 0s 6ms/step - loss: 6.9439 - val_loss: 9.3198\n",
      "Epoch 85/300\n",
      "69/69 [==============================] - 0s 6ms/step - loss: 6.6758 - val_loss: 9.3777\n",
      "Epoch 86/300\n",
      "69/69 [==============================] - 0s 5ms/step - loss: 6.8562 - val_loss: 9.5338\n",
      "Epoch 87/300\n",
      "69/69 [==============================] - 0s 5ms/step - loss: 6.7014 - val_loss: 9.9627\n",
      "Epoch 88/300\n",
      "69/69 [==============================] - 0s 5ms/step - loss: 6.7971 - val_loss: 8.9637\n",
      "Epoch 89/300\n",
      "69/69 [==============================] - 0s 6ms/step - loss: 6.4512 - val_loss: 9.1793\n",
      "Epoch 90/300\n",
      "69/69 [==============================] - 0s 6ms/step - loss: 6.2478 - val_loss: 8.9930\n",
      "Epoch 91/300\n",
      "69/69 [==============================] - 0s 6ms/step - loss: 6.0916 - val_loss: 9.1505\n",
      "Epoch 92/300\n",
      "69/69 [==============================] - 0s 5ms/step - loss: 6.5741 - val_loss: 9.6513\n",
      "Epoch 93/300\n",
      "69/69 [==============================] - 0s 5ms/step - loss: 6.5791 - val_loss: 9.9683\n",
      "Epoch 94/300\n",
      "69/69 [==============================] - 0s 6ms/step - loss: 6.4949 - val_loss: 9.7856\n",
      "Epoch 95/300\n",
      "69/69 [==============================] - 0s 6ms/step - loss: 6.1042 - val_loss: 9.6165\n",
      "Epoch 96/300\n",
      "69/69 [==============================] - 0s 6ms/step - loss: 6.0095 - val_loss: 10.1703\n",
      "Epoch 97/300\n",
      "69/69 [==============================] - 0s 5ms/step - loss: 5.9610 - val_loss: 10.8690\n",
      "Epoch 98/300\n",
      "69/69 [==============================] - 0s 6ms/step - loss: 6.1488 - val_loss: 9.7747\n",
      "Epoch 99/300\n",
      "69/69 [==============================] - 0s 6ms/step - loss: 5.8725 - val_loss: 10.9958\n",
      "Epoch 100/300\n",
      "69/69 [==============================] - 0s 5ms/step - loss: 6.0976 - val_loss: 9.7236\n",
      "Epoch 101/300\n",
      "69/69 [==============================] - 0s 5ms/step - loss: 6.0544 - val_loss: 9.4065\n",
      "Epoch 102/300\n",
      "69/69 [==============================] - 0s 6ms/step - loss: 6.1084 - val_loss: 9.3192\n",
      "Epoch 103/300\n",
      "69/69 [==============================] - 0s 5ms/step - loss: 5.9541 - val_loss: 8.9089\n",
      "Epoch 104/300\n",
      "69/69 [==============================] - 0s 5ms/step - loss: 5.8156 - val_loss: 9.1591\n",
      "Epoch 105/300\n",
      "69/69 [==============================] - 0s 6ms/step - loss: 5.5753 - val_loss: 9.9641\n",
      "Epoch 106/300\n",
      "69/69 [==============================] - 0s 5ms/step - loss: 5.8969 - val_loss: 9.3579\n",
      "Epoch 107/300\n",
      "69/69 [==============================] - 0s 6ms/step - loss: 5.4361 - val_loss: 9.7160\n",
      "Epoch 108/300\n",
      "69/69 [==============================] - 0s 6ms/step - loss: 5.6671 - val_loss: 9.1927\n",
      "Epoch 109/300\n",
      "69/69 [==============================] - 0s 6ms/step - loss: 5.5771 - val_loss: 10.1115\n",
      "Epoch 110/300\n",
      "69/69 [==============================] - 0s 5ms/step - loss: 5.7275 - val_loss: 9.6449\n",
      "Epoch 111/300\n",
      "23/69 [=========>....................] - ETA: 0s - loss: 5.3676"
     ]
    },
    {
     "ename": "KeyboardInterrupt",
     "evalue": "",
     "output_type": "error",
     "traceback": [
      "\u001b[0;31m---------------------------------------------------------------------------\u001b[0m",
      "\u001b[0;31mKeyboardInterrupt\u001b[0m                         Traceback (most recent call last)",
      "\u001b[0;32m<ipython-input-39-9f1c37d34291>\u001b[0m in \u001b[0;36m<module>\u001b[0;34m\u001b[0m\n\u001b[1;32m      1\u001b[0m \u001b[0mbatch_size\u001b[0m \u001b[0;34m=\u001b[0m \u001b[0;36m8\u001b[0m\u001b[0;34m\u001b[0m\u001b[0;34m\u001b[0m\u001b[0m\n\u001b[1;32m      2\u001b[0m \u001b[0;32mif\u001b[0m \u001b[0muse_pca\u001b[0m\u001b[0;34m:\u001b[0m\u001b[0;34m\u001b[0m\u001b[0;34m\u001b[0m\u001b[0m\n\u001b[0;32m----> 3\u001b[0;31m     \u001b[0mhistory\u001b[0m \u001b[0;34m=\u001b[0m \u001b[0mmdn\u001b[0m\u001b[0;34m.\u001b[0m\u001b[0mfit\u001b[0m\u001b[0;34m(\u001b[0m\u001b[0mx_train\u001b[0m\u001b[0;34m,\u001b[0m \u001b[0my_train_pca\u001b[0m\u001b[0;34m,\u001b[0m\u001b[0mbatch_size\u001b[0m\u001b[0;34m=\u001b[0m\u001b[0mbatch_size\u001b[0m\u001b[0;34m,\u001b[0m \u001b[0mvalidation_split\u001b[0m\u001b[0;34m=\u001b[0m\u001b[0;36m0.1\u001b[0m\u001b[0;34m,\u001b[0m \u001b[0mepochs\u001b[0m\u001b[0;34m=\u001b[0m\u001b[0;36m300\u001b[0m\u001b[0;34m,\u001b[0m \u001b[0mcallbacks\u001b[0m\u001b[0;34m=\u001b[0m\u001b[0;34m[\u001b[0m\u001b[0mtf\u001b[0m\u001b[0;34m.\u001b[0m\u001b[0mkeras\u001b[0m\u001b[0;34m.\u001b[0m\u001b[0mcallbacks\u001b[0m\u001b[0;34m.\u001b[0m\u001b[0mEarlyStopping\u001b[0m\u001b[0;34m(\u001b[0m\u001b[0mpatience\u001b[0m\u001b[0;34m=\u001b[0m\u001b[0;36m30\u001b[0m\u001b[0;34m)\u001b[0m\u001b[0;34m]\u001b[0m\u001b[0;34m,\u001b[0m \u001b[0mverbose\u001b[0m\u001b[0;34m=\u001b[0m\u001b[0;36m1\u001b[0m\u001b[0;34m)\u001b[0m\u001b[0;34m\u001b[0m\u001b[0;34m\u001b[0m\u001b[0m\n\u001b[0m\u001b[1;32m      4\u001b[0m \u001b[0;32melif\u001b[0m \u001b[0muse_rbf\u001b[0m\u001b[0;34m:\u001b[0m\u001b[0;34m\u001b[0m\u001b[0;34m\u001b[0m\u001b[0m\n\u001b[1;32m      5\u001b[0m     \u001b[0mhistory\u001b[0m \u001b[0;34m=\u001b[0m \u001b[0mmdn\u001b[0m\u001b[0;34m.\u001b[0m\u001b[0mfit\u001b[0m\u001b[0;34m(\u001b[0m\u001b[0mx_train\u001b[0m\u001b[0;34m,\u001b[0m \u001b[0my_train_rbf\u001b[0m\u001b[0;34m,\u001b[0m\u001b[0mbatch_size\u001b[0m\u001b[0;34m=\u001b[0m\u001b[0mbatch_size\u001b[0m\u001b[0;34m,\u001b[0m \u001b[0mvalidation_split\u001b[0m\u001b[0;34m=\u001b[0m\u001b[0;36m0.1\u001b[0m\u001b[0;34m,\u001b[0m \u001b[0mepochs\u001b[0m\u001b[0;34m=\u001b[0m\u001b[0;36m300\u001b[0m\u001b[0;34m,\u001b[0m \u001b[0mcallbacks\u001b[0m\u001b[0;34m=\u001b[0m\u001b[0;34m[\u001b[0m\u001b[0mtf\u001b[0m\u001b[0;34m.\u001b[0m\u001b[0mkeras\u001b[0m\u001b[0;34m.\u001b[0m\u001b[0mcallbacks\u001b[0m\u001b[0;34m.\u001b[0m\u001b[0mEarlyStopping\u001b[0m\u001b[0;34m(\u001b[0m\u001b[0mpatience\u001b[0m\u001b[0;34m=\u001b[0m\u001b[0;36m30\u001b[0m\u001b[0;34m)\u001b[0m\u001b[0;34m]\u001b[0m\u001b[0;34m)\u001b[0m\u001b[0;34m\u001b[0m\u001b[0;34m\u001b[0m\u001b[0m\n",
      "\u001b[0;32m~/miniconda3/envs/tf3/lib/python3.9/site-packages/tensorflow/python/keras/engine/training.py\u001b[0m in \u001b[0;36mfit\u001b[0;34m(self, x, y, batch_size, epochs, verbose, callbacks, validation_split, validation_data, shuffle, class_weight, sample_weight, initial_epoch, steps_per_epoch, validation_steps, validation_batch_size, validation_freq, max_queue_size, workers, use_multiprocessing)\u001b[0m\n\u001b[1;32m   1181\u001b[0m                 _r=1):\n\u001b[1;32m   1182\u001b[0m               \u001b[0mcallbacks\u001b[0m\u001b[0;34m.\u001b[0m\u001b[0mon_train_batch_begin\u001b[0m\u001b[0;34m(\u001b[0m\u001b[0mstep\u001b[0m\u001b[0;34m)\u001b[0m\u001b[0;34m\u001b[0m\u001b[0;34m\u001b[0m\u001b[0m\n\u001b[0;32m-> 1183\u001b[0;31m               \u001b[0mtmp_logs\u001b[0m \u001b[0;34m=\u001b[0m \u001b[0mself\u001b[0m\u001b[0;34m.\u001b[0m\u001b[0mtrain_function\u001b[0m\u001b[0;34m(\u001b[0m\u001b[0miterator\u001b[0m\u001b[0;34m)\u001b[0m\u001b[0;34m\u001b[0m\u001b[0;34m\u001b[0m\u001b[0m\n\u001b[0m\u001b[1;32m   1184\u001b[0m               \u001b[0;32mif\u001b[0m \u001b[0mdata_handler\u001b[0m\u001b[0;34m.\u001b[0m\u001b[0mshould_sync\u001b[0m\u001b[0;34m:\u001b[0m\u001b[0;34m\u001b[0m\u001b[0;34m\u001b[0m\u001b[0m\n\u001b[1;32m   1185\u001b[0m                 \u001b[0mcontext\u001b[0m\u001b[0;34m.\u001b[0m\u001b[0masync_wait\u001b[0m\u001b[0;34m(\u001b[0m\u001b[0;34m)\u001b[0m\u001b[0;34m\u001b[0m\u001b[0;34m\u001b[0m\u001b[0m\n",
      "\u001b[0;32m~/miniconda3/envs/tf3/lib/python3.9/site-packages/tensorflow/python/eager/def_function.py\u001b[0m in \u001b[0;36m__call__\u001b[0;34m(self, *args, **kwds)\u001b[0m\n\u001b[1;32m    887\u001b[0m \u001b[0;34m\u001b[0m\u001b[0m\n\u001b[1;32m    888\u001b[0m       \u001b[0;32mwith\u001b[0m \u001b[0mOptionalXlaContext\u001b[0m\u001b[0;34m(\u001b[0m\u001b[0mself\u001b[0m\u001b[0;34m.\u001b[0m\u001b[0m_jit_compile\u001b[0m\u001b[0;34m)\u001b[0m\u001b[0;34m:\u001b[0m\u001b[0;34m\u001b[0m\u001b[0;34m\u001b[0m\u001b[0m\n\u001b[0;32m--> 889\u001b[0;31m         \u001b[0mresult\u001b[0m \u001b[0;34m=\u001b[0m \u001b[0mself\u001b[0m\u001b[0;34m.\u001b[0m\u001b[0m_call\u001b[0m\u001b[0;34m(\u001b[0m\u001b[0;34m*\u001b[0m\u001b[0margs\u001b[0m\u001b[0;34m,\u001b[0m \u001b[0;34m**\u001b[0m\u001b[0mkwds\u001b[0m\u001b[0;34m)\u001b[0m\u001b[0;34m\u001b[0m\u001b[0;34m\u001b[0m\u001b[0m\n\u001b[0m\u001b[1;32m    890\u001b[0m \u001b[0;34m\u001b[0m\u001b[0m\n\u001b[1;32m    891\u001b[0m       \u001b[0mnew_tracing_count\u001b[0m \u001b[0;34m=\u001b[0m \u001b[0mself\u001b[0m\u001b[0;34m.\u001b[0m\u001b[0mexperimental_get_tracing_count\u001b[0m\u001b[0;34m(\u001b[0m\u001b[0;34m)\u001b[0m\u001b[0;34m\u001b[0m\u001b[0;34m\u001b[0m\u001b[0m\n",
      "\u001b[0;32m~/miniconda3/envs/tf3/lib/python3.9/site-packages/tensorflow/python/eager/def_function.py\u001b[0m in \u001b[0;36m_call\u001b[0;34m(self, *args, **kwds)\u001b[0m\n\u001b[1;32m    915\u001b[0m       \u001b[0;31m# In this case we have created variables on the first call, so we run the\u001b[0m\u001b[0;34m\u001b[0m\u001b[0;34m\u001b[0m\u001b[0;34m\u001b[0m\u001b[0m\n\u001b[1;32m    916\u001b[0m       \u001b[0;31m# defunned version which is guaranteed to never create variables.\u001b[0m\u001b[0;34m\u001b[0m\u001b[0;34m\u001b[0m\u001b[0;34m\u001b[0m\u001b[0m\n\u001b[0;32m--> 917\u001b[0;31m       \u001b[0;32mreturn\u001b[0m \u001b[0mself\u001b[0m\u001b[0;34m.\u001b[0m\u001b[0m_stateless_fn\u001b[0m\u001b[0;34m(\u001b[0m\u001b[0;34m*\u001b[0m\u001b[0margs\u001b[0m\u001b[0;34m,\u001b[0m \u001b[0;34m**\u001b[0m\u001b[0mkwds\u001b[0m\u001b[0;34m)\u001b[0m  \u001b[0;31m# pylint: disable=not-callable\u001b[0m\u001b[0;34m\u001b[0m\u001b[0;34m\u001b[0m\u001b[0m\n\u001b[0m\u001b[1;32m    918\u001b[0m     \u001b[0;32melif\u001b[0m \u001b[0mself\u001b[0m\u001b[0;34m.\u001b[0m\u001b[0m_stateful_fn\u001b[0m \u001b[0;32mis\u001b[0m \u001b[0;32mnot\u001b[0m \u001b[0;32mNone\u001b[0m\u001b[0;34m:\u001b[0m\u001b[0;34m\u001b[0m\u001b[0;34m\u001b[0m\u001b[0m\n\u001b[1;32m    919\u001b[0m       \u001b[0;31m# Release the lock early so that multiple threads can perform the call\u001b[0m\u001b[0;34m\u001b[0m\u001b[0;34m\u001b[0m\u001b[0;34m\u001b[0m\u001b[0m\n",
      "\u001b[0;32m~/miniconda3/envs/tf3/lib/python3.9/site-packages/tensorflow/python/eager/function.py\u001b[0m in \u001b[0;36m__call__\u001b[0;34m(self, *args, **kwargs)\u001b[0m\n\u001b[1;32m   3021\u001b[0m       (graph_function,\n\u001b[1;32m   3022\u001b[0m        filtered_flat_args) = self._maybe_define_function(args, kwargs)\n\u001b[0;32m-> 3023\u001b[0;31m     return graph_function._call_flat(\n\u001b[0m\u001b[1;32m   3024\u001b[0m         filtered_flat_args, captured_inputs=graph_function.captured_inputs)  # pylint: disable=protected-access\n\u001b[1;32m   3025\u001b[0m \u001b[0;34m\u001b[0m\u001b[0m\n",
      "\u001b[0;32m~/miniconda3/envs/tf3/lib/python3.9/site-packages/tensorflow/python/eager/function.py\u001b[0m in \u001b[0;36m_call_flat\u001b[0;34m(self, args, captured_inputs, cancellation_manager)\u001b[0m\n\u001b[1;32m   1958\u001b[0m         and executing_eagerly):\n\u001b[1;32m   1959\u001b[0m       \u001b[0;31m# No tape is watching; skip to running the function.\u001b[0m\u001b[0;34m\u001b[0m\u001b[0;34m\u001b[0m\u001b[0;34m\u001b[0m\u001b[0m\n\u001b[0;32m-> 1960\u001b[0;31m       return self._build_call_outputs(self._inference_function.call(\n\u001b[0m\u001b[1;32m   1961\u001b[0m           ctx, args, cancellation_manager=cancellation_manager))\n\u001b[1;32m   1962\u001b[0m     forward_backward = self._select_forward_and_backward_functions(\n",
      "\u001b[0;32m~/miniconda3/envs/tf3/lib/python3.9/site-packages/tensorflow/python/eager/function.py\u001b[0m in \u001b[0;36mcall\u001b[0;34m(self, ctx, args, cancellation_manager)\u001b[0m\n\u001b[1;32m    589\u001b[0m       \u001b[0;32mwith\u001b[0m \u001b[0m_InterpolateFunctionError\u001b[0m\u001b[0;34m(\u001b[0m\u001b[0mself\u001b[0m\u001b[0;34m)\u001b[0m\u001b[0;34m:\u001b[0m\u001b[0;34m\u001b[0m\u001b[0;34m\u001b[0m\u001b[0m\n\u001b[1;32m    590\u001b[0m         \u001b[0;32mif\u001b[0m \u001b[0mcancellation_manager\u001b[0m \u001b[0;32mis\u001b[0m \u001b[0;32mNone\u001b[0m\u001b[0;34m:\u001b[0m\u001b[0;34m\u001b[0m\u001b[0;34m\u001b[0m\u001b[0m\n\u001b[0;32m--> 591\u001b[0;31m           outputs = execute.execute(\n\u001b[0m\u001b[1;32m    592\u001b[0m               \u001b[0mstr\u001b[0m\u001b[0;34m(\u001b[0m\u001b[0mself\u001b[0m\u001b[0;34m.\u001b[0m\u001b[0msignature\u001b[0m\u001b[0;34m.\u001b[0m\u001b[0mname\u001b[0m\u001b[0;34m)\u001b[0m\u001b[0;34m,\u001b[0m\u001b[0;34m\u001b[0m\u001b[0;34m\u001b[0m\u001b[0m\n\u001b[1;32m    593\u001b[0m               \u001b[0mnum_outputs\u001b[0m\u001b[0;34m=\u001b[0m\u001b[0mself\u001b[0m\u001b[0;34m.\u001b[0m\u001b[0m_num_outputs\u001b[0m\u001b[0;34m,\u001b[0m\u001b[0;34m\u001b[0m\u001b[0;34m\u001b[0m\u001b[0m\n",
      "\u001b[0;32m~/miniconda3/envs/tf3/lib/python3.9/site-packages/tensorflow/python/eager/execute.py\u001b[0m in \u001b[0;36mquick_execute\u001b[0;34m(op_name, num_outputs, inputs, attrs, ctx, name)\u001b[0m\n\u001b[1;32m     57\u001b[0m   \u001b[0;32mtry\u001b[0m\u001b[0;34m:\u001b[0m\u001b[0;34m\u001b[0m\u001b[0;34m\u001b[0m\u001b[0m\n\u001b[1;32m     58\u001b[0m     \u001b[0mctx\u001b[0m\u001b[0;34m.\u001b[0m\u001b[0mensure_initialized\u001b[0m\u001b[0;34m(\u001b[0m\u001b[0;34m)\u001b[0m\u001b[0;34m\u001b[0m\u001b[0;34m\u001b[0m\u001b[0m\n\u001b[0;32m---> 59\u001b[0;31m     tensors = pywrap_tfe.TFE_Py_Execute(ctx._handle, device_name, op_name,\n\u001b[0m\u001b[1;32m     60\u001b[0m                                         inputs, attrs, num_outputs)\n\u001b[1;32m     61\u001b[0m   \u001b[0;32mexcept\u001b[0m \u001b[0mcore\u001b[0m\u001b[0;34m.\u001b[0m\u001b[0m_NotOkStatusException\u001b[0m \u001b[0;32mas\u001b[0m \u001b[0me\u001b[0m\u001b[0;34m:\u001b[0m\u001b[0;34m\u001b[0m\u001b[0;34m\u001b[0m\u001b[0m\n",
      "\u001b[0;31mKeyboardInterrupt\u001b[0m: "
     ]
    }
   ],
   "source": [
    "batch_size = 8\n",
    "if use_pca:\n",
    "    history = mdn.fit(x_train, y_train_pca,batch_size=batch_size, validation_split=0.1, epochs=300, callbacks=[tf.keras.callbacks.EarlyStopping(patience=30)], verbose=1)\n",
    "elif use_rbf:\n",
    "    history = mdn.fit(x_train, y_train_rbf,batch_size=batch_size, validation_split=0.1, epochs=300, callbacks=[tf.keras.callbacks.EarlyStopping(patience=30)])\n",
    "else:\n",
    "    history = mdn.fit(x_train, y_train,batch_size=batch_size, validation_split=0.1, epochs=300, callbacks=[tf.keras.callbacks.EarlyStopping(patience=30)])"
   ]
  },
  {
   "cell_type": "raw",
   "id": "b8de5c2e-45c9-4b4a-b3b3-879d63ee838c",
   "metadata": {
    "tags": []
   },
   "source": [
    "hist = pd.DataFrame(history.history)\n",
    "hist['epoch'] = history.epoch\n",
    "hist.tail()"
   ]
  },
  {
   "cell_type": "code",
   "execution_count": 40,
   "id": "569fd7a3-8165-40bf-bd98-27bf59bc742c",
   "metadata": {},
   "outputs": [
    {
     "data": {
      "image/png": "[encoded data removed]",
      "text/plain": [
       "<Figure size 432x288 with 1 Axes>"
      ]
     },
     "metadata": {
      "needs_background": "light"
     },
     "output_type": "display_data"
    }
   ],
   "source": [
    "plot_loss(history, y_range= [0,300])"
   ]
  },
  {
   "cell_type": "code",
   "execution_count": 41,
   "id": "064955c2-c3ae-4f82-8c8d-8e771b58b5c1",
   "metadata": {},
   "outputs": [],
   "source": [
    "mdn.save_weights('model_data/mdn_'+exp_name)"
   ]
  },
  {
   "cell_type": "code",
   "execution_count": 32,
   "id": "13d32672-fbef-443b-8e6e-b9f26ec7dcfd",
   "metadata": {},
   "outputs": [
    {
     "data": {
      "text/plain": [
       "<tensorflow.python.training.tracking.util.CheckpointLoadStatus at 0x7fa9e42a9f10>"
      ]
     },
     "execution_count": 32,
     "metadata": {},
     "output_type": "execute_result"
    }
   ],
   "source": [
    "mdn.load_weights('model_data/mdn_'+exp_name)"
   ]
  },
  {
   "cell_type": "markdown",
   "id": "bdd80456-cbcb-4b6f-9664-87a00fcaa396",
   "metadata": {},
   "source": [
    "## Evaluation "
   ]
  },
  {
   "cell_type": "code",
   "execution_count": 42,
   "id": "22c604ca-45a6-4914-9d1f-1069e9582c5c",
   "metadata": {},
   "outputs": [],
   "source": [
    "# Predict\n",
    "def predict(model, predictor, x, Dx=3, dim_red='pca', n_sample=1, take_mean = False): \n",
    "    if predictor == 'gpr':\n",
    "        y_pred, y_cov = model.predict(x, False)\n",
    "    elif predictor == 'nn':\n",
    "        y_pred = model.predict(x)\n",
    "    elif predictor == 'mdn': \n",
    "        if take_mean:\n",
    "            y_pred = np.transpose(np.array(model(x).components_distribution.mean()), axes=(1,0,2))\n",
    "        else:\n",
    "            y_pred = np.array(model(x).sample(n_sample))\n",
    "            \n",
    "    elif predictor == 'knn':\n",
    "        y_pred = model.predict(x)\n",
    "\n",
    "    #Inverse transform, if using PCA or rbf\n",
    "    if dim_red == 'pca':\n",
    "        y_traj = pca.inverse_transform(y_pred)\n",
    "    elif dim_red == 'rbf':\n",
    "        y_traj = rbf_transform.inverse_transform(y_pred)\n",
    "    elif dim_red == None:\n",
    "        y_traj = np.array(y_pred)\n",
    "    else: \n",
    "        raise NotImplementedError\n",
    "    return y_traj, y_pred "
   ]
  },
  {
   "cell_type": "markdown",
   "id": "1cb6ffd3-4982-4b78-812e-54db7fd784b1",
   "metadata": {},
   "source": [
    "### Quantitative"
   ]
  },
  {
   "cell_type": "code",
   "execution_count": 43,
   "id": "2fc93d7a-5d32-4c8e-9fe9-1b2ccae422fb",
   "metadata": {},
   "outputs": [],
   "source": [
    "model = mdn # options = {gpr, nn, mdn, knn}\n",
    "mode = 'mdn'\n",
    "dim_red = 'pca'"
   ]
  },
  {
   "cell_type": "markdown",
   "id": "db510ccf-9064-4042-8348-2ef7af8ad122",
   "metadata": {},
   "source": [
    "#### MSE (Mean Squared Error)\n",
    "\n",
    "$\\mathrm{MSE}=\\frac{1}{n}\\sum_{i=1}^n (\\hat{y_i} - y_i)^2$"
   ]
  },
  {
   "cell_type": "markdown",
   "id": "4b0fe873-188f-441f-9978-7c730f4ca404",
   "metadata": {},
   "source": [
    "#### MSE, only for MDN"
   ]
  },
  {
   "cell_type": "code",
   "execution_count": 59,
   "id": "175ed00d-cb0e-4143-8ceb-f1ca6c172492",
   "metadata": {},
   "outputs": [
    {
     "data": {
      "text/plain": [
       "KNeighborsRegressor(n_neighbors=1)"
      ]
     },
     "execution_count": 59,
     "metadata": {},
     "output_type": "execute_result"
    }
   ],
   "source": [
    "from sklearn.neighbors import KNeighborsRegressor\n",
    "\n",
    "knn = KNeighborsRegressor(1)\n",
    "\n",
    "knn.fit(x_train, y_train_pca)"
   ]
  },
  {
   "cell_type": "code",
   "execution_count": 61,
   "id": "b5a51bcd-534f-438b-ab0e-ea203ee91ee1",
   "metadata": {},
   "outputs": [
    {
     "name": "stdout",
     "output_type": "stream",
     "text": [
      "0.005613878881139728 0.0002865601889248104\n"
     ]
    }
   ],
   "source": [
    "y_traj, _ = predict(model, mode, x_test, dim_red=dim_red, n_sample=100)\n",
    "y_true = y_test.copy()\n",
    "batch_error = (y_traj-y_true)**2\n",
    "batch_total_mse = np.mean(np.min(np.mean(batch_error, axis=-1), axis=0))\n",
    "batch_goal_mse = np.mean(np.min(np.mean(batch_error[:,:,-3:], axis=-1), axis=0))\n",
    "print(batch_total_mse, batch_goal_mse)"
   ]
  },
  {
   "cell_type": "raw",
   "id": "7a6fa402-0625-4451-9608-7b58ebf3bb41",
   "metadata": {},
   "source": [
    "y_traj, _ = predict(model, mode, x_test, dim_red=dim_red, take_mean = True)\n",
    "y_true = y_test.copy()\n",
    "batch_error = (y_traj-y_true)**2\n",
    "batch_total_mse = np.mean(np.min(np.mean(batch_error, axis=-1), axis=0))\n",
    "batch_goal_mse = np.mean(np.min(np.mean(batch_error[:,:,-3:], axis=-1), axis=0))\n",
    "print(batch_total_mse, batch_goal_mse)"
   ]
  },
  {
   "cell_type": "code",
   "execution_count": 60,
   "id": "8929d479-e026-4324-b9df-9042612d503f",
   "metadata": {},
   "outputs": [
    {
     "name": "stdout",
     "output_type": "stream",
     "text": [
      "0.03426496667724471 0.011642300929187364\n"
     ]
    }
   ],
   "source": [
    "y_traj, _ = predict(model, mode, x_test, dim_red=dim_red)\n",
    "# y_traj = y_traj[0,:,:]\n",
    "y_true = y_test.copy()\n",
    "\n",
    "batch_error = (y_traj-y_true)**2\n",
    "batch_goal_mse = np.mean(batch_error[:,-3:])\n",
    "batch_total_mse = np.mean(batch_error.reshape(-1, T*Dx))\n",
    "\n",
    "print(batch_total_mse, batch_goal_mse)"
   ]
  },
  {
   "cell_type": "markdown",
   "id": "40e99de4-fead-4d2e-8d7a-733f1ba9ac86",
   "metadata": {},
   "source": [
    "#### Filter based on ddp cost"
   ]
  },
  {
   "cell_type": "code",
   "execution_count": 44,
   "id": "333b29d7-3552-4146-96a2-b21583e3b9d7",
   "metadata": {
    "scrolled": true,
    "tags": []
   },
   "outputs": [
    {
     "name": "stdout",
     "output_type": "stream",
     "text": [
      "0\n",
      "1\n",
      "2\n",
      "3\n",
      "4\n",
      "5\n",
      "6\n",
      "7\n",
      "8\n",
      "9\n",
      "10\n",
      "11\n",
      "12\n",
      "13\n",
      "14\n",
      "15\n",
      "16\n",
      "17\n",
      "18\n",
      "19\n"
     ]
    }
   ],
   "source": [
    "errors = []\n",
    "goal_errors = []\n",
    "col_set = []\n",
    "true_col_set = []\n",
    "trajs = []\n",
    "K = 10\n",
    "for i in range(20):#len(x_test)): # iterate over all trajectories \n",
    "    print(i)\n",
    "    x = x_test[i]\n",
    "    y_true = y_test[i].reshape(-1,Dx)\n",
    "    y_traj, _ = predict(model, mode, x[None,:], dim_red=dim_red, n_sample=K)\n",
    "    y_traj = y_traj.reshape(K,T,Dx)\n",
    "    full_idx = test_idx[i]\n",
    "    obstacles = obs_set[full_idx]\n",
    "    \n",
    "    y_traj = get_best_mdn_prediction(y_traj, x, obstacles)\n",
    "    \n",
    "    trajs.append(y_traj)\n",
    "    residuals = np.square(np.subtract(y_traj, y_true))\n",
    "    errors.append(np.mean(residuals))\n",
    "    goal_errors.append(residuals[-1])\n",
    "    \n",
    "    #check collision\n",
    "    col_status, _ = eval_collision_geometric(obstacles, y_traj)\n",
    "    col_set.append(np.max(col_status))\n",
    "\n",
    "    col_status, _ = eval_collision_geometric(obstacles, y_true)\n",
    "    true_col_set.append(np.max(col_status))"
   ]
  },
  {
   "cell_type": "raw",
   "id": "79f962fb-9949-4564-bd5c-ee4f43b7ac63",
   "metadata": {},
   "source": [
    "1. Change the predict function\n",
    "2. Change the evaluation function\n",
    "3. Add the sampling for mdn, and evaluation\n",
    "4. Add saving/loading of models"
   ]
  },
  {
   "cell_type": "code",
   "execution_count": 45,
   "id": "76985665-e890-48ae-922c-2de454cb8689",
   "metadata": {
    "scrolled": true,
    "tags": []
   },
   "outputs": [
    {
     "name": "stdout",
     "output_type": "stream",
     "text": [
      "MSE: \n",
      " - total: 0.076870\n",
      " - goal positions: 0.033094\n"
     ]
    }
   ],
   "source": [
    "total_mse = np.mean(errors)\n",
    "goal_mse = np.mean(goal_errors)\n",
    "\n",
    "print('MSE: \\n - total: {:.6f}\\n - goal positions: {:.6f}'.format(total_mse, goal_mse))"
   ]
  },
  {
   "cell_type": "code",
   "execution_count": 172,
   "id": "6c6bebdc-efa2-4f55-b498-1028b922e53b",
   "metadata": {},
   "outputs": [
    {
     "data": {
      "text/plain": [
       "913"
      ]
     },
     "execution_count": 172,
     "metadata": {},
     "output_type": "execute_result"
    }
   ],
   "source": [
    "len(x_test)"
   ]
  },
  {
   "cell_type": "code",
   "execution_count": 173,
   "id": "88fb24ab-0c68-4fd8-8ed6-996f499ead71",
   "metadata": {},
   "outputs": [],
   "source": [
    "N = len(col_set)"
   ]
  },
  {
   "cell_type": "code",
   "execution_count": 174,
   "id": "daa575a5-014c-4dba-b8ba-cd2577543fa6",
   "metadata": {},
   "outputs": [
    {
     "name": "stdout",
     "output_type": "stream",
     "text": [
      "0.050314465408805034\n"
     ]
    }
   ],
   "source": [
    "print(np.sum(col_set)/N)"
   ]
  },
  {
   "cell_type": "code",
   "execution_count": 175,
   "id": "5ccb6b19-4275-4780-9792-b3cd6801ad83",
   "metadata": {},
   "outputs": [
    {
     "name": "stdout",
     "output_type": "stream",
     "text": [
      "0.040880503144654086\n"
     ]
    }
   ],
   "source": [
    "print(np.sum(true_col_set)/N)"
   ]
  },
  {
   "cell_type": "raw",
   "id": "9ca02a3c-507e-4d8a-9759-711908cbb659",
   "metadata": {},
   "source": [
    "errors = []\n",
    "goal_errors = []\n",
    "trajs = []\n",
    "\n",
    "for i in range(10):#len(x_test)): # iterate over all trajectories \n",
    "    x = x_test[i]\n",
    "    y_true = y_test[i].reshape(-1,Dx)\n",
    "    y_traj, _ = predict(model, mode, x[None,:], dim_red=dim_red)\n",
    "    y_traj = y_traj.reshape(-1,Dx)\n",
    "    trajs.append(y_traj)\n",
    "    residuals = np.square(np.subtract(y_traj, y_true))\n",
    "    errors.append(np.mean(residuals))\n",
    "    goal_errors.append(residuals[-1])\n",
    "\n",
    "total_mse = np.mean(errors)\n",
    "goal_mse = np.mean(goal_errors)\n",
    "\n",
    "print('MSE: \\n - total: {:.6f}\\n - goal positions: {:.6f}'.format(total_mse, goal_mse))"
   ]
  },
  {
   "cell_type": "markdown",
   "id": "62225906-9513-4c97-a994-335e657e5584",
   "metadata": {},
   "source": [
    "#### Try MDN prediction"
   ]
  },
  {
   "cell_type": "code",
   "execution_count": 176,
   "id": "171fddc2-30e4-4f71-a2f1-b69d1277f85b",
   "metadata": {},
   "outputs": [],
   "source": [
    "model = mdn\n",
    "mode = 'mdn'"
   ]
  },
  {
   "cell_type": "code",
   "execution_count": null,
   "id": "49c6f547-ecb6-4fe8-9f6d-191c2d5405d0",
   "metadata": {},
   "outputs": [],
   "source": [
    "idx = np.random.randint(len(x_test))"
   ]
  },
  {
   "cell_type": "code",
   "execution_count": 230,
   "id": "e552a45b-4345-4b37-92d6-5e2be1948aca",
   "metadata": {},
   "outputs": [],
   "source": [
    "x = x_test[idx]\n",
    "y_true = y_test[idx]\n",
    "full_idx = test_idx[idx]\n",
    "obstacles = obs_set[full_idx]\n",
    "x0, x_target = x[-6:-3], x[-3:]\n",
    "obj_id, init_id, target_id, border_id, obstacle_ids = init_pybullet(x0, x_target, obstacles)\n",
    "\n",
    "\n",
    "y_traj, _ = predict(model, mode, x[None,:], dim_red=dim_red, n_sample = K)\n",
    "y_traj = y_traj.reshape(K,T,Dx)"
   ]
  },
  {
   "cell_type": "code",
   "execution_count": 231,
   "id": "5cf21b94-274d-4d22-bdf4-550785f9e79f",
   "metadata": {},
   "outputs": [],
   "source": [
    "y_traj = get_best_mdn_prediction(y_traj, x, obstacles)\n",
    "xs_init, us_init = create_lqt_init(lin_sys, y_traj, x0, x_target, 100)"
   ]
  },
  {
   "cell_type": "code",
   "execution_count": 232,
   "id": "f87b5893-d464-46f3-b23e-b7ee3b614e27",
   "metadata": {},
   "outputs": [],
   "source": [
    "y_traj = xs_init[:,:3]"
   ]
  },
  {
   "cell_type": "code",
   "execution_count": 236,
   "id": "0e82171a-1baa-409b-b9d2-dd664074de68",
   "metadata": {},
   "outputs": [],
   "source": [
    "plot_traj(y_traj, obj_id)"
   ]
  },
  {
   "cell_type": "code",
   "execution_count": 238,
   "id": "efe703c2-48f5-49af-924d-5ce01ac48b03",
   "metadata": {},
   "outputs": [],
   "source": [
    "plot_traj(y_true.reshape(-1,Dx), obj_id)"
   ]
  },
  {
   "cell_type": "code",
   "execution_count": 239,
   "id": "cc6bbd0c-0c4b-4883-8445-81a51de89906",
   "metadata": {},
   "outputs": [
    {
     "data": {
      "image/png": "[encoded data removed]",
      "text/plain": [
       "<Figure size 1296x720 with 6 Axes>"
      ]
     },
     "metadata": {
      "needs_background": "light"
     },
     "output_type": "display_data"
    }
   ],
   "source": [
    "plot_traj_projections(y_true.reshape(-1,Dx), obstacles, y_traj)"
   ]
  },
  {
   "cell_type": "raw",
   "id": "1815e5e4-afcc-4a33-b2a5-35839f58805f",
   "metadata": {},
   "source": [
    "y_traj, _ = predict(model, mode, x[None,:], dim_red=dim_red)\n",
    "\n",
    "y_traj = y_traj.reshape(-1,Dx)\n",
    "\n",
    "plot_traj_projections(y_true.reshape(-1,Dx), obstacles, y_traj)"
   ]
  },
  {
   "cell_type": "markdown",
   "id": "29a15d92-5084-49a5-96c0-3d995a687207",
   "metadata": {},
   "source": [
    "#### Collision Cost "
   ]
  },
  {
   "cell_type": "code",
   "execution_count": 42,
   "id": "065f0392-9cda-4424-aa35-2786963fda8f",
   "metadata": {},
   "outputs": [],
   "source": [
    "# Create dummy linear system for DDP cost calculation \n",
    "dt = 0.05  #duration of 1 time step\n",
    "Dx_temp, Du = 6, 3 #dimensions of x and u\n",
    "dof = 3\n",
    "\n",
    "#Define the matrix A and B to define a double integrator\n",
    "A = np.eye(Dx_temp)\n",
    "A[:dof,dof:] = np.eye(dof)*dt\n",
    "B = np.zeros((Dx_temp, Du))\n",
    "B[:dof,:] = 0.5*np.eye(Du)*(dt**2)\n",
    "B[dof:, :] = np.eye(Du)*dt\n",
    "lin_sys = LinearSystem(A, B)"
   ]
  },
  {
   "cell_type": "code",
   "execution_count": 43,
   "id": "19772b13-066b-477f-810d-87250736ecdb",
   "metadata": {},
   "outputs": [],
   "source": [
    "def eval_collision(obstacles, y_traj, lin_sys):\n",
    "    '''\n",
    "    DDP cost formulation \n",
    "    '''\n",
    "    collision_cost = []\n",
    "    for obs in obstacles: \n",
    "        c = CostModelCollisionSphere(lin_sys, obs['pos'], obs['rad'], w_obs=obs['w'], d_margin=obs['d_marg'])\n",
    "        # sum up costs for each point in trajectory -> should sum up to 0 if no collisions \n",
    "        for x in y_traj:  \n",
    "            u_dummy = np.array([0,0,0])\n",
    "            collision_cost.append(c.calc(x, u_dummy))\n",
    "                            \n",
    "    return np.sum(collision_cost)           "
   ]
  },
  {
   "cell_type": "code",
   "execution_count": 44,
   "id": "c1d5d46b-2c0e-4279-b20a-5bf9598bc910",
   "metadata": {},
   "outputs": [],
   "source": [
    "def eval_collision_geometric(obstacles, y_traj, margin=-1e-2): \n",
    "    collision_bool = []\n",
    "    collision_dists = []\n",
    "    for x in y_traj: \n",
    "        collision = False \n",
    "        obst_dists = []\n",
    "        for obs in obstacles:\n",
    "            p, r = obs['pos'], obs['rad']\n",
    "            dist = np.linalg.norm(p-x)\n",
    "            obst_dists.append(dist-r)\n",
    "            \n",
    "            if dist < (r+margin): # add a margin to the obstacle surface (at least radius of point mass)\n",
    "                collision = True \n",
    "        collision_bool.append(collision)\n",
    "        collision_dists.append(np.min(obst_dists))\n",
    "        \n",
    "    return np.array(collision_bool), np.array(collision_dists)"
   ]
  },
  {
   "cell_type": "raw",
   "id": "e8d941b4-41d6-427e-a4db-6ee9eb8ceb1b",
   "metadata": {},
   "source": [
    "eval_train = False # set to True if evaluation on training set (just for sanity checks!\n",
    "\n",
    "if not eval_train: \n",
    "    num_samples = len(x_test)\n",
    "else: \n",
    "    num_samples = len(x_train)\n",
    "\n",
    "ddp_collision_cost = []\n",
    "geometric_collision_check = []\n",
    "geometric_collision_dists = []\n",
    "\n",
    "for i in range(num_samples): # iterate over all trajectories \n",
    "    \n",
    "    if not eval_train: \n",
    "        x = x_test[i]\n",
    "        full_data_idx = test_idx[i] # map idx from test set to full dataset idx \n",
    "        y_true = y_test[i].reshape(-1,Dx)\n",
    "    else: \n",
    "        x = x_train[i]\n",
    "        full_data_idx = train_idx[i] # map idx from test set to full dataset idx \n",
    "        y_true = y_train[i].reshape(-1,Dx)\n",
    "    \n",
    "    y_traj, _ = predict(model, mode, x, dim_red=dim_red)\n",
    "    obstacles = obs_set[full_data_idx]\n",
    "    \n",
    "    ddp_collision_cost.append(eval_collision(obstacles, y_traj, lin_sys))\n",
    "    geom_collision_bool, geom_collision_dists = eval_collision_geometric(obstacles, y_traj)\n",
    "    collision_inds = np.where(geom_collision_bool)[0]\n",
    "    if collision_inds.size != 0:\n",
    "        avg_collision_dist = np.mean(geom_collision_dists[collision_inds])\n",
    "        geometric_collision_dists.append(avg_collision_dist)     \n",
    "        \n",
    "    geometric_collision_check.append(np.any(geom_collision_bool))"
   ]
  },
  {
   "cell_type": "code",
   "execution_count": 56,
   "id": "9297e888-c63c-4d42-88cc-79f4f91e63cb",
   "metadata": {},
   "outputs": [],
   "source": [
    "approx_cost = [np.round(c, decimals=1) for c in ddp_collision_cost]\n",
    "ddp_no_collision_inds = np.where(np.asarray(approx_cost) == 0.0)[0]\n",
    "\n",
    "geom_no_collision_inds = np.where(~np.asarray(geometric_collision_check))[0]\n",
    "geom_collision_inds = np.where(np.asarray(geometric_collision_check))[0]"
   ]
  },
  {
   "cell_type": "code",
   "execution_count": 57,
   "id": "f3e342aa-f1f8-4c1e-bbd9-cdd945864afa",
   "metadata": {},
   "outputs": [
    {
     "name": "stdout",
     "output_type": "stream",
     "text": [
      "DDP - Avg. collision cost: 44.4255\n",
      "DDP - Median collision cost: 2.4878\n",
      "DDP - Share of trajectories with no collisions: 0.4306\n",
      "Geometric - Share of trajectories with no collisions: 0.6528\n"
     ]
    }
   ],
   "source": [
    "print('DDP - Avg. collision cost: %.4f'%np.mean(ddp_collision_cost))\n",
    "print('DDP - Median collision cost: %.4f'%np.median(ddp_collision_cost))\n",
    "print('DDP - Share of trajectories with no collisions: %.4f'%(len(ddp_no_collision_inds)/len(ddp_collision_cost)))\n",
    "print('Geometric - Share of trajectories with no collisions: %.4f'%(1-np.asarray(geometric_collision_check).sum()/len(geometric_collision_check)))"
   ]
  },
  {
   "cell_type": "code",
   "execution_count": 47,
   "id": "9a852a3b-128d-4718-8817-40a6913b6af4",
   "metadata": {},
   "outputs": [
    {
     "name": "stdout",
     "output_type": "stream",
     "text": [
      "DDP - Avg. collision cost: 29.9906\n",
      "DDP - Median collision cost: 11.7075\n",
      "DDP - Share of trajectories with no collisions: 0.1793\n",
      "Geometric - Share of trajectories with no collisions: 0.4000\n"
     ]
    }
   ],
   "source": [
    "print('DDP - Avg. collision cost: %.4f'%np.mean(ddp_collision_cost))\n",
    "print('DDP - Median collision cost: %.4f'%np.median(ddp_collision_cost))\n",
    "print('DDP - Share of trajectories with no collisions: %.4f'%(len(ddp_no_collision_inds)/len(ddp_collision_cost)))\n",
    "print('Geometric - Share of trajectories with no collisions: %.4f'%(1-np.asarray(geometric_collision_check).sum()/len(geometric_collision_check)))"
   ]
  },
  {
   "cell_type": "code",
   "execution_count": 138,
   "id": "d6fa6e39-865b-4717-83d9-86e39aae4497",
   "metadata": {},
   "outputs": [
    {
     "name": "stdout",
     "output_type": "stream",
     "text": [
      "Avg. dist to surface when collision: -0.1440\n"
     ]
    }
   ],
   "source": [
    "print('Avg. dist to surface when collision: %.4f'%np.mean(geometric_collision_dists))"
   ]
  },
  {
   "cell_type": "code",
   "execution_count": 139,
   "id": "0f08997e-09ab-4d59-b4c0-72e0247d89c8",
   "metadata": {},
   "outputs": [
    {
     "name": "stdout",
     "output_type": "stream",
     "text": [
      "Avg. dist to surface when collision: -0.1362\n"
     ]
    }
   ],
   "source": [
    "print('Avg. dist to surface when collision: %.4f'%np.median(geometric_collision_dists))"
   ]
  },
  {
   "cell_type": "markdown",
   "id": "f5a4f072-e209-4a18-8f57-12e5a2d19ce1",
   "metadata": {},
   "source": [
    "### Qualitative "
   ]
  },
  {
   "cell_type": "markdown",
   "id": "803fff56-2609-40b6-a40a-826b5ed043b3",
   "metadata": {},
   "source": [
    "#### Test single (random) prediction"
   ]
  },
  {
   "cell_type": "code",
   "execution_count": 107,
   "id": "8cdec8c1-2b7e-483a-8ec4-08e522f92edd",
   "metadata": {},
   "outputs": [],
   "source": [
    "model = nn\n",
    "mode = 'nn'"
   ]
  },
  {
   "cell_type": "code",
   "execution_count": 108,
   "id": "96a669a1-beff-4995-b1c3-79a6e1c8ae86",
   "metadata": {},
   "outputs": [],
   "source": [
    "%matplotlib inline"
   ]
  },
  {
   "cell_type": "code",
   "execution_count": 109,
   "id": "1af17e88-1d62-4bc5-909b-920da5781cd6",
   "metadata": {},
   "outputs": [],
   "source": [
    "i = 0"
   ]
  },
  {
   "cell_type": "code",
   "execution_count": null,
   "id": "a3097c8b-33bc-4942-a48c-3cde912a2c33",
   "metadata": {},
   "outputs": [],
   "source": [
    "#Obtain random task\n",
    "plt.close('all')\n",
    "# idx = np.random.randint(len(x_test))\n",
    "i = i+1\n",
    "# for idx in geom_collision_inds[i:i+1]: \n",
    "# for idx in geom_no_collision_inds[i:i+1]: \n",
    "for idx in range(len(x_test)):\n",
    "#     if idx in no_collision_inds:\n",
    "#         print(idx)\n",
    "\n",
    "    eval_train = False # set to True if evaluation on training set (just for sanity checks!)\n",
    "\n",
    "    if not eval_train: \n",
    "        x = x_test[idx]\n",
    "        full_data_idx = test_idx[idx] # map idx from test set to full dataset idx \n",
    "        y_true = y_test[idx].reshape(-1,Dx)\n",
    "    else: \n",
    "        x = x_train[idx]\n",
    "        full_data_idx = train_idx[idx] # map idx from test set to full dataset idx \n",
    "        y_true = y_train[idx].reshape(-1,Dx)\n",
    "\n",
    "    y_traj, y_pred = predict(model, mode, x, dim_red=dim_red)\n",
    "\n",
    "    obstacles = obs_set[idx]\n",
    "    collision_geom_gt = np.any(eval_collision_geometric(obstacles, y_true)[0])\n",
    "    collision_geom_pred = np.any(eval_collision_geometric(obstacles, y_traj)[0])\n",
    "    \n",
    "    print('ID: %d'%idx)\n",
    "    print('Number of obstacles: %d'%len(obstacles))\n",
    "\n",
    "#     print('\\nGround truth: \\nDDP: Reach target: {}; no collision: {}; overall status: {}'.format(data_sample['target_status'], data_sample['collision_status'], data_sample['status']))\n",
    "    print('Geometric collision check: no collision = {}'.format(not collision_geom_gt))\n",
    "    print('\\nPrediction: \\nGeometric collision check: no collision = {}'.format(not collision_geom_pred))\n",
    "\n",
    "    #Plot the trajectories\n",
    "#     plot_traj_projections(y_true, obstacles, y_traj=y_traj)\n",
    "    # plot_traj_projections(y_train[idx].reshape(-1, 3), obstacles, y_traj=y_train_true[idx].reshape(-1, 3))\n",
    "\n",
    "    obj_id, init_id, target_id, border_id, obstacle_ids = init_pybullet(x0, x_target, obstacles)\n",
    "    plot_traj(y_traj, obj_id)"
   ]
  },
  {
   "cell_type": "code",
   "execution_count": null,
   "id": "d46a02da-f107-458d-a6be-357be3aaecda",
   "metadata": {},
   "outputs": [],
   "source": [
    "plot_traj(y_traj, obj_id, dt=0.05)"
   ]
  },
  {
   "cell_type": "code",
   "execution_count": 184,
   "id": "c86ca0f0-15a2-457d-ba15-de99135f7c63",
   "metadata": {},
   "outputs": [],
   "source": [
    "%matplotlib widget"
   ]
  },
  {
   "cell_type": "code",
   "execution_count": null,
   "id": "d6551caf-eeeb-40a1-8e52-001cfce39251",
   "metadata": {},
   "outputs": [],
   "source": [
    "# show corresponding 3D plot \n",
    "data_sample = full_data[idx]\n",
    "plot_traj_and_obs_3d(data_sample, pred=y_traj)"
   ]
  },
  {
   "cell_type": "code",
   "execution_count": null,
   "id": "1f8ada30-4eb3-42c0-a226-2bed146e7d17",
   "metadata": {},
   "outputs": [],
   "source": [
    "# Show in pybullet \n",
    "if not use_tt_rep: \n",
    "    modify_obstacle(obs_id, x[0], x[1:])\n",
    "else: \n",
    "#     rad = full_data[full_data_idx]['r_obs']\n",
    "#     pos = full_data[full_data_idx]['p_obs']\n",
    "    rad = full_data[full_data_idx]['obstacles'][0]['rad']\n",
    "    pos = full_data[full_data_idx]['obstacles'][0]['pos']\n",
    "    setup_pybullet(full_data[full_data_idx]['x0'], full_data[full_data_idx]['xT'])\n",
    "    modify_obstacle(obs_id, rad, pos)\n",
    "    \n",
    "plot_traj(y_traj, obj_id) # ,dt=0.05)\n",
    "# plot_traj(y_true, obj_id)"
   ]
  },
  {
   "cell_type": "code",
   "execution_count": 118,
   "id": "63933a09-be79-4e5a-9553-566b568577a3",
   "metadata": {},
   "outputs": [],
   "source": [
    "# does prediction end in goal state? \n",
    "goal = y_true[-1,:]\n",
    "terminal_state = y_traj[-1,:]\n",
    "goal_divergence = goal - terminal_state\n",
    "goal_divergence_norm = np.linalg.norm(goal_divergence)"
   ]
  },
  {
   "cell_type": "code",
   "execution_count": 119,
   "id": "ec03edb2-5387-4f12-8763-ba596c8a2516",
   "metadata": {},
   "outputs": [
    {
     "name": "stdout",
     "output_type": "stream",
     "text": [
      "[-0.0001  0.0001  0.0013]\n",
      "0.0012600438284346063\n"
     ]
    }
   ],
   "source": [
    "print(goal_divergence)\n",
    "print(goal_divergence_norm)"
   ]
  },
  {
   "cell_type": "code",
   "execution_count": null,
   "id": "33e76736-984e-4444-98aa-1c4f074095fa",
   "metadata": {},
   "outputs": [],
   "source": []
  }
 ],
 "metadata": {
  "kernelspec": {
   "display_name": "Python 3",
   "language": "python",
   "name": "python3"
  },
  "language_info": {
   "codemirror_mode": {
    "name": "ipython",
    "version": 3
   },
   "file_extension": ".py",
   "mimetype": "text/x-python",
   "name": "python",
   "nbconvert_exporter": "python",
   "pygments_lexer": "ipython3",
   "version": "3.9.5"
  },
  "toc": {
   "base_numbering": 1,
   "nav_menu": {},
   "number_sections": true,
   "sideBar": true,
   "skip_h1_title": false,
   "title_cell": "Table of Contents",
   "title_sidebar": "Contents",
   "toc_cell": false,
   "toc_position": {},
   "toc_section_display": true,
   "toc_window_display": true
  },
  "toc-autonumbering": false,
  "toc-showcode": false,
  "toc-showmarkdowntxt": false,
  "toc-showtags": false
 },
 "nbformat": 4,
 "nbformat_minor": 5
}
