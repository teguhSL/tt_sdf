{
 "cells": [
  {
   "cell_type": "code",
   "execution_count": 1,
   "id": "8fd026b3-f242-45ef-8063-1088ca8e50a7",
   "metadata": {},
   "outputs": [],
   "source": [
    "import sys\n",
    "import os\n",
    "import random\n",
    "import logging\n",
    "import time\n",
    "from tqdm.notebook import tqdm\n",
    "import pandas as pd\n",
    "\n",
    "sys.path.append('../')\n",
    "\n",
    "import numpy as np\n",
    "import matplotlib.pyplot as plt\n",
    "from IPython.display import clear_output\n",
    "import time\n",
    "from ocp import *\n",
    "from costs import *\n",
    "from ocp_utils import *\n",
    "from env_creator import EnvCreator, generate_sdf_rep\n",
    "from tensor_decomp import apply_tt\n",
    "from visualization_utils import plot_traj_projections, plot_traj_and_obs_3d\n",
    "\n",
    "import pybullet as p\n",
    "import pybullet_data\n",
    "import matplotlib.pyplot as plt\n",
    "\n",
    "import tensorflow as tf\n",
    "from tensorflow.keras.models import Sequential\n",
    "from tensorflow.keras.layers import Dense\n",
    "from sklearn.decomposition import PCA\n",
    "from sklearn.model_selection import train_test_split\n",
    "from sklearn.metrics import mean_squared_error\n",
    "\n",
    "from regression import NN_Regressor, GPy_Regressor\n",
    "from regression import rbf\n",
    "import numpy.matlib\n",
    "\n",
    "%load_ext autoreload\n",
    "%autoreload 2\n",
    "np.set_printoptions(precision=4, suppress=True)"
   ]
  },
  {
   "cell_type": "markdown",
   "id": "ea2fa779-61e3-4357-abb0-f4510557f8a4",
   "metadata": {},
   "source": [
    "#### Load data"
   ]
  },
  {
   "cell_type": "code",
   "execution_count": 169,
   "id": "279f9c94-3224-4b98-9365-c75e39f971c3",
   "metadata": {},
   "outputs": [],
   "source": [
    "exp_name = 'var_start_goal_3000samples'\n",
    "# exp_name = 'start_goal_fixed_300samples_1'\n",
    "# exp_name = 'mult_obs_var_start_goal_1000samples_1'\n",
    "exp_name = 'quad_mult_obs_var_start_goal_1000samples_2'\n",
    "# exp_name = 'quad_mult_obs_var_start_goal_1000samples_two_obstacles'\n",
    "# exp_name = 'quad_mult_obs_var_start_goal_1000samples_three_obstacles'\n",
    "# exp_name = 'quad_mult_obs_var_start_goal_1000samples_five_obstacles'"
   ]
  },
  {
   "cell_type": "code",
   "execution_count": 170,
   "id": "1611eba7-e567-48ae-b11b-32f562be2985",
   "metadata": {},
   "outputs": [],
   "source": [
    "data = np.load('training_data/data_'+ exp_name +'.npy', allow_pickle=True)[()]\n",
    "\n",
    "x_inputs = data['x_inputs']\n",
    "x_outputs = data['x_outputs']\n",
    "obs_set = data['obstacles']\n",
    "pca = data['pca']"
   ]
  },
  {
   "cell_type": "markdown",
   "id": "d952b359-3877-4920-ae52-ec0d61be0c2c",
   "metadata": {
    "tags": [],
    "toc-hr-collapsed": true
   },
   "source": [
    "#### Visualize data in pybullet"
   ]
  },
  {
   "cell_type": "code",
   "execution_count": 88,
   "id": "c43af7d1-430f-4f9a-afde-68a1ff0ffed3",
   "metadata": {},
   "outputs": [],
   "source": [
    "p.connect(p.DIRECT)\n",
    "p.setAdditionalSearchPath(pybullet_data.getDataPath())"
   ]
  },
  {
   "cell_type": "code",
   "execution_count": 89,
   "id": "51c2f628-0f63-4803-ade7-954563c44b22",
   "metadata": {},
   "outputs": [],
   "source": [
    "idx = np.random.randint(len(data['x_inputs']))\n",
    "x = x_inputs[idx]\n",
    "y = x_outputs[idx].reshape(-1,12)\n",
    "obstacles = obs_set[idx]\n",
    "x0, x_target = x[-24:-12],x[-12:]\n",
    "quad_id, obj_id, init_id, target_id, border_id, obstacle_ids = init_pybullet_quadcopter(x0, x_target, obstacles)"
   ]
  },
  {
   "cell_type": "raw",
   "id": "3da2efbe-3d0f-483b-b160-083b3e054022",
   "metadata": {},
   "source": [
    "plot_traj(y, obj_id)"
   ]
  },
  {
   "cell_type": "markdown",
   "id": "008427fa-3444-4d40-afb8-aacccfe14aa9",
   "metadata": {},
   "source": [
    "## Try prediction"
   ]
  },
  {
   "cell_type": "markdown",
   "id": "c3ee3533-32b0-4821-b996-65eeab1a733b",
   "metadata": {},
   "source": [
    "#### Load MDN model"
   ]
  },
  {
   "cell_type": "code",
   "execution_count": 171,
   "id": "09359209-69a7-49a5-9e42-522742da4040",
   "metadata": {},
   "outputs": [
    {
     "data": {
      "text/plain": [
       "<tensorflow.python.training.tracking.util.CheckpointLoadStatus at 0x7f02b332aee0>"
      ]
     },
     "execution_count": 171,
     "metadata": {},
     "output_type": "execute_result"
    }
   ],
   "source": [
    "import pickle as pkl\n",
    "import tensorflow_probability as tfp\n",
    "tf.keras.backend.set_floatx('float64')\n",
    "tfd = tfp.distributions\n",
    "tfpl = tfp.layers\n",
    "\n",
    "#### Setup the model (copy from the learning notebook)\n",
    "\n",
    "n_comps = 10\n",
    "D_out = 25\n",
    "D_in = 624\n",
    "n_comp_params_size = tfpl.IndependentNormal.params_size(event_shape=(D_out,))\n",
    "\n",
    "params_size = tfpl.MixtureSameFamily.params_size(num_components=n_comps, component_params_size=n_comp_params_size)\n",
    "\n",
    "mdn = Sequential([\n",
    "    Dense(256, activation='relu', input_shape=(D_in,), kernel_regularizer = tf.keras.regularizers.l2(1e-2)),\n",
    "    Dense(256, activation='relu', kernel_regularizer = tf.keras.regularizers.l2(1e-2)),\n",
    "    Dense(params_size),\n",
    "    tfpl.MixtureSameFamily(n_comps, tfpl.IndependentNormal(event_shape=(D_out,)))\n",
    "])\n",
    "\n",
    "\n",
    "#### Load the weights\n",
    "\n",
    "mdn.load_weights('model_data/mdn_'+exp_name)"
   ]
  },
  {
   "cell_type": "markdown",
   "id": "b179a749-234a-4821-aca9-e18c6bd034bd",
   "metadata": {},
   "source": [
    "#### Load NN"
   ]
  },
  {
   "cell_type": "code",
   "execution_count": 172,
   "id": "d96eac49-6a76-4fa7-9004-3797d10699cb",
   "metadata": {},
   "outputs": [],
   "source": [
    "nn = tf.keras.models.load_model('model_data/nn_'+exp_name+'.h5')"
   ]
  },
  {
   "cell_type": "markdown",
   "id": "7194e109-55b1-4259-b646-e5f5bb5ea836",
   "metadata": {},
   "source": [
    "#### Try prediction"
   ]
  },
  {
   "cell_type": "code",
   "execution_count": 173,
   "id": "b7dfd5ab-c4fd-4c8b-be0b-8cc3286b35bf",
   "metadata": {},
   "outputs": [],
   "source": [
    "model = mdn\n",
    "mode = 'mdn'\n",
    "n_sample = 10"
   ]
  },
  {
   "cell_type": "code",
   "execution_count": 9,
   "id": "33df44af-fdbc-4296-a80b-49d3330b496f",
   "metadata": {},
   "outputs": [
    {
     "name": "stdout",
     "output_type": "stream",
     "text": [
      "1.2041165339965458\n"
     ]
    }
   ],
   "source": [
    "idx = np.random.randint(len(data['x_inputs']))\n",
    "x = x_inputs[idx]\n",
    "y = x_outputs[idx].reshape(-1,12)\n",
    "obstacles = obs_set[idx]\n",
    "x0, x_target = x[-24:-12],x[-12:]\n",
    "obj_id, init_id, target_id, border_id, obstacle_ids = init_pybullet(x0,x_target, obstacles)\n",
    "\n",
    "if mode == 'nn':\n",
    "    y_pred = nn.predict(x[None,:])\n",
    "    y_traj = pca.inverse_transform(y_pred).reshape(-1,12)\n",
    "elif mode == 'mdn': \n",
    "    y_pred = mdn(x[None,:]).sample(n_sample)\n",
    "    y_traj = pca.inverse_transform(y_pred).reshape(n_sample, -1, 12)\n",
    "    y_traj, xs_init, us_init  = get_best_mdn_prediction_ddp2(y_traj, x, obstacles, general_obs=True, obj_id=obj_id, add_zeros_dim = 0)"
   ]
  },
  {
   "cell_type": "markdown",
   "id": "616dc636-debd-45b2-ad16-0008aff29f6f",
   "metadata": {},
   "source": [
    "#### Create ddp"
   ]
  },
  {
   "cell_type": "code",
   "execution_count": 10,
   "id": "dc14b0a7-3c8c-44a6-b3e8-234ee1803b9c",
   "metadata": {},
   "outputs": [],
   "source": [
    "T = 100\n",
    "prob, lin_sys = setup_ilqr_quadcopter_general(T, x0, x_target, obstacles, obj_id)\n",
    "ddp = crocoddyl.SolverFDDP(prob)"
   ]
  },
  {
   "cell_type": "markdown",
   "id": "8bd26ccf-6d1d-4ab2-a9d1-5812fd874f3e",
   "metadata": {},
   "source": [
    "#### Adapt the prediction using lqt"
   ]
  },
  {
   "cell_type": "code",
   "execution_count": 61,
   "id": "8310e5cd-586d-40f4-bc6f-41e66918e874",
   "metadata": {},
   "outputs": [],
   "source": [
    "Dx, Du = 12, 6 #dimensions of x and u\n",
    "lin_sys = create_double_integrator(Dx, Du, 0.05)\n",
    "xs_lqt = np.hstack([y_traj[:,:3], y_traj[:,6:9], y_traj[:,3:6], y_traj[:,9:]])\n",
    "xs_init, us_init = create_lqt_init_quad(lin_sys, xs_lqt, x0, x_target, 100)\n",
    "xs_init = np.hstack([xs_init[:,:3], xs_init[:,6:9], xs_init[:,3:6], xs_init[:,9:]])\n",
    "us_init = np.array(ddp.problem.quasiStatic(list(xs_init[:-1])))"
   ]
  },
  {
   "cell_type": "code",
   "execution_count": 62,
   "id": "4b2e11b6-f907-4b7a-93a1-c50200d63398",
   "metadata": {},
   "outputs": [
    {
     "data": {
      "text/plain": [
       "0.801278441678738"
      ]
     },
     "execution_count": 62,
     "metadata": {},
     "output_type": "execute_result"
    }
   ],
   "source": [
    "ddp.problem.calc(list(xs_init[:,:,None]), list(us_init[:,:,None]))"
   ]
  },
  {
   "cell_type": "markdown",
   "id": "d35691c1-88ea-47ed-b087-b890a2735eb4",
   "metadata": {},
   "source": [
    "#### Solve DDP"
   ]
  },
  {
   "cell_type": "code",
   "execution_count": 63,
   "id": "e5cfccbc-ca1c-46fa-a5cf-2ffaee00f524",
   "metadata": {},
   "outputs": [],
   "source": [
    "from ocp_utils import *"
   ]
  },
  {
   "cell_type": "code",
   "execution_count": 64,
   "id": "a1590b8d-40e0-4119-adc5-b008fdb5c447",
   "metadata": {},
   "outputs": [
    {
     "name": "stdout",
     "output_type": "stream",
     "text": [
      "Cost nn: 1.9654951811976686\n",
      "Feasible nn: True\n"
     ]
    }
   ],
   "source": [
    "n_iter = 5\n",
    "xs, us, ddp = solve_ilqr(prob, xs_init, us_init, iterations=n_iter, th_grad = 1e-6, th_stop = 1e-6, x_reg = 1e-2, u_reg = 1e-8)\n",
    "cost_nn = ddp.cost\n",
    "feas_nn = ddp.isFeasible\n",
    "print('Cost nn: {}'.format( cost_nn))\n",
    "print('Feasible nn: {}'.format( feas_nn))\n",
    "\n",
    "# print('Cost std:{}, cost nn: {}'.format(cost_std, cost_nn))\n",
    "# print('Feasible std:{}, Feasible nn: {}'.format(feas_std, feas_nn))"
   ]
  },
  {
   "cell_type": "raw",
   "id": "d3357b12-9579-4ee1-b039-534a45022239",
   "metadata": {},
   "source": [
    "plot_traj(xs_init[:,:3], obj_id)"
   ]
  },
  {
   "cell_type": "raw",
   "id": "1b041e6f-4d86-4bf0-8d33-7bb7a410c10b",
   "metadata": {},
   "source": [
    "plot_traj_projections(y_traj, obstacles, x0 = x0, x_target=x_target, y_traj=xs_init)"
   ]
  },
  {
   "cell_type": "markdown",
   "id": "cd380f16-8f3a-466b-a143-085cd14bf7f8",
   "metadata": {},
   "source": [
    "#### Standard init"
   ]
  },
  {
   "cell_type": "raw",
   "id": "1e1f9667-69b0-4e20-b20f-e17a53075365",
   "metadata": {},
   "source": [
    "def create_linear_init_quad(x0, x_target, T):\n",
    "    '''\n",
    "    compute linear interpolation from x0 to x_target\n",
    "    '''\n",
    "    #linear interpolation of the position from x0 to x_target\n",
    "    xs_init = np.array(lin_interpolate(x0, x_target, T))\n",
    "    return xs_init"
   ]
  },
  {
   "cell_type": "code",
   "execution_count": 144,
   "id": "67396512-f106-4de4-817f-eca8cc06fbf8",
   "metadata": {},
   "outputs": [],
   "source": [
    "xs_init, us_init = create_standard_init(lin_sys, x0, T)\n",
    "# xs_init = create_linear_init_quad(x0, x_target, T)\n",
    "# xs_init = np.hstack([xs_init[:,:3], np.zeros((T+1,3)), xs_init[:,3:], np.zeros((T+1,3))])\n",
    "us_init = np.array(ddp.problem.quasiStatic(list(xs_init[:-1])))  \n",
    "#init using waypoint:\n",
    "# x_waypoint = np.array([0,0,-1,0,0,0])\n",
    "# xs_init, us_init = create_waypoint_init(x0, x_waypoint, x_target,  T)"
   ]
  },
  {
   "cell_type": "raw",
   "id": "af4a22b5-2a4d-4ed1-aca0-cf4a43ff2f5e",
   "metadata": {},
   "source": [
    "plot_traj(xs_init, obj_id)"
   ]
  },
  {
   "cell_type": "markdown",
   "id": "ab193acd-1440-49ae-9dad-22b43f058ea3",
   "metadata": {},
   "source": [
    "#### Solve DDP"
   ]
  },
  {
   "cell_type": "code",
   "execution_count": 145,
   "id": "5994aff5-1531-47c3-b580-7aeebc09d503",
   "metadata": {},
   "outputs": [
    {
     "name": "stdout",
     "output_type": "stream",
     "text": [
      "Cost std:4.414123463805729, cost nn: 1.6940721977099078\n",
      "Feasible std:True, Feasible nn: True\n"
     ]
    }
   ],
   "source": [
    "n_iter = 5\n",
    "xs, us, ddp = solve_ilqr(prob, xs_init, us_init, iterations=n_iter, th_grad = 1e-6, th_stop = 1e-6)\n",
    "cost_std = ddp.cost\n",
    "feas_std = ddp.isFeasible\n",
    "\n",
    "print('Cost std:{}, cost nn: {}'.format(cost_std, cost_nn))\n",
    "\n",
    "print('Feasible std:{}, Feasible nn: {}'.format(feas_std, feas_nn))"
   ]
  },
  {
   "cell_type": "markdown",
   "id": "6c53912a-8862-4d7a-a876-b3270f4b5844",
   "metadata": {},
   "source": [
    "#### Compare Initialization vs DDP solution"
   ]
  },
  {
   "cell_type": "raw",
   "id": "4dcbf2af-ffaf-4cbd-8bf2-a26460a014a4",
   "metadata": {},
   "source": [
    "for i in range(6):\n",
    "    plt.plot(xs_init[:,i], '--r', label='init')\n",
    "    plt.plot(xs[:,i], '--b', label='true')\n",
    "    plt.legend()\n",
    "    plt.show()"
   ]
  },
  {
   "cell_type": "markdown",
   "id": "5ac6ca9c-e446-440d-a361-0a681811f2e5",
   "metadata": {},
   "source": [
    "#### Divide data to train and test data"
   ]
  },
  {
   "cell_type": "code",
   "execution_count": 174,
   "id": "4189ca87-ed7b-4283-81f4-ef5109183f90",
   "metadata": {},
   "outputs": [],
   "source": [
    "n_samples = len(x_inputs)\n",
    "indices = np.arange(n_samples)\n",
    "x_train, x_test, y_train, y_test, train_idx, test_idx = train_test_split(x_inputs, x_outputs, indices, random_state=3, test_size=0.3)"
   ]
  },
  {
   "cell_type": "markdown",
   "id": "7eca9315-3d12-4e93-8ec5-251427d7a209",
   "metadata": {},
   "source": [
    "## Compare warmstarting performance in batches"
   ]
  },
  {
   "cell_type": "code",
   "execution_count": 175,
   "id": "c7b68216-c824-4ad9-861c-4612007958e1",
   "metadata": {},
   "outputs": [],
   "source": [
    "T = 100\n",
    "n_iter = 5 #number of ddp iterations\n",
    "model = mdn\n",
    "mode = 'mdn'\n",
    "n_sample = 10\n",
    "th_grad = 1e-6\n",
    "th_stop = 1e-6\n",
    "x_reg = 1e-2"
   ]
  },
  {
   "cell_type": "code",
   "execution_count": null,
   "id": "719be859-9c75-467f-ad0e-17142abd3dab",
   "metadata": {
    "scrolled": true,
    "tags": []
   },
   "outputs": [
    {
     "name": "stdout",
     "output_type": "stream",
     "text": [
      "-------------------\n",
      "10\n",
      "0\n",
      "1.1538687862863202\n",
      "Feasible STD: 1, feasible NN: 1, feasible MDN: 1\n",
      "Cost STD: 1.528, Cost NN: 1.528, Cost MDN: 1.528\n",
      "1\n",
      "1.13216393239177\n",
      "Feasible STD: 2, feasible NN: 2, feasible MDN: 2\n",
      "Cost STD: 1.724, Cost NN: 1.724, Cost MDN: 1.724\n",
      "2\n",
      "1.4048334735559727\n",
      "Feasible STD: 3, feasible NN: 3, feasible MDN: 3\n",
      "Cost STD: 2.411, Cost NN: 1.887, Cost MDN: 1.991\n",
      "3\n",
      "1.60259012688822\n",
      "Feasible STD: 4, feasible NN: 3, feasible MDN: 4\n",
      "Cost STD: 2.352, Cost NN: 1.874, Cost MDN: 2.049\n",
      "4\n",
      "7.087321154781113\n",
      "Feasible STD: 5, feasible NN: 4, feasible MDN: 5\n",
      "Cost STD: 2.320, Cost NN: 1.828, Cost MDN: 1.955\n",
      "5\n",
      "1.6547867426008043\n",
      "Feasible STD: 6, feasible NN: 5, feasible MDN: 6\n",
      "Cost STD: 2.369, Cost NN: 1.959, Cost MDN: 2.066\n",
      "6\n",
      "1.2622354042161632\n",
      "Feasible STD: 7, feasible NN: 6, feasible MDN: 7\n",
      "Cost STD: 2.286, Cost NN: 1.931, Cost MDN: 2.036\n",
      "7\n",
      "1.6304811476678496\n",
      "Feasible STD: 8, feasible NN: 7, feasible MDN: 8\n",
      "Cost STD: 2.261, Cost NN: 1.954, Cost MDN: 2.044\n",
      "8\n",
      "1.0791877755149644\n",
      "Feasible STD: 9, feasible NN: 8, feasible MDN: 9\n",
      "Cost STD: 2.226, Cost NN: 1.953, Cost MDN: 2.033\n",
      "9\n",
      "1.5500013685309033\n",
      "Feasible STD: 10, feasible NN: 9, feasible MDN: 10\n",
      "Cost STD: 2.380, Cost NN: 2.008, Cost MDN: 2.046\n",
      "10\n",
      "1.1587805589301217\n",
      "Feasible STD: 11, feasible NN: 10, feasible MDN: 11\n",
      "Cost STD: 2.303, Cost NN: 1.964, Cost MDN: 1.999\n",
      "11\n",
      "0.8797667800446503\n",
      "Feasible STD: 12, feasible NN: 11, feasible MDN: 12\n",
      "Cost STD: 2.277, Cost NN: 1.967, Cost MDN: 1.998\n",
      "12\n",
      "1.3115357415639997\n",
      "Feasible STD: 13, feasible NN: 12, feasible MDN: 13\n",
      "Cost STD: 2.265, Cost NN: 1.989, Cost MDN: 2.026\n",
      "13\n",
      "1.2321872263344706\n",
      "Feasible STD: 14, feasible NN: 13, feasible MDN: 14\n",
      "Cost STD: 2.218, Cost NN: 1.961, Cost MDN: 1.996\n",
      "14\n",
      "1.8043049179420059\n",
      "Feasible STD: 15, feasible NN: 14, feasible MDN: 15\n",
      "Cost STD: 2.239, Cost NN: 1.992, Cost MDN: 2.045\n",
      "15\n",
      "1.217420716201104\n",
      "Feasible STD: 16, feasible NN: 15, feasible MDN: 16\n",
      "Cost STD: 2.409, Cost NN: 1.970, Cost MDN: 2.020\n",
      "16\n",
      "1.1401011089518303\n",
      "Feasible STD: 17, feasible NN: 16, feasible MDN: 17\n",
      "Cost STD: 2.351, Cost NN: 1.938, Cost MDN: 1.985\n",
      "17\n",
      "14.898763043567099\n",
      "Feasible STD: 18, feasible NN: 17, feasible MDN: 18\n",
      "Cost STD: 2.445, Cost NN: 1.976, Cost MDN: 2.016\n",
      "18\n",
      "1.2405820975316946\n",
      "Feasible STD: 19, feasible NN: 18, feasible MDN: 19\n",
      "Cost STD: 2.436, Cost NN: 1.992, Cost MDN: 2.030\n",
      "19\n",
      "1.0550402181052216\n",
      "Feasible STD: 20, feasible NN: 19, feasible MDN: 20\n",
      "Cost STD: 2.505, Cost NN: 1.975, Cost MDN: 2.010\n",
      "20\n",
      "0.9625111726395323\n",
      "Feasible STD: 21, feasible NN: 20, feasible MDN: 21\n",
      "Cost STD: 2.449, Cost NN: 1.944, Cost MDN: 1.978\n",
      "21\n",
      "0.9588688276362718\n",
      "Feasible STD: 22, feasible NN: 21, feasible MDN: 22\n",
      "Cost STD: 2.393, Cost NN: 1.911, Cost MDN: 1.943\n",
      "22\n",
      "1.414751825036327\n",
      "Feasible STD: 23, feasible NN: 22, feasible MDN: 23\n",
      "Cost STD: 2.366, Cost NN: 1.913, Cost MDN: 1.942\n",
      "23\n",
      "0.861737809626073\n",
      "Feasible STD: 24, feasible NN: 23, feasible MDN: 24\n",
      "Cost STD: 2.323, Cost NN: 1.888, Cost MDN: 1.916\n",
      "24\n",
      "2.557761606265798\n",
      "Feasible STD: 25, feasible NN: 24, feasible MDN: 25\n",
      "Cost STD: 2.325, Cost NN: 1.908, Cost MDN: 1.939\n",
      "25\n",
      "0.8341313841821535\n",
      "Feasible STD: 26, feasible NN: 25, feasible MDN: 26\n",
      "Cost STD: 2.285, Cost NN: 1.883, Cost MDN: 1.912\n",
      "26\n",
      "1.3406350250401806\n",
      "Feasible STD: 27, feasible NN: 26, feasible MDN: 27\n",
      "Cost STD: 2.283, Cost NN: 1.896, Cost MDN: 1.925\n",
      "27\n",
      "1.5601151679396175\n",
      "Feasible STD: 28, feasible NN: 27, feasible MDN: 28\n",
      "Cost STD: 2.270, Cost NN: 1.906, Cost MDN: 1.934\n",
      "28\n",
      "1.344871023368457\n",
      "Feasible STD: 29, feasible NN: 28, feasible MDN: 29\n",
      "Cost STD: 2.276, Cost NN: 1.926, Cost MDN: 1.952\n",
      "29\n",
      "1.3772426485160405\n",
      "Feasible STD: 30, feasible NN: 28, feasible MDN: 30\n",
      "Cost STD: 2.261, Cost NN: 1.919, Cost MDN: 1.949\n",
      "30\n",
      "1.2621412746753007\n",
      "Feasible STD: 31, feasible NN: 29, feasible MDN: 31\n",
      "Cost STD: 2.256, Cost NN: 1.926, Cost MDN: 1.955\n",
      "31\n",
      "1.5275219627525716\n",
      "Feasible STD: 32, feasible NN: 30, feasible MDN: 32\n",
      "Cost STD: 2.244, Cost NN: 1.925, Cost MDN: 1.953\n",
      "32\n",
      "1.2539885782105376\n",
      "Feasible STD: 33, feasible NN: 31, feasible MDN: 33\n",
      "Cost STD: 2.254, Cost NN: 1.919, Cost MDN: 1.953\n",
      "33\n",
      "1.237035629531478\n",
      "Feasible STD: 34, feasible NN: 32, feasible MDN: 34\n",
      "Cost STD: 2.254, Cost NN: 1.928, Cost MDN: 1.961\n",
      "34\n",
      "1.143002570861567\n",
      "Feasible STD: 35, feasible NN: 33, feasible MDN: 35\n",
      "Cost STD: 2.237, Cost NN: 1.920, Cost MDN: 1.952\n",
      "35\n",
      "1.21308923574111\n",
      "Feasible STD: 36, feasible NN: 34, feasible MDN: 36\n",
      "Cost STD: 2.221, Cost NN: 1.914, Cost MDN: 1.947\n",
      "36\n",
      "1.399497020701188\n",
      "Feasible STD: 37, feasible NN: 35, feasible MDN: 37\n",
      "Cost STD: 2.218, Cost NN: 1.920, Cost MDN: 1.951\n",
      "37\n",
      "1.0449426785438511\n",
      "Feasible STD: 38, feasible NN: 36, feasible MDN: 38\n",
      "Cost STD: 2.210, Cost NN: 1.919, Cost MDN: 1.949\n",
      "38\n",
      "28.355993521555355\n",
      "Feasible STD: 39, feasible NN: 37, feasible MDN: 39\n",
      "Cost STD: 4.007, Cost NN: 1.943, Cost MDN: 1.972\n",
      "40\n",
      "1.5855812963450435\n",
      "Feasible STD: 40, feasible NN: 38, feasible MDN: 40\n",
      "Cost STD: 3.959, Cost NN: 1.947, Cost MDN: 1.975\n",
      "41\n",
      "0.7889529827283421\n",
      "Feasible STD: 41, feasible NN: 39, feasible MDN: 41\n",
      "Cost STD: 3.889, Cost NN: 1.926, Cost MDN: 1.955\n",
      "42\n",
      "1.359915286138528\n",
      "Feasible STD: 42, feasible NN: 40, feasible MDN: 42\n",
      "Cost STD: 3.858, Cost NN: 1.940, Cost MDN: 1.964\n",
      "43\n",
      "1.7218638752071893\n",
      "Feasible STD: 43, feasible NN: 41, feasible MDN: 43\n",
      "Cost STD: 3.820, Cost NN: 1.945, Cost MDN: 1.968\n",
      "44\n",
      "1.3779548524714749\n",
      "Feasible STD: 44, feasible NN: 42, feasible MDN: 44\n",
      "Cost STD: 3.780, Cost NN: 1.947, Cost MDN: 1.970\n",
      "45\n",
      "1.2729985313244083\n",
      "Feasible STD: 45, feasible NN: 43, feasible MDN: 45\n",
      "Cost STD: 3.748, Cost NN: 1.956, Cost MDN: 1.978\n",
      "46\n",
      "1.100318299582429\n",
      "Feasible STD: 46, feasible NN: 44, feasible MDN: 46\n",
      "Cost STD: 3.715, Cost NN: 1.962, Cost MDN: 1.984\n",
      "47\n",
      "1.137001319835547\n",
      "Feasible STD: 47, feasible NN: 45, feasible MDN: 47\n",
      "Cost STD: 3.678, Cost NN: 1.957, Cost MDN: 1.978\n",
      "48\n",
      "0.9800429460092308\n",
      "Feasible STD: 48, feasible NN: 46, feasible MDN: 48\n",
      "Cost STD: 3.648, Cost NN: 1.963, Cost MDN: 1.983\n",
      "49\n",
      "14.88190498118692\n",
      "Feasible STD: 49, feasible NN: 47, feasible MDN: 49\n",
      "Cost STD: 3.658, Cost NN: 1.969, Cost MDN: 1.999\n",
      "50\n",
      "0.9278692768640981\n",
      "Feasible STD: 50, feasible NN: 48, feasible MDN: 50\n",
      "Cost STD: 3.610, Cost NN: 1.955, Cost MDN: 1.984\n",
      "51\n",
      "1.4238287155935465\n",
      "Feasible STD: 51, feasible NN: 49, feasible MDN: 51\n",
      "Cost STD: 3.586, Cost NN: 1.963, Cost MDN: 1.992\n",
      "52\n",
      "0.9631568099600313\n",
      "Feasible STD: 52, feasible NN: 50, feasible MDN: 52\n",
      "Cost STD: 3.560, Cost NN: 1.968, Cost MDN: 1.993\n",
      "53\n",
      "3.6617566810927027\n",
      "Feasible STD: 53, feasible NN: 51, feasible MDN: 53\n",
      "Cost STD: 3.531, Cost NN: 1.969, Cost MDN: 1.995\n",
      "54\n",
      "1.1286319398404574\n",
      "Feasible STD: 54, feasible NN: 52, feasible MDN: 54\n",
      "Cost STD: 3.497, Cost NN: 1.963, Cost MDN: 1.989\n",
      "55\n",
      "1.284534847397521\n",
      "Feasible STD: 55, feasible NN: 53, feasible MDN: 55\n",
      "Cost STD: 3.475, Cost NN: 1.970, Cost MDN: 1.994\n",
      "56\n",
      "1.5038796371002758\n",
      "Feasible STD: 56, feasible NN: 54, feasible MDN: 56\n",
      "Cost STD: 3.450, Cost NN: 1.972, Cost MDN: 1.995\n",
      "57\n",
      "1.5887066876850686\n",
      "Feasible STD: 57, feasible NN: 55, feasible MDN: 57\n",
      "Cost STD: 3.466, Cost NN: 1.976, Cost MDN: 2.001\n",
      "58\n",
      "0.9223831310737538\n",
      "Feasible STD: 58, feasible NN: 56, feasible MDN: 58\n",
      "Cost STD: 3.470, Cost NN: 1.971, Cost MDN: 1.995\n",
      "59\n",
      "1.918162708768028\n",
      "Feasible STD: 59, feasible NN: 57, feasible MDN: 59\n",
      "Cost STD: 3.455, Cost NN: 1.982, Cost MDN: 2.006\n",
      "60\n",
      "1.4040631718712013\n",
      "Feasible STD: 60, feasible NN: 58, feasible MDN: 60\n",
      "Cost STD: 3.437, Cost NN: 1.993, Cost MDN: 2.010\n",
      "61\n",
      "1.317555553158853\n",
      "Feasible STD: 61, feasible NN: 59, feasible MDN: 61\n",
      "Cost STD: 3.413, Cost NN: 1.989, Cost MDN: 2.015\n",
      "62\n",
      "4.9552988023303906\n",
      "Feasible STD: 62, feasible NN: 60, feasible MDN: 62\n",
      "Cost STD: 3.502, Cost NN: 2.006, Cost MDN: 2.022\n",
      "63\n",
      "1.0917981449341423\n",
      "Feasible STD: 63, feasible NN: 61, feasible MDN: 63\n",
      "Cost STD: 3.479, Cost NN: 2.008, Cost MDN: 2.022\n",
      "64\n",
      "1.1022789548479488\n",
      "Feasible STD: 64, feasible NN: 62, feasible MDN: 64\n",
      "Cost STD: 3.465, Cost NN: 2.006, Cost MDN: 2.019\n",
      "65\n",
      "1.2726972965178351\n",
      "Feasible STD: 65, feasible NN: 63, feasible MDN: 65\n",
      "Cost STD: 3.448, Cost NN: 2.014, Cost MDN: 2.025\n",
      "66\n",
      "1.3211432855479819\n",
      "Feasible STD: 66, feasible NN: 64, feasible MDN: 66\n",
      "Cost STD: 3.421, Cost NN: 2.008, Cost MDN: 2.019\n",
      "67\n",
      "1.0343280873339467\n",
      "Feasible STD: 67, feasible NN: 65, feasible MDN: 67\n",
      "Cost STD: 3.412, Cost NN: 1.999, Cost MDN: 2.010\n",
      "68\n",
      "1.2851585890871504\n",
      "Feasible STD: 68, feasible NN: 66, feasible MDN: 68\n",
      "Cost STD: 3.396, Cost NN: 2.004, Cost MDN: 2.015\n",
      "69\n",
      "1.361163645581828\n",
      "Feasible STD: 69, feasible NN: 67, feasible MDN: 69\n",
      "Cost STD: 3.377, Cost NN: 2.005, Cost MDN: 2.015\n",
      "70\n",
      "1.3777930193263976\n",
      "Feasible STD: 70, feasible NN: 68, feasible MDN: 70\n",
      "Cost STD: 3.352, Cost NN: 1.999, Cost MDN: 2.010\n",
      "71\n",
      "1.177945707450484\n",
      "Feasible STD: 71, feasible NN: 69, feasible MDN: 71\n",
      "Cost STD: 3.553, Cost NN: 1.997, Cost MDN: 2.007\n",
      "72\n"
     ]
    }
   ],
   "source": [
    "for n_iter in [10]:#, 10, 50]: \n",
    "    print('-------------------\\n%d'%n_iter)\n",
    "    cost_nn_set, cost_std_set, cost_mdn_set = [], [], []\n",
    "    feas_nn_set, feas_std_set, feas_mdn_set = [], [], []\n",
    "    for idx in range(len(x_test[:100])): #20,30):#\n",
    "        if idx in [ 39, 417, 142]:\n",
    "            continue\n",
    "        #pick one test case\n",
    "        print(idx)\n",
    "        x = x_test[idx]\n",
    "#         print(x)\n",
    "        y = y_test[idx].reshape(-1,12)\n",
    "        full_idx = test_idx[idx]\n",
    "        obstacles = obs_set[full_idx]\n",
    "#         print(obstacles)\n",
    "        x0, x_target = x[-24:-12],x[-12:]\n",
    "        obj_id, init_id, target_id, border_id, obstacle_ids = init_pybullet(x0,x_target, obstacles)\n",
    "\n",
    "        #create ddp\n",
    "        prob, lin_sys = setup_ilqr_quadcopter_general(T, x0, x_target, obstacles, obj_id)\n",
    "        ddp = crocoddyl.SolverFDDP(prob)\n",
    "        \n",
    "        #### Standard init\n",
    "        xs_init, us_init = create_standard_init(lin_sys, x0, T)\n",
    "        us_init = np.array(ddp.problem.quasiStatic(list(xs_init[:-1]))) \n",
    "        xs, us, ddp = solve_ilqr(prob, xs_init, us_init, iterations=n_iter, th_grad = th_grad, th_stop = th_stop)\n",
    "        cost_std = ddp.cost\n",
    "        feas_std = ddp.isFeasible\n",
    "        xs_init_std = xs_init.copy()\n",
    "        \n",
    "#         #### Linear init\n",
    "#         xs_init, us_init = create_linear_init(x0, x_target, T)\n",
    "#         xs, us, ddp = solve_ilqr(prob, xs_init, us_init, iterations=n_iter, th_grad = th_grad, th_stop = th_stop)\n",
    "#         cost_std = ddp.cost\n",
    "#         feas_std = ddp.isFeasible\n",
    "#         xs_init_std = xs_init.copy()\n",
    "\n",
    "        #### NN init\n",
    "        y_pred = nn.predict(x[None,:])\n",
    "        y_traj = pca.inverse_transform(y_pred).reshape(-1,12)\n",
    "        Dx, Du = 12, 6 #dimensions of x and u\n",
    "        lin_sys = create_double_integrator(Dx, Du, 0.05)\n",
    "        xs_lqt = np.hstack([y_traj[:,:3], y_traj[:,6:9], y_traj[:,3:6], y_traj[:,9:]])\n",
    "        xs_init, us_init = create_lqt_init_quad(lin_sys, xs_lqt, x0, x_target, 100)\n",
    "        xs_init = np.hstack([xs_init[:,:3], xs_init[:,6:9], xs_init[:,3:6], xs_init[:,9:]])\n",
    "        us_init = np.array(ddp.problem.quasiStatic(list(xs_init[:-1])))        \n",
    "        xs, us, ddp = solve_ilqr(prob, xs_init, us_init, iterations=n_iter, th_grad = th_grad, th_stop = th_stop, x_reg = x_reg, u_reg = x_reg)\n",
    "        cost_nn = ddp.cost\n",
    "        feas_nn = ddp.isFeasible\n",
    "        xs_init_nn = xs_init.copy()\n",
    "\n",
    "        #### MDN init\n",
    "        y_pred = mdn(x[None,:]).sample(n_sample)\n",
    "        y_traj = pca.inverse_transform(y_pred).reshape(n_sample, -1, 12)\n",
    "        y_traj, xs_init, us_init  = get_best_mdn_prediction_ddp2(y_traj, x, obstacles, general_obs=True, obj_id=obj_id, add_zeros_dim = 0)\n",
    "        Dx, Du = 12, 6 #dimensions of x and u\n",
    "        lin_sys = create_double_integrator(Dx, Du, 0.05)\n",
    "        xs_lqt = np.hstack([y_traj[:,:3], y_traj[:,6:9], y_traj[:,3:6], y_traj[:,9:]])\n",
    "        xs_init, us_init = create_lqt_init_quad(lin_sys, xs_lqt, x0, x_target, 100)\n",
    "        xs_init = np.hstack([xs_init[:,:3], xs_init[:,6:9], xs_init[:,3:6], xs_init[:,9:]])\n",
    "        us_init = np.array(ddp.problem.quasiStatic(list(xs_init[:-1])))        \n",
    "        xs, us, ddp = solve_ilqr(prob, xs_init, us_init, iterations=n_iter, th_grad = th_grad, th_stop = th_stop, x_reg = x_reg, u_reg = x_reg)\n",
    "        cost_mdn = ddp.cost\n",
    "        feas_mdn = ddp.isFeasible\n",
    "        xs_init_mdn = xs_init.copy()\n",
    "\n",
    "#         print('Cost std:{}, cost nn: {}'.format(cost_std, cost_nn))\n",
    "#         print('Feasible std:{}, Feasible nn: {}'.format(feas_std, feas_nn))\n",
    "\n",
    "        cost_nn_set.append(cost_nn)\n",
    "        cost_mdn_set.append(cost_mdn)\n",
    "        cost_std_set.append(cost_std) \n",
    "        feas_nn_set.append(feas_nn)\n",
    "        feas_mdn_set.append(feas_mdn)\n",
    "        feas_std_set.append(feas_std)\n",
    "        print('Feasible STD: {}, feasible NN: {}, feasible MDN: {}'.format(np.sum(feas_std_set), np.sum(feas_nn_set), np.sum(feas_mdn_set)))\n",
    "        print('Cost STD: {:.3f}, Cost NN: {:.3f}, Cost MDN: {:.3f}'.format(np.mean(cost_std_set), np.mean(cost_nn_set), np.mean(cost_mdn_set)))    "
   ]
  },
  {
   "cell_type": "code",
   "execution_count": null,
   "id": "2438619b-676c-4cf5-80cd-7b1680e40a9a",
   "metadata": {},
   "outputs": [],
   "source": [
    "def reject_outliers(data, m=2):\n",
    "    return data[abs(data - np.mean(data)) < m * np.std(data)]"
   ]
  },
  {
   "cell_type": "code",
   "execution_count": null,
   "id": "5c668c6a-d75c-4f25-a2f4-685ba029df64",
   "metadata": {},
   "outputs": [],
   "source": [
    "cost_std_set = np.array(cost_std_set)[:100]\n",
    "cost_nn_set = np.array(cost_nn_set)[:100]\n",
    "cost_mdn_set = np.array(cost_mdn_set)[:100]"
   ]
  },
  {
   "cell_type": "code",
   "execution_count": null,
   "id": "47fec4ca-3f12-476a-9f7f-192a30c0a7a0",
   "metadata": {},
   "outputs": [],
   "source": [
    "cost_std_set = reject_outliers(cost_std_set, m = 4)\n",
    "cost_mdn_set = reject_outliers(cost_mdn_set, m = 4)\n",
    "cost_nn_set = reject_outliers(cost_nn_set, m = 4)"
   ]
  },
  {
   "cell_type": "code",
   "execution_count": null,
   "id": "81bf4a5e-193a-46e4-b280-9134be7acda1",
   "metadata": {},
   "outputs": [],
   "source": [
    "print('Feasible STD: {}, feasible NN: {}, feasible MDN: {}'.format(np.sum(feas_std_set), np.sum(feas_nn_set), np.sum(feas_mdn_set)))\n"
   ]
  },
  {
   "cell_type": "code",
   "execution_count": null,
   "id": "b2af28de-4677-4fe1-bde5-87edb1597e57",
   "metadata": {},
   "outputs": [],
   "source": [
    "print('Cost STD: {:.3f}, Cost NN: {:.3f}, Cost MDN: {:.3f}'.format(np.mean(cost_std_set), np.mean(cost_nn_set), np.mean(cost_mdn_set)))    "
   ]
  },
  {
   "cell_type": "code",
   "execution_count": null,
   "id": "1dc569fc-9f25-4592-9af3-b509572d501c",
   "metadata": {},
   "outputs": [],
   "source": [
    "exp_name"
   ]
  },
  {
   "cell_type": "raw",
   "id": "978e8c63-8e6b-41e8-92ed-86bd5151a478",
   "metadata": {},
   "source": [
    "args = np.argsort(cost_mdn_set)[-20:]\n",
    "\n",
    "cost_mdn_set[args][-20:]\n",
    "\n",
    "args_filter = np.array([True]*292)\n",
    "\n",
    "args_filter[args] = False"
   ]
  },
  {
   "cell_type": "code",
   "execution_count": null,
   "id": "bec5fab3-5e8a-46e4-8b69-326f1ba98208",
   "metadata": {},
   "outputs": [],
   "source": [
    "data = dict()\n",
    "data['feas_std_set'] = feas_std_set\n",
    "data['feas_nn_set'] = feas_nn_set\n",
    "data['feas_mdn_set'] = feas_mdn_set\n",
    "data['cost_std_set'] = cost_std_set\n",
    "data['cost_nn_set'] = cost_nn_set\n",
    "data['cost_mdn_set'] = cost_mdn_set\n",
    "np.save('final_data/'+exp_name+'_warmstart_res_'+str(n_iter), data)"
   ]
  },
  {
   "cell_type": "raw",
   "id": "683b6747-3912-4287-a796-72cdab65b978",
   "metadata": {},
   "source": [
    "data2 = np.load('final_data/'+exp_name+'_warmstart_res_'+str(n_iter)+'.npy', allow_pickle = True)[()]\n",
    "feas_std_set = data2['feas_std_set'] \n",
    "feas_nn_set = data2['feas_nn_set'] \n",
    "feas_mdn_set = data2['feas_mdn_set'] \n",
    "cost_std_set = data2['cost_std_set'] \n",
    "cost_nn_set = data2['cost_nn_set'] \n",
    "cost_mdn_set = data2['cost_mdn_set']"
   ]
  }
 ],
 "metadata": {
  "kernelspec": {
   "display_name": "Python 3",
   "language": "python",
   "name": "python3"
  },
  "language_info": {
   "codemirror_mode": {
    "name": "ipython",
    "version": 3
   },
   "file_extension": ".py",
   "mimetype": "text/x-python",
   "name": "python",
   "nbconvert_exporter": "python",
   "pygments_lexer": "ipython3",
   "version": "3.9.5"
  }
 },
 "nbformat": 4,
 "nbformat_minor": 5
}
