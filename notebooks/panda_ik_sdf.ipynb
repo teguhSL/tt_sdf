{
 "cells": [
  {
   "cell_type": "markdown",
   "id": "4b3bf3b5-c482-4c78-8ffe-eff5ab49be0c",
   "metadata": {},
   "source": [
    "#### TODO\n",
    "\n",
    "1. Refine the positions and the radius of the spheres\n",
    "2. Try IK for Talos?"
   ]
  },
  {
   "cell_type": "markdown",
   "id": "985041a6-84b2-44c9-b171-40aa32cf9856",
   "metadata": {},
   "source": [
    "# Ik of Panda robot with SDF cost function"
   ]
  },
  {
   "cell_type": "code",
   "execution_count": 2,
   "id": "04b812e8-b523-4cbb-8dee-4d5794940a95",
   "metadata": {},
   "outputs": [],
   "source": [
    "import sys\n",
    "sys.path.append('../lib')\n",
    "\n",
    "from pb_utils import set_q, get_joint_limits\n",
    "from ocp_utils import init_pybullet, create_primitives\n",
    "\n",
    "import pybullet as p\n",
    "import pybullet_data\n",
    "\n",
    "import time\n",
    "import numpy as np\n",
    "import matplotlib.pyplot as plt\n",
    "from IPython.display import clear_output\n",
    "from scipy.optimize import minimize\n",
    "from functools import partial\n",
    "\n",
    "%load_ext autoreload\n",
    "%autoreload 2\n",
    "np.set_printoptions(precision=4, suppress=True)"
   ]
  },
  {
   "cell_type": "markdown",
   "id": "fd862311-0482-4472-aa2c-3329e649ca96",
   "metadata": {},
   "source": [
    "## Start pybullet"
   ]
  },
  {
   "cell_type": "code",
   "execution_count": 3,
   "id": "da1590bd-22b8-4e45-92f1-12cbb0428911",
   "metadata": {},
   "outputs": [
    {
     "data": {
      "text/plain": [
       "0"
      ]
     },
     "execution_count": 3,
     "metadata": {},
     "output_type": "execute_result"
    }
   ],
   "source": [
    "p.connect(p.GUI)"
   ]
  },
  {
   "cell_type": "markdown",
   "id": "17fcb583-41b8-4c33-87e4-98b516efe45e",
   "metadata": {},
   "source": [
    "#### Load the SDF"
   ]
  },
  {
   "cell_type": "code",
   "execution_count": 4,
   "id": "142173ed-fa33-4258-91ad-76b8faefbee2",
   "metadata": {},
   "outputs": [],
   "source": [
    "data = np.load('data/sdf.npy', allow_pickle=True)[()]\n",
    "sdf_matr = data['sdf_matr']  #SDF tensor\n",
    "obstacles = data['obstacles'] #obstacles parameters\n",
    "dL = data['dL'] # Env discretization\n",
    "L = data['L']   # Env length\n",
    "N = data['N']   # Number of discretization for each axis\n",
    "V = data['V']   # Voxel coordinates\n",
    "V_flat = data['V_flat']  # Flattened vector of V\n",
    "V_vec = V[0,0,:,2] #only valid for cube environment. Othervise, calculate vec for each of the axis\n",
    "bounds = data['bounds'] # Bound of the environment"
   ]
  },
  {
   "cell_type": "markdown",
   "id": "bc88f13b-be9a-4484-a0dc-5d25d6d667cc",
   "metadata": {},
   "source": [
    "#### Visualize obstacles in pybullet"
   ]
  },
  {
   "cell_type": "code",
   "execution_count": 5,
   "id": "63c433ea-d7fc-41fb-93ea-058118e7da06",
   "metadata": {
    "tags": []
   },
   "outputs": [],
   "source": [
    "colors = [[0.8, 0.5, 0.5, 1]]*len(obstacles)\n",
    "obj_id, init_id, target_id, border_id, obstacle_ids = init_pybullet (np.zeros(3), np.zeros(3), obstacles, colors=colors)"
   ]
  },
  {
   "cell_type": "markdown",
   "id": "7eebfdec-5a2f-4bed-b841-52b4e1dd47b9",
   "metadata": {},
   "source": [
    "#### Visualize the SDF as mesh"
   ]
  },
  {
   "cell_type": "raw",
   "id": "3bfdfb98-d4bf-4d3a-8cad-17a9d63497c4",
   "metadata": {},
   "source": [
    "import sys as sysp\n",
    "sysp.path.append('/home/teguh/git/rli/tt_sdf/lib')\n",
    "# from env_creator import *\n",
    "env_builder = EnvCreator(vol_bnds=bounds, voxel_size=dL)\n",
    "\n",
    "import trimesh\n",
    "mesh = env_builder.render_voxel_view(sdf_matr, return_mesh=True)\n",
    "scene = trimesh.Scene()\n",
    "scene.add_geometry(mesh)\n",
    "scene.show()"
   ]
  },
  {
   "cell_type": "markdown",
   "id": "adb9957b-ec9d-4ff9-9f2b-a9c7ecb0bea6",
   "metadata": {},
   "source": [
    "#### Functions to access the sdf values"
   ]
  },
  {
   "cell_type": "code",
   "execution_count": 6,
   "id": "5e946fca-5389-4e6c-ab7f-b3226b908920",
   "metadata": {},
   "outputs": [],
   "source": [
    "def get_indices(x):\n",
    "    '''\n",
    "    Given a coordinate x, find the set of indices \n",
    "    in the sdf tensor that corresponds to x\n",
    "    '''\n",
    "    dist = (x[:,None] - V_vec)**2\n",
    "    indices = np.argmin(dist, axis=1)\n",
    "    return indices[0], indices[1], indices[2]\n",
    "\n",
    "def remove_border(idx, N=100):\n",
    "    '''\n",
    "    At the border, change the index to the one\n",
    "    before the border, so we can still get the numdiff gradient\n",
    "    Set N to be the same as the number of discretization in the voxel\n",
    "    '''\n",
    "    if idx == 0:\n",
    "        return 1\n",
    "    if idx == N-1:\n",
    "        return idx-1\n",
    "    return idx \n",
    "\n",
    "def compute_sdf(x):\n",
    "    '''\n",
    "    Calculate the sdf value at coordinate x\n",
    "    '''\n",
    "    x = np.array(x)\n",
    "    idx1, idx2, idx3 = get_indices(x)\n",
    "    sdf_val = sdf_matr[idx1][idx2][idx3]\n",
    "    sdf_val_grad = compute_grad_sdf(x)\n",
    "\n",
    "    #interpolate sdf val as f(x*) + f'(x*)(x-x*)\n",
    "    #where x* is the closest in V to x\n",
    "    dx = x - V[idx1][idx2][idx3]\n",
    "    sdf_val += sdf_val_grad.dot(dx)\n",
    "    return sdf_val\n",
    "\n",
    "def compute_grad_sdf(x, inc = 1):\n",
    "    '''\n",
    "    Calculate the gradient of the sdf at x with numerical differentiation\n",
    "    inc is 1 to get the neighbour voxel\n",
    "    '''\n",
    "    \n",
    "    idx1, idx2, idx3 = get_indices(x)\n",
    "    \n",
    "    #modify at the border ***to be changed***\n",
    "    idx1 = remove_border(idx1)\n",
    "    idx2 = remove_border(idx2)\n",
    "    idx3 = remove_border(idx3)\n",
    "    \n",
    "    #computing df_x\n",
    "    sdf_val_p = sdf_matr[idx1][idx2][idx3+inc]\n",
    "    sdf_val_m = sdf_matr[idx1][idx2][idx3-inc]\n",
    "    dfz = (sdf_val_p-sdf_val_m)/(2*inc*dL)\n",
    "\n",
    "    #computing df_y\n",
    "    sdf_val_p = sdf_matr[idx1][idx2+inc][idx3]\n",
    "    sdf_val_m = sdf_matr[idx1][idx2-inc][idx3]\n",
    "    dfy = (sdf_val_p-sdf_val_m)/(2*inc*dL)\n",
    "    \n",
    "    #computing df_z\n",
    "    sdf_val_p = sdf_matr[idx1+inc][idx2][idx3]\n",
    "    sdf_val_m = sdf_matr[idx1-inc][idx2][idx3]\n",
    "    dfx = (sdf_val_p-sdf_val_m)/(2*inc*dL)\n",
    "\n",
    "    return np.array([dfx, dfy, dfz])\n",
    "\n",
    "def barrier_obs(d, margin = 0.1):\n",
    "    '''\n",
    "    Set the value to be 0 if d > margin, and |d - margin| otherwise\n",
    "    '''\n",
    "    if d-margin < 0:\n",
    "        return np.abs(d-margin)\n",
    "    else:\n",
    "        return 0"
   ]
  },
  {
   "cell_type": "markdown",
   "id": "b1559000-82fe-405b-81e6-e8542bdc94bf",
   "metadata": {},
   "source": [
    "#### Load the robot"
   ]
  },
  {
   "cell_type": "code",
   "execution_count": 7,
   "id": "5e3b8a23-7305-49dd-bcc4-31d0fc616f28",
   "metadata": {},
   "outputs": [],
   "source": [
    "# p.resetSimulation()\n",
    "DATA_PATH = '../data'\n",
    "robot_urdf = DATA_PATH + '/urdf/frankaemika_new/panda_arm.urdf'\n",
    "robot_id = p.loadURDF(fileName=robot_urdf)\n",
    "joint_limits = get_joint_limits(robot_id, np.arange(7))"
   ]
  },
  {
   "cell_type": "code",
   "execution_count": 8,
   "id": "b5f622ca-5613-4421-976c-7722563432a8",
   "metadata": {},
   "outputs": [],
   "source": [
    "set_q_std = partial(set_q, robot_id, np.arange(7))"
   ]
  },
  {
   "cell_type": "markdown",
   "id": "3e9ed146-8a3d-4d06-b6b1-c267bff494ee",
   "metadata": {},
   "source": [
    "#### Base placement"
   ]
  },
  {
   "cell_type": "code",
   "execution_count": 9,
   "id": "35062d5d-0bca-4855-92ee-214fe4660528",
   "metadata": {},
   "outputs": [],
   "source": [
    "p0 = np.array([0,-0.5,-0.15])\n",
    "# p0 = np.zeros(3)\n",
    "p.resetBasePositionAndOrientation(robot_id, p0, (0,0,0,1))"
   ]
  },
  {
   "cell_type": "markdown",
   "id": "1d9fb637-a693-429e-bd24-2360d8f707cf",
   "metadata": {},
   "source": [
    "#### Check FK"
   ]
  },
  {
   "cell_type": "code",
   "execution_count": 10,
   "id": "c22d0716-6f00-4ca1-bbbe-7161dc588b31",
   "metadata": {},
   "outputs": [],
   "source": [
    "import numpy as jnp\n",
    "def TransformationToPose(T):\n",
    "    R = T[:3,:3]\n",
    "    x=T[:3,-1]\n",
    "    sy = jnp.sqrt(R[0,0] * R[0,0] +  R[1,0] * R[1,0])\n",
    "    singular = sy < 1e-6\n",
    "    t1 = jnp.array([jnp.arctan2(R[2,1] , R[2,2]),jnp.arctan2(-R[2,0], sy),jnp.arctan2(R[1,0], R[0,0])]) \n",
    "    t2 = jnp.array([jnp.arctan2(-R[1,2], R[1,1]),jnp.arctan2(-R[2,0], sy),0])\n",
    "    ts = jnp.where(singular, t2, t1)\n",
    "    return jnp.concatenate((x,ts))\n",
    "\n",
    "    \n",
    "def compute_transformation(a=jnp.array([0,0,0,0.0825,-0.0825,0,0.088,0]),\n",
    "                           d=jnp.array([0.333,0,0.316,0,0.384,0,0,0.107]),\n",
    "                           alpha=jnp.array([0,-1,1,1,-1,1,1,0])*(jnp.pi/2)):\n",
    "    def get_Ti(a_i,d_i,alpha_i):\n",
    "        ca= jnp.cos(alpha_i)\n",
    "        sa= jnp.sin(alpha_i)\n",
    "        Talpha = jnp.array([[1,0,0,0],[0,ca,-sa,0],[0,sa,ca,0],[0,0,0,1]])\n",
    "        Ta = jnp.array([[1,0,0,a_i],[0,1,0,0],[0,0,1,0],[0,0,0,1]])\n",
    "        Td = jnp.array([[1,0,0,0],[0,1,0,0],[0,0,1,d_i],[0,0,0,1]])\n",
    "        def T_i(theta_i):\n",
    "            ct = jnp.cos(theta_i)\n",
    "            st = jnp.sin(theta_i)\n",
    "            Tz = jnp.array([[ct,-st,0,0],[st,ct,0,0],[0,0,1,0],[0,0,0,1]])\n",
    "            return Talpha@Ta@Td@Tz\n",
    "        \n",
    "        return T_i\n",
    "\n",
    "    T_all = []\n",
    "    for i in range(len(a)):\n",
    "        T_all.append(get_Ti(a[i],d[i],alpha[i]))\n",
    "    def compute_T(theta):\n",
    "        T = jnp.eye(4)\n",
    "        Ts = []\n",
    "        theta = jnp.concatenate((theta,jnp.array([0])))\n",
    "        for i in range(len(theta)):\n",
    "            T = T@T_all[i](theta[i])\n",
    "            Ts.append(T)\n",
    "        return T,Ts\n",
    "    return compute_T"
   ]
  },
  {
   "cell_type": "code",
   "execution_count": 11,
   "id": "0e0b3466-5f7a-4094-9708-3b0c9354896c",
   "metadata": {},
   "outputs": [],
   "source": [
    "compute_T = compute_transformation()"
   ]
  },
  {
   "cell_type": "markdown",
   "id": "4a304784-e52e-435c-81d9-0d714e9fb4a7",
   "metadata": {},
   "source": [
    "### Create collision spheres for the body"
   ]
  },
  {
   "cell_type": "code",
   "execution_count": 12,
   "id": "58c401b3-ce35-4035-950b-426752d27826",
   "metadata": {},
   "outputs": [],
   "source": [
    "class BodySphere():\n",
    "    def __init__(self, pb_id, radius, joint_id, pos, abs_pos = None):\n",
    "        self.radius = radius #radius of the sphere\n",
    "        self.joint_id = joint_id #the id of the parent joint\n",
    "        self.pos = pos #relative position w.r.t. the parent joint\n",
    "        self.pb_id = pb_id #pybullet index of the corresponding object\n",
    "        self.abs_pos = abs_pos #absolute position, w.r.t the base coordinate\n",
    "        \n",
    "    def set_abs_pos(self, abs_pos):\n",
    "        '''\n",
    "        Update the absolute position\n",
    "        '''\n",
    "        self.abs_pos = abs_pos \n",
    "        \n",
    "def update_pos_spheres(spheres, Ts, offset=np.zeros(3)):\n",
    "    '''\n",
    "    Given the transformation matrices Ts, \n",
    "    update the absolute position of each sphere\n",
    "    '''\n",
    "    spheres_pos = []\n",
    "    for i, sphere in enumerate(spheres):\n",
    "        R, p0 = Ts[sphere.joint_id][:3,:3], Ts[sphere.joint_id][:3,3] \n",
    "        pos = p0 + R.dot(sphere.pos) \n",
    "        sphere.set_abs_pos(pos+offset)\n",
    "    return\n",
    "\n",
    "def visualize_pos_spheres(spheres):\n",
    "    '''\n",
    "    Update the sphere position in pybullet\n",
    "    '''\n",
    "    for i, sphere in enumerate(spheres):\n",
    "        p.resetBasePositionAndOrientation(sphere.pb_id, sphere.abs_pos, (0,0,0,1))\n",
    "    return"
   ]
  },
  {
   "cell_type": "code",
   "execution_count": 13,
   "id": "a275c149-2e17-47f7-811b-97374c250a10",
   "metadata": {},
   "outputs": [],
   "source": [
    "#define the radius of each sphere\n",
    "body_radius = np.array([0.08]*12)\n",
    "\n",
    "#create the object in pybullet\n",
    "ball_ids = []\n",
    "for i in range(len(body_radius)):\n",
    "    _,_,ball_id = create_primitives(radius=body_radius[i], rgbaColor=[1,1,0,0.7])\n",
    "    ball_ids.append(ball_id)"
   ]
  },
  {
   "cell_type": "code",
   "execution_count": 14,
   "id": "2272a89b-0185-41c7-b403-87a291e57963",
   "metadata": {},
   "outputs": [],
   "source": [
    "#create the collision sphere objects\n",
    "sphere1 = BodySphere(pb_id = ball_ids[0], radius = body_radius[0], joint_id = 1, pos = np.array([0,0,0.05]))\n",
    "sphere2 = BodySphere(pb_id = ball_ids[1], radius = body_radius[0], joint_id = 1, pos = np.array([-0.0,-0.1,0.01]))\n",
    "sphere3 = BodySphere(pb_id = ball_ids[2], radius = body_radius[0], joint_id = 2, pos = np.array([0,-0.,-0.1]))\n",
    "sphere4 = BodySphere(pb_id = ball_ids[3], radius = body_radius[0], joint_id = 3, pos = np.array([0,-0.,-0.]))\n",
    "sphere5 = BodySphere(pb_id = ball_ids[4], radius = body_radius[0], joint_id = 3, pos = np.array([-0.1,0.1,-0.]))\n",
    "sphere6 = BodySphere(pb_id = ball_ids[5], radius = body_radius[0], joint_id = 4, pos = np.array([0,0,0.0]))\n",
    "sphere7 = BodySphere(pb_id = ball_ids[6], radius = body_radius[0], joint_id = 4, pos = np.array([0,0.1,-0.]))\n",
    "sphere8 = BodySphere(pb_id = ball_ids[7], radius = body_radius[0], joint_id = 4, pos = np.array([0,0.1,-0.1]))\n",
    "sphere9 = BodySphere(pb_id = ball_ids[8], radius = body_radius[0], joint_id = 4, pos = np.array([0,0.,-0.2]))\n",
    "sphere10 = BodySphere(pb_id = ball_ids[9], radius = body_radius[0], joint_id = 5, pos = np.array([0.1,-0.,-0.]))\n",
    "sphere11 = BodySphere(pb_id = ball_ids[10], radius = body_radius[0], joint_id = 6, pos = np.array([0.,-0.,-0.]))\n",
    "sphere12 = BodySphere(pb_id = ball_ids[11], radius = body_radius[0], joint_id = 7, pos = np.array([0.,-0.,-0.]))\n",
    "body_spheres = [sphere1, sphere2, sphere3, sphere4, sphere5, sphere6, sphere7, sphere8, sphere9, \n",
    "               sphere10, sphere11, sphere12]"
   ]
  },
  {
   "cell_type": "markdown",
   "id": "f4f5a9c4-874d-4108-8647-b24db73eb0d0",
   "metadata": {},
   "source": [
    "#### Test the FK function"
   ]
  },
  {
   "cell_type": "code",
   "execution_count": 15,
   "id": "b0a6ab44-6d1d-4d10-a3d4-9a586e2489ac",
   "metadata": {},
   "outputs": [],
   "source": [
    "q = joint_limits[0] + np.random.rand(7)*(joint_limits[1]-joint_limits[0])\n",
    "T, Ts = compute_T(q)\n",
    "set_q_std(q)"
   ]
  },
  {
   "cell_type": "code",
   "execution_count": 16,
   "id": "e5b7eb4f-7bd5-48fc-9775-970c07b4cd55",
   "metadata": {},
   "outputs": [],
   "source": [
    "update_pos_spheres(body_spheres, Ts, offset = p0 + np.array([0,0,-0.05]))\n",
    "visualize_pos_spheres(body_spheres)"
   ]
  },
  {
   "cell_type": "markdown",
   "id": "03c1b637-b5c7-4277-b4e1-e34b40f5450a",
   "metadata": {},
   "source": [
    "#### IK as optimization"
   ]
  },
  {
   "cell_type": "markdown",
   "id": "54327543-ca25-401c-a1c2-1d2dd3e2816b",
   "metadata": {},
   "source": [
    "#### Note for Tobias:\n",
    "- shift the FK result by the robot base\n",
    "- 0.05 shift in pybullet (OK)\n",
    "- global variables for the cost (pos_target, sdf_matr, body_spheres)"
   ]
  },
  {
   "cell_type": "code",
   "execution_count": 18,
   "id": "a3529a01-dad2-4471-9c35-ef394a463cb6",
   "metadata": {},
   "outputs": [],
   "source": [
    "def calc_cost(q, w_obs = 10):\n",
    "    T, Ts = compute_T(q)\n",
    "    pos = T[:3,3] + p0\n",
    "    err = np.linalg.norm(pos-pos_target)\n",
    "    update_pos_spheres(body_spheres, Ts, offset = +p0 + np.array([0,0,-0.05]))\n",
    "    for sphere in body_spheres:\n",
    "        cost = w_obs*barrier_obs(compute_sdf(sphere.abs_pos), margin=sphere.radius)\n",
    "        err += cost\n",
    "    return err"
   ]
  },
  {
   "cell_type": "markdown",
   "id": "02cf8ee7-b793-44e6-aeca-b332b1ac07f0",
   "metadata": {},
   "source": [
    "### Solve using scipy"
   ]
  },
  {
   "cell_type": "code",
   "execution_count": 19,
   "id": "6f04aeae-8acf-4f5c-8ba3-44e76e999b72",
   "metadata": {},
   "outputs": [],
   "source": [
    "pos_target = np.array([0.7,-0.5,0.3])\n",
    "p.resetBasePositionAndOrientation(target_id, pos_target, (0,0,0,1))"
   ]
  },
  {
   "cell_type": "markdown",
   "id": "d4bbc6a4-4e1d-407f-b7da-3e5a3e4d1fc0",
   "metadata": {},
   "source": [
    "#### Initialize using N random samples and pick the best one"
   ]
  },
  {
   "cell_type": "code",
   "execution_count": 25,
   "id": "84be57a3-635c-494d-a5ff-40eb5e6fc999",
   "metadata": {},
   "outputs": [
    {
     "name": "stdout",
     "output_type": "stream",
     "text": [
      "0.0937122503855981\n"
     ]
    }
   ],
   "source": [
    "qs = joint_limits[0] + np.random.rand(4000,7)*(joint_limits[1]-joint_limits[0])\n",
    "\n",
    "costs = []\n",
    "for i,q in enumerate(qs):\n",
    "    costs.append(calc_cost(q))\n",
    "idx = np.argmin(costs)\n",
    "q0 = qs[idx]\n",
    "print(costs[idx])"
   ]
  },
  {
   "cell_type": "markdown",
   "id": "930b0a3f-827d-4c76-864a-a1efbaa0578b",
   "metadata": {},
   "source": [
    "#### Initialize using random sample"
   ]
  },
  {
   "cell_type": "code",
   "execution_count": 24,
   "id": "c036dbba-fbd7-4344-b36d-7c83e23ee203",
   "metadata": {},
   "outputs": [],
   "source": [
    "q0 = joint_limits[0] + np.random.rand(7)*(joint_limits[1]-joint_limits[0])\n",
    "set_q_std(q0)"
   ]
  },
  {
   "cell_type": "markdown",
   "id": "cc76c33f-8d5d-413c-8975-e0cb96bf7f64",
   "metadata": {},
   "source": [
    "#### Solve"
   ]
  },
  {
   "cell_type": "code",
   "execution_count": 26,
   "id": "eed841cf-e6fa-4df3-adef-96b8ab01e7f6",
   "metadata": {
    "scrolled": true,
    "tags": []
   },
   "outputs": [
    {
     "name": "stdout",
     "output_type": "stream",
     "text": [
      "0.014605454038706528\n",
      "0.010618394046948625\n",
      "0.003051254123573261\n",
      "0.0013490459644987611\n",
      "0.0007027601191039007\n",
      "0.0004361512085080782\n",
      "0.00031968438876656824\n",
      "0.0001648102673402822\n",
      "9.103637774869425e-05\n",
      "4.644126133048379e-05\n",
      "3.0338375961750664e-05\n",
      "2.6156171127868723e-05\n",
      "1.857039125343312e-05\n",
      "6.041505166607212e-06\n",
      "3.6230700756483928e-06\n",
      "2.760326071040622e-06\n",
      "1.8548707312242082e-06\n",
      "1.0631118087038472e-06\n",
      "1.0036776449904113e-06\n",
      "Warning: Desired error not necessarily achieved due to precision loss.\n",
      "         Current function value: 0.000001\n",
      "         Iterations: 19\n",
      "         Function evaluations: 644\n",
      "         Gradient evaluations: 79\n"
     ]
    }
   ],
   "source": [
    "def callback(xk):\n",
    "    print(calc_cost(xk.flatten()))\n",
    "    return\n",
    "\n",
    "res = minimize(calc_cost, q0, \n",
    "               method='BFGS', options={'disp':True, 'maxiter':1000}, callback=callback)"
   ]
  },
  {
   "cell_type": "markdown",
   "id": "7016f041-a04c-49fb-a238-f9c5dec29e81",
   "metadata": {},
   "source": [
    "#### Visualize the result"
   ]
  },
  {
   "cell_type": "code",
   "execution_count": 27,
   "id": "ed3a59eb-e1d4-4bd5-a9b7-ead8d0d79fe9",
   "metadata": {},
   "outputs": [],
   "source": [
    "q = res['x']\n",
    "set_q_std(q)\n",
    "\n",
    "T, Ts = compute_T(q)\n",
    "update_pos_spheres(body_spheres, Ts, offset=p0 + np.array([0,0,-0.05]))\n",
    "visualize_pos_spheres(body_spheres)"
   ]
  }
 ],
 "metadata": {
  "kernelspec": {
   "display_name": "Python 3",
   "language": "python",
   "name": "python3"
  },
  "language_info": {
   "codemirror_mode": {
    "name": "ipython",
    "version": 3
   },
   "file_extension": ".py",
   "mimetype": "text/x-python",
   "name": "python",
   "nbconvert_exporter": "python",
   "pygments_lexer": "ipython3",
   "version": "3.9.5"
  }
 },
 "nbformat": 4,
 "nbformat_minor": 5
}
