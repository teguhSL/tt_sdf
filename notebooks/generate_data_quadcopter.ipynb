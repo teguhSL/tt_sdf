{
 "cells": [
  {
   "cell_type": "markdown",
   "metadata": {},
   "source": [
    "# Data Generation for quadcopter system with various obstacles (sphere, capsule, box)"
   ]
  },
  {
   "cell_type": "raw",
   "metadata": {},
   "source": [
    "the main difference:\n",
    "1. When defining the obstacle, include the 'obs_type' key\n",
    "2. use setup_ilqr_quadcopter_general for ilqr"
   ]
  },
  {
   "cell_type": "code",
   "execution_count": 1,
   "metadata": {},
   "outputs": [],
   "source": [
    "import sys\n",
    "import os\n",
    "import random\n",
    "import math\n",
    "import logging\n",
    "import time\n",
    "from tqdm.notebook import tqdm\n",
    "\n",
    "sys.path.append('../lib')\n",
    "\n",
    "import numpy as np\n",
    "import matplotlib.pyplot as plt\n",
    "from scipy.spatial import distance\n",
    "from IPython.display import clear_output\n",
    "import time\n",
    "from ocp import *\n",
    "from costs import *\n",
    "from ocp_utils import *\n",
    "from env_creator import EnvCreator, generate_sdf_rep\n",
    "from tensor_decomp import apply_tt\n",
    "from visualization_utils import plot_traj_projections, plot_traj_and_obs_3d\n",
    "\n",
    "import pybullet as p\n",
    "import pybullet_data\n",
    "\n",
    "import trimesh\n",
    "\n",
    "%load_ext autoreload\n",
    "%autoreload 2\n",
    "np.set_printoptions(precision=4, suppress=True)"
   ]
  },
  {
   "cell_type": "markdown",
   "metadata": {},
   "source": [
    "## Steps of trajectory optimization \n",
    "\n",
    "1. Define the dynamical system (e.g., double integrator, 2d robot, n-d manipulator, etc.)\n",
    "2. Define the cost functions\n",
    "3. Construct the ILQR problem\n",
    "4. Solve"
   ]
  },
  {
   "cell_type": "markdown",
   "metadata": {
    "tags": []
   },
   "source": [
    "## Pybullet"
   ]
  },
  {
   "cell_type": "code",
   "execution_count": 2,
   "metadata": {},
   "outputs": [],
   "source": [
    "p.connect(p.GUI)\n",
    "# p.connect(p.DIRECT)\n",
    "p.setAdditionalSearchPath(pybullet_data.getDataPath())"
   ]
  },
  {
   "cell_type": "code",
   "execution_count": 3,
   "metadata": {},
   "outputs": [],
   "source": [
    "p.resetSimulation()"
   ]
  },
  {
   "cell_type": "markdown",
   "metadata": {},
   "source": [
    "## iLQR functions "
   ]
  },
  {
   "cell_type": "markdown",
   "metadata": {
    "tags": [],
    "toc-hr-collapsed": true
   },
   "source": [
    "### Setup the ILQR & Solve"
   ]
  },
  {
   "cell_type": "code",
   "execution_count": 4,
   "metadata": {},
   "outputs": [
    {
     "name": "stdout",
     "output_type": "stream",
     "text": [
      "Start config: [-1 -1 -1  0  0  0  0  0  0  0  0  0]\n",
      "Target config: [1 1 1 0 0 0 0 0 0 0 0 0]\n",
      "Via: [ 0  0 -1  0  0  0  0  0  0  0  0  0]\n"
     ]
    }
   ],
   "source": [
    "### Define system and timesteps \n",
    "\n",
    "T = 100 # number of timesteps \n",
    "Dx, Du = 12, 4 #dimensions of x and u\n",
    "\n",
    "x0 = np.array([-1,-1,-1,0,0,0,0,0,0,0,0,0])\n",
    "x_target = np.array([1, 1, 1, 0,0, 0,0,0,0,0,0,0])\n",
    "x_w = np.array([0,0,-1,0,0,0,0,0,0,0,0,0])\n",
    "print(\"Start config: {}\\nTarget config: {}\\nVia: {}\".format(x0, x_target, x_w))\n",
    "\n",
    "# Define obstacles \n",
    "obs1 = {\n",
    "    'pos': np.array([-0.3, -0.1, 0.2]), # obstacle position\n",
    "    'rad': 0.45,                     # radius of the obstacle \n",
    "    'length':0.3,\n",
    "    'w': 100.,                       # weight of obstacle cost\n",
    "    'd_marg': 0.1,                    # margin of obstacle\n",
    "    'obs_type':p.GEOM_CAPSULE\n",
    "    }\n",
    "\n",
    "obs2 = {'pos': np.array([0.2, 0.2, -0.2]), \n",
    "        'halfExtents': [0.4,0.4,0.1], \n",
    "        'w': 100.,   \n",
    "        'd_marg': 0.1  ,\n",
    "        'obs_type':p.GEOM_BOX\n",
    "    }\n",
    "\n",
    "obstacles = [obs1, obs2]\n",
    "\n",
    "# set ilqr params \n",
    "max_iterations = 100"
   ]
  },
  {
   "cell_type": "code",
   "execution_count": 9,
   "metadata": {},
   "outputs": [],
   "source": [
    "p.resetSimulation()"
   ]
  },
  {
   "cell_type": "markdown",
   "metadata": {},
   "source": [
    "#### Create cost function between Sphere to any object"
   ]
  },
  {
   "cell_type": "code",
   "execution_count": 10,
   "metadata": {},
   "outputs": [],
   "source": [
    "x0 = np.array([-1,-1,0.3,0,0,0,0,0,0,0,0,0])\n",
    "x_target = np.array([1,1,.7,0,0,0,0,0,0,0,0,0])\n",
    "\n",
    "quad_id, obj_id, init_id, target_id, border_id, obstacle_ids = init_pybullet_quadcopter(x0, x_target, obstacles)\n",
    "\n",
    "prob, robot_sys = setup_ilqr_quadcopter_general(100, x0, x_target, obstacles, obj_id)\n",
    "\n",
    "p.resetBasePositionAndOrientation(obj_id, x0[:3], (0,0,0,1))"
   ]
  },
  {
   "cell_type": "markdown",
   "metadata": {},
   "source": [
    "#### Create initialisation & solve iLQR"
   ]
  },
  {
   "cell_type": "code",
   "execution_count": 11,
   "metadata": {},
   "outputs": [],
   "source": [
    "xs_init, us_init = create_standard_init(robot_sys, x0, T)\n",
    "\n",
    "xs, us, ddp = solve_ilqr(prob, xs_init, us_init, iterations=max_iterations, th_grad = 1e-9, th_stop = 1e-9)"
   ]
  },
  {
   "cell_type": "code",
   "execution_count": 12,
   "metadata": {},
   "outputs": [],
   "source": [
    "# plot_traj(xs, obj_id, dt = 0.04)\n",
    "robot_sys.vis_traj(quad_id, xs, changeCamera = False, dt = 0.05)"
   ]
  },
  {
   "cell_type": "raw",
   "metadata": {},
   "source": [
    "plot_traj_projections(xs, obstacles)"
   ]
  },
  {
   "cell_type": "markdown",
   "metadata": {},
   "source": [
    "***"
   ]
  },
  {
   "cell_type": "markdown",
   "metadata": {
    "tags": []
   },
   "source": [
    "## Data generation "
   ]
  },
  {
   "cell_type": "markdown",
   "metadata": {},
   "source": [
    "#### Randomize the init & goal positions"
   ]
  },
  {
   "cell_type": "code",
   "execution_count": 13,
   "metadata": {},
   "outputs": [],
   "source": [
    "# include check that start and goal don't coincide / have a certain distance to eachother \n",
    "xrange1 = (-1., -0.3)\n",
    "yrange1 = (-1., -0.3)\n",
    "zrange1 = (-1., -0.3)\n",
    "\n",
    "xrange2 = (0.3, 1.)\n",
    "yrange2 = (0.3, 1.)\n",
    "zrange2 = (0.3, 1.)\n",
    "\n",
    "num_samples = 100\n",
    "init_pos = []\n",
    "goal_pos = []\n",
    "\n",
    "for i in range(num_samples): \n",
    "    init_pos.append(np.array([random.uniform(*xrange1), random.uniform(*yrange1), random.uniform(*zrange1),0,0,0])) \n",
    "    goal_pos.append(np.array([random.uniform(*xrange2), random.uniform(*yrange2), random.uniform(*zrange2),0,0,0]))"
   ]
  },
  {
   "cell_type": "markdown",
   "metadata": {},
   "source": [
    "#### Randomize obstacles"
   ]
  },
  {
   "cell_type": "code",
   "execution_count": 14,
   "metadata": {},
   "outputs": [],
   "source": [
    "# adapt obstacle parameters \n",
    "xrange4 = (-0.4, 0.4)\n",
    "yrange4 = (-0.4, 0.4)\n",
    "zrange4 = (-0.4, 0.4)\n",
    "\n",
    "\n",
    "num_positions = 1000\n",
    "obs_positions4 = []\n",
    "[obs_positions4.append(np.array(\n",
    "    [random.uniform(*xrange4), \n",
    "     random.uniform(*yrange4), \n",
    "     random.uniform(*zrange4)])) \n",
    " for i in range(num_positions) ]\n",
    "\n",
    "obs_positions4 = np.array(obs_positions4)\n",
    "obs_positions = [obs_positions4]"
   ]
  },
  {
   "cell_type": "code",
   "execution_count": 15,
   "metadata": {},
   "outputs": [],
   "source": [
    "#for multiple obstacle\n",
    "num_radii = 5 \n",
    "num_length = 5\n",
    "num_length_half = 5\n",
    "radii = np.linspace(0.3, 0.5, num_radii)\n",
    "lengths = np.linspace(0.3, 0.5, num_length)\n",
    "rad_capsules = np.linspace(0.3, 0.5, num_radii)\n",
    "x_length = np.linspace(0.3, 0.5, num_length_half)\n",
    "y_length = np.linspace(0.3, 0.5, num_length_half)\n",
    "z_length = np.linspace(0.1, 0.5, num_length_half)\n",
    "half_extents = np.vstack([x_length, y_length, z_length]).T"
   ]
  },
  {
   "cell_type": "markdown",
   "metadata": {},
   "source": [
    "#### Pick an obstacle randomly"
   ]
  },
  {
   "cell_type": "code",
   "execution_count": 16,
   "metadata": {},
   "outputs": [],
   "source": [
    "def gen_random_obstacle(n=1):\n",
    "    #types: spheres:0, box:1, capsule:2\n",
    "    obstacles = []\n",
    "    for i in range(n):\n",
    "        obstacle = {'w':100., 'd_marg':0.20}\n",
    "\n",
    "        #randomize pos\n",
    "        idx = np.random.randint(len(obs_positions[0]))\n",
    "        pos = obs_positions[0][idx]\n",
    "        obstacle['pos'] = pos\n",
    "\n",
    "        obs_type = np.random.randint(3)\n",
    "        if obs_type == 0:\n",
    "            rad = np.random.choice(radii)\n",
    "            obstacle['rad'] = rad\n",
    "            obstacle['obs_type'] = p.GEOM_SPHERE\n",
    "        elif obs_type == 1:\n",
    "            idx = np.random.randint(len(half_extents))\n",
    "            obstacle['halfExtents'] = half_extents[idx]\n",
    "            obstacle['obs_type'] = p.GEOM_BOX\n",
    "        elif obs_type ==2:\n",
    "            rad = np.random.choice(rad_capsules)\n",
    "            length = np.random.choice(lengths)\n",
    "            obstacle['rad'] = rad\n",
    "            obstacle['length'] = length\n",
    "            obstacle['obs_type'] = p.GEOM_CAPSULE\n",
    "\n",
    "        obstacles += [obstacle]\n",
    "    return obstacles\n",
    "# quad_id, obj_id, init_id, target_id, border_id, obstacle_ids = init_pybullet_quadcopter(x0, x_target, obstacles)"
   ]
  },
  {
   "cell_type": "markdown",
   "metadata": {
    "tags": []
   },
   "source": [
    "#### Solve ilqr"
   ]
  },
  {
   "cell_type": "code",
   "execution_count": 40,
   "metadata": {},
   "outputs": [],
   "source": [
    "obstacles = gen_random_obstacle(3)\n",
    "quad_id, obj_id, init_id, target_id, border_id, obstacle_ids = init_pybullet_quadcopter(x0, x_target, obstacles)\n",
    "\n",
    "# Setup and solve problem \n",
    "prob, lin_sys = setup_ilqr_quadcopter_general(T, x0, x_target, obstacles, obj_id)\n",
    "\n",
    "# get standard initialization\n",
    "xs_init, us_init = create_standard_init(lin_sys, x0, T)\n",
    "\n",
    "xs, us, ddp = solve_ilqr(prob, xs_init, us_init, iterations=max_iterations, th_grad = 1e-9, th_stop = 1e-9)"
   ]
  },
  {
   "cell_type": "code",
   "execution_count": 42,
   "metadata": {},
   "outputs": [],
   "source": [
    "plot_traj(xs, obj_id)"
   ]
  },
  {
   "cell_type": "markdown",
   "metadata": {},
   "source": [
    "***"
   ]
  },
  {
   "cell_type": "markdown",
   "metadata": {
    "tags": []
   },
   "source": [
    "### Batch Data Generation"
   ]
  },
  {
   "cell_type": "code",
   "execution_count": 16,
   "metadata": {
    "scrolled": true,
    "tags": []
   },
   "outputs": [],
   "source": [
    "# experiment_name = 'start_goal_fixed_100pos_5rad'\n",
    "experiment_name = 'quad_mult_obs_var_start_goal_1000samples_three_obstacles'\n",
    "log_file = '../../data/envs/%s/data_generation.txt'%experiment_name\n",
    "os.makedirs(os.path.dirname(log_file), exist_ok=True)\n",
    "\n",
    "w_obs = 100.   # weight of the obstacle cost\n",
    "d_margin = 0.1 # margin of the obstacle\n",
    "target_thres = 0.1 # does it reach target close enough -> target status (bool)\n",
    "via_point = np.array([0,0,-1,0,0,0]) # bias \n",
    "success_track = []\n",
    "data_set = []\n",
    "exp_idx = 0"
   ]
  },
  {
   "cell_type": "code",
   "execution_count": 157,
   "metadata": {},
   "outputs": [],
   "source": [
    "num_experiments = 2000\n",
    "max_iterations = 100\n",
    "for i in tqdm(range(num_experiments)): \n",
    "    if not fix_start_goal: \n",
    "        pos_idx = random.randint(0,len(init_pos)-1)\n",
    "        x0 = init_pos[pos_idx]\n",
    "        x_target = goal_pos[pos_idx]\n",
    "    else: \n",
    "        x0 = np.array([-1., -1., -1., 0., 0., 0.])\n",
    "        x_target = np.array([1., 1., 1., 0., 0., 0.])\n",
    "    \n",
    "    x0 = np.concatenate([x0, np.zeros(6)])\n",
    "    x_target = np.concatenate([x_target, np.zeros(6)])\n",
    "    \n",
    "    exp_obstacles = gen_random_obstacle(3)\n",
    "    quad_id, obj_id, init_id, target_id, border_id, obstacle_ids = init_pybullet_quadcopter(x0, x_target, exp_obstacles)\n",
    "    \n",
    "    col_status_init, _ = check_collision_general(exp_obstacles, obj_id, x0)\n",
    "    col_status_goal, _ = check_collision_general(exp_obstacles, obj_id, x_target)\n",
    "    \n",
    "    if col_status_init or col_status_goal:\n",
    "        print('Init/goal collides with obstacle')\n",
    "        continue\n",
    "    \n",
    "    \n",
    "    exp_idx += 1 \n",
    "\n",
    "    # Setup and solve problem \n",
    "    prob, lin_sys = setup_ilqr_quadcopter_general(T, x0, x_target, exp_obstacles, obj_id)#     xs_init, us_init = create_standard_init(lin_sys, x0, T)\n",
    "    xs_init, us_init = create_standard_init(lin_sys, x0, T)\n",
    "    xs, us, ddp = solve_ilqr(prob, xs_init, us_init, iterations=max_iterations, th_grad = 1e-6, th_stop = 1e-6)\n",
    "            \n",
    "    # check status             \n",
    "    status, target_status, collision_status = check_cost_general(xs, x_target, exp_obstacles, obj_id)\n",
    "    status_info = 'Reach target: {}\\nNo collision: {}\\nSUCCESS: {}'.format(target_status, collision_status, status)\n",
    "    logging.info(status_info)\n",
    "    success_track.append(status)\n",
    "\n",
    "    # save \n",
    "    data = dict()\n",
    "    data['xs'] = np.array(ddp.xs)\n",
    "    data['us'] = np.array(us)\n",
    "    data['x0'] = x0\n",
    "    data['xT'] = x_target\n",
    "    data['x_w'] = via_point\n",
    "    data['obstacles'] = exp_obstacles\n",
    "    data['status'] = status\n",
    "    data['target_status'] = target_status\n",
    "    data['collision_status'] = collision_status\n",
    "    data['cost'] = ddp.cost\n",
    "    data['iter'] = ddp.iter\n",
    "    data_set.append(data)\n",
    "    np.save('../../data/envs/{}/data_exp{}.npy'.format(experiment_name,exp_idx), data)        \n",
    "\n",
    "print('Success rate is {}'.format(np.sum(success_track)/(exp_idx)))"
   ]
  }
 ],
 "metadata": {
  "kernelspec": {
   "display_name": "Python 3",
   "language": "python",
   "name": "python3"
  },
  "language_info": {
   "codemirror_mode": {
    "name": "ipython",
    "version": 3
   },
   "file_extension": ".py",
   "mimetype": "text/x-python",
   "name": "python",
   "nbconvert_exporter": "python",
   "pygments_lexer": "ipython3",
   "version": "3.9.5"
  },
  "toc": {
   "base_numbering": 1,
   "nav_menu": {},
   "number_sections": true,
   "sideBar": true,
   "skip_h1_title": false,
   "title_cell": "Table of Contents",
   "title_sidebar": "Contents",
   "toc_cell": false,
   "toc_position": {
    "height": "calc(100% - 180px)",
    "left": "10px",
    "top": "150px",
    "width": "268.9338073730469px"
   },
   "toc_section_display": true,
   "toc_window_display": true
  },
  "toc-showtags": false
 },
 "nbformat": 4,
 "nbformat_minor": 4
}
